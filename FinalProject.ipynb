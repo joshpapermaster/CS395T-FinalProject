{
 "cells": [
  {
   "cell_type": "code",
   "execution_count": 55,
   "metadata": {},
   "outputs": [],
   "source": [
    "# Program To Read video \n",
    "# and Extract Frames \n",
    "\n",
    "# import sys\n",
    "# !{sys.executable} -m pip install opencv-python\n",
    "# !{sys.executable} -m pip install moviepy\n",
    "\n",
    "import cv2 \n",
    "import os\n",
    "import sys\n",
    "import shutil\n",
    "import moviepy.video.io.ImageSequenceClip"
   ]
  },
  {
   "cell_type": "code",
   "execution_count": 46,
   "metadata": {},
   "outputs": [],
   "source": [
    "def FrameCapture(path, vid_num): \n",
    "      \n",
    "    # Path to video file \n",
    "    vidObj = cv2.VideoCapture(path) \n",
    "  \n",
    "    # Used as counter variable \n",
    "    count = 0\n",
    "    success = 1\n",
    "    images=[]\n",
    "    try:\n",
    "        shutil.rmtree(\"lebron_dunk\" + str(vid_num))\n",
    "        os.mkdir(\"lebron_dunk\" + str(vid_num))\n",
    "    except OSError as e:\n",
    "        os.mkdir(\"lebron_dunk\" + str(vid_num))\n",
    "    while success: \n",
    "  \n",
    "        # vidObj object calls read \n",
    "        # function extract frames \n",
    "        success, image = vidObj.read() \n",
    "        # Saves the frames with frame-count \n",
    "        if image is not None and len(image) > 0:\n",
    "            images.append(image)\n",
    "            cv2.imwrite(\"lebron_dunk\" + str(vid_num) + \"/frame\" + str(1000+count) + \".jpg\", image) \n",
    "#                cv2.imwrite(\"frame%d.jpg\" % count, image)\n",
    "        count += 1\n",
    "    return images"
   ]
  },
  {
   "cell_type": "code",
   "execution_count": 47,
   "metadata": {},
   "outputs": [],
   "source": [
    "# for i in range(1, 11):\n",
    "#     FrameCapture(\"movies/lebron_dunk\" + str(i) + \".mp4\", i)"
   ]
  },
  {
   "cell_type": "code",
   "execution_count": null,
   "metadata": {},
   "outputs": [],
   "source": []
  },
  {
   "cell_type": "code",
   "execution_count": 60,
   "metadata": {},
   "outputs": [],
   "source": [
    "def recreate_movie(image_folder, new_name):\n",
    "    fps=30\n",
    "    image_files = [image_folder+'/'+img for img in os.listdir(image_folder) if img.endswith(\".jpg\")]\n",
    "    image_files.sort()\n",
    "    clip = moviepy.video.io.ImageSequenceClip.ImageSequenceClip(image_files, fps=fps)\n",
    "    clip.write_videofile(new_name + '.mp4')"
   ]
  },
  {
   "cell_type": "code",
   "execution_count": 61,
   "metadata": {},
   "outputs": [
    {
     "name": "stderr",
     "output_type": "stream",
     "text": [
      "t:   8%|▊         | 9/119 [00:00<00:01, 87.24it/s, now=None]"
     ]
    },
    {
     "name": "stdout",
     "output_type": "stream",
     "text": [
      "Moviepy - Building video lebron_1.mp4.\n",
      "Moviepy - Writing video lebron_1.mp4\n",
      "\n"
     ]
    },
    {
     "name": "stderr",
     "output_type": "stream",
     "text": [
      "                                                              \r"
     ]
    },
    {
     "name": "stdout",
     "output_type": "stream",
     "text": [
      "Moviepy - Done !\n",
      "Moviepy - video ready lebron_1.mp4\n"
     ]
    }
   ],
   "source": [
    "recreate_movie('lebron_dunk1', 'lebron_1')"
   ]
  },
  {
   "cell_type": "code",
   "execution_count": null,
   "metadata": {},
   "outputs": [],
   "source": [
    "import torch \n",
    "import numpy as np"
   ]
  },
  {
   "cell_type": "code",
   "execution_count": null,
   "metadata": {},
   "outputs": [],
   "source": [
    "from torchvision import datasets, transforms\n",
    "\n",
    "## YOUR CODE HERE ##\n",
    "batch_size = 10\n",
    "latent_dim = 10\n",
    "transformations = transforms.ToTensor()\n",
    "# mnist_train =  datasets.MNIST(loc_data, train=True, download=True, transform = transformations)\n",
    "# mnist_test = datasets.MNIST(loc_data, train=False, download=True, transform = transformations)"
   ]
  },
  {
   "cell_type": "code",
   "execution_count": null,
   "metadata": {},
   "outputs": [],
   "source": [
    "images = FrameCapture(\"movies/lebron_dunk1.mp4\", 1)\n",
    "np.array(images).shape\n",
    "total_len = 540*960"
   ]
  },
  {
   "cell_type": "code",
   "execution_count": null,
   "metadata": {},
   "outputs": [],
   "source": [
    "from torch.utils.data import DataLoader\n",
    "\n",
    "train_loader = DataLoader(images,batch_size=batch_size,drop_last = True,shuffle=False)"
   ]
  },
  {
   "cell_type": "code",
   "execution_count": null,
   "metadata": {},
   "outputs": [],
   "source": [
    "from torch import nn\n",
    "class Encoder(nn.Module):\n",
    "  def __init__(self, latent_dim):\n",
    "    super(Encoder, self).__init__()\n",
    "    ## YOUR CODE HERE ##\n",
    "    self.lin1 = nn.Linear(total_len, total_len/2)\n",
    "    self.lin2 = nn.Linear(total_len/2, total_len/4)\n",
    "    self.lin3 = nn.Linear(total_len/4, total_len/10)\n",
    "    self.lin4a = nn.Linear(total_len/10, latent_dim)\n",
    "    self.lin4b = nn.Linear(total_len/10, latent_dim)\n",
    "  \n",
    "  def forward(self, x):\n",
    "    ## YOUR CODE HERE ##\\\n",
    "    x = x.view(-1, total_len)\n",
    "    x = nn.functional.relu(self.lin1(x))\n",
    "    x = nn.functional.relu(self.lin2(x))\n",
    "    x = nn.functional.relu(self.lin3(x))\n",
    "    # mu, log_var\n",
    "    return self.lin4a(x), self.lin4b(x)\n",
    "\n",
    "class Decoder(nn.Module):\n",
    "  def __init__(self, latent_dim):\n",
    "    super(Decoder, self).__init__()\n",
    "    ## YOUR CODE HERE ##\n",
    "    self.lin1 = nn.Linear(latent_dim, total_len/10)\n",
    "    self.lin2 = nn.Linear(total_len/10, total_len/4)\n",
    "    self.lin3 = nn.Linear(total_len/4, total_len/2)\n",
    "    self.lin4 = nn.Linear(total_len/2, total_len)\n",
    "\n",
    "  def forward(self,x):\n",
    "    ## YOUR CODE HERE ##\n",
    "    x = nn.functional.relu(self.lin1(x))\n",
    "    x = nn.functional.relu(self.lin2(x))\n",
    "    x = nn.functional.relu(self.lin3(x))\n",
    "    x = torch.sigmoid(self.lin4(x))\n",
    "    return x.view(-1, 540, 960)"
   ]
  }
 ],
 "metadata": {
  "kernelspec": {
   "display_name": "Python 3",
   "language": "python",
   "name": "python3"
  },
  "language_info": {
   "codemirror_mode": {
    "name": "ipython",
    "version": 3
   },
   "file_extension": ".py",
   "mimetype": "text/x-python",
   "name": "python",
   "nbconvert_exporter": "python",
   "pygments_lexer": "ipython3",
   "version": "3.7.3"
  }
 },
 "nbformat": 4,
 "nbformat_minor": 4
}
