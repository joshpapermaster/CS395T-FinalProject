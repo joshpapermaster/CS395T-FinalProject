{
 "cells": [
  {
   "cell_type": "code",
   "execution_count": 1,
   "metadata": {},
   "outputs": [],
   "source": [
    "# Program To Read video \n",
    "# and Extract Frames \n",
    "\n",
    "# import sys\n",
    "# !{sys.executable} -m pip install opencv-python\n",
    "# !{sys.executable} -m pip install moviepy\n",
    "\n",
    "import cv2 \n",
    "import os\n",
    "import sys\n",
    "import shutil\n",
    "import numpy as np\n",
    "import moviepy.video.io.ImageSequenceClip\n",
    "import torch \n",
    "import numpy as np\n",
    "from PIL import Image\n",
    "from torch import optim, nn\n",
    "import matplotlib.pyplot as plt\n",
    "from torchvision.transforms import ToTensor\n",
    "from torchvision import transforms"
   ]
  },
  {
   "cell_type": "code",
   "execution_count": 2,
   "metadata": {},
   "outputs": [],
   "source": [
    "def FrameCapture(path, vid_num): \n",
    "      \n",
    "    # Path to video file \n",
    "    vidObj = cv2.VideoCapture(path) \n",
    "  \n",
    "    # Used as counter variable \n",
    "    count = 0\n",
    "    success = 1\n",
    "    images=[]\n",
    "    try:\n",
    "        shutil.rmtree(\"lebron_dunk\" + str(vid_num))\n",
    "        os.mkdir(\"lebron_dunk\" + str(vid_num))\n",
    "    except OSError as e:\n",
    "        os.mkdir(\"lebron_dunk\" + str(vid_num))\n",
    "    while success: \n",
    "  \n",
    "        # vidObj object calls read \n",
    "        # function extract frames \n",
    "        success, image = vidObj.read() \n",
    "        # Saves the frames with frame-count \n",
    "        if image is not None and len(image) > 0:\n",
    "            cv2.imwrite(\"lebron_dunk\" + str(vid_num) + \"/frame\" + str(1000+count) + \".jpg\", image) \n",
    "            img = Image.open(\"lebron_dunk\" + str(vid_num) + \"/frame\" + str(1000+count) + \".jpg\")\n",
    "            img = img.resize((img.size[0]//10, img.size[1]//10), Image.ANTIALIAS)\n",
    "            img.save(\"lebron_dunk\" + str(vid_num) + \"/frame\" + str(1000+count) + \".jpg\")\n",
    "            img = ToTensor()(img) # unsqueeze to add artificial first dimension\n",
    "            images.append(img)\n",
    "        count += 1\n",
    "#     return np.array(images).astype(np.float32)\n",
    "    return images"
   ]
  },
  {
   "cell_type": "code",
   "execution_count": 143,
   "metadata": {},
   "outputs": [],
   "source": [
    "data = []\n",
    "for i in range(1, 11):\n",
    "    temp = FrameCapture(\"movies/lebron_dunk\" + str(i) + \".mp4\", i)\n",
    "    data.append(temp)"
   ]
  },
  {
   "cell_type": "code",
   "execution_count": null,
   "metadata": {},
   "outputs": [],
   "source": []
  },
  {
   "cell_type": "code",
   "execution_count": 25,
   "metadata": {},
   "outputs": [
    {
     "data": {
      "image/png": "[encoded data removed]",
      "text/plain": [
       "<PIL.Image.Image image mode=RGB size=96x54 at 0x122499668>"
      ]
     },
     "execution_count": 25,
     "metadata": {},
     "output_type": "execute_result"
    }
   ],
   "source": []
  },
  {
   "cell_type": "code",
   "execution_count": 4,
   "metadata": {},
   "outputs": [],
   "source": [
    "def recreate_movie(image_folder, new_name):\n",
    "    fps=30\n",
    "    image_files = [image_folder+'/'+img for img in os.listdir(image_folder) if img.endswith(\".jpg\")]\n",
    "    image_files.sort()\n",
    "    clip = moviepy.video.io.ImageSequenceClip.ImageSequenceClip(image_files, fps=fps)\n",
    "    clip.write_videofile(new_name + '.mp4')"
   ]
  },
  {
   "cell_type": "code",
   "execution_count": 5,
   "metadata": {},
   "outputs": [],
   "source": [
    "def display_tensor_image(result):\n",
    "    im = transforms.ToPILImage()(result).convert(\"RGB\")\n",
    "    display(im)"
   ]
  },
  {
   "cell_type": "code",
   "execution_count": 29,
   "metadata": {},
   "outputs": [
    {
     "name": "stderr",
     "output_type": "stream",
     "text": [
      "                                                              "
     ]
    },
    {
     "name": "stdout",
     "output_type": "stream",
     "text": [
      "Moviepy - Building video recreated_movies/lebron_1.mp4.\n",
      "Moviepy - Writing video recreated_movies/lebron_1.mp4\n",
      "\n",
      "Moviepy - Done !\n",
      "Moviepy - video ready recreated_movies/lebron_1.mp4\n"
     ]
    },
    {
     "name": "stderr",
     "output_type": "stream",
     "text": [
      "\r"
     ]
    }
   ],
   "source": [
    "recreate_movie('lebron_dunk1', 'recreated_movies/lebron_1')"
   ]
  },
  {
   "cell_type": "code",
   "execution_count": 38,
   "metadata": {},
   "outputs": [
    {
     "data": {
      "text/plain": [
       "119"
      ]
     },
     "execution_count": 38,
     "metadata": {},
     "output_type": "execute_result"
    }
   ],
   "source": [
    "len(data[0])"
   ]
  },
  {
   "cell_type": "code",
   "execution_count": 13,
   "metadata": {},
   "outputs": [],
   "source": [
    "from torchvision import datasets, transforms\n",
    "\n",
    "## YOUR CODE HERE ##\n",
    "latent_dim = 20\n",
    "transformations = transforms.ToTensor()\n",
    "# mnist_train =  datasets.MNIST(loc_data, train=True, download=True, transform = transformations)\n",
    "# mnist_test = datasets.MNIST(loc_data, train=False, download=True, transform = transformations)"
   ]
  },
  {
   "cell_type": "code",
   "execution_count": 49,
   "metadata": {},
   "outputs": [],
   "source": [
    "images = data[0]\n",
    "batch_size = 5\n",
    "x_len = images[0].shape[0]\n",
    "y_len = images[0].shape[1]\n",
    "z_len = images[0].shape[2]\n",
    "total_len = images[0].shape[0]*images[0].shape[1]*images[0].shape[2]"
   ]
  },
  {
   "cell_type": "code",
   "execution_count": 50,
   "metadata": {},
   "outputs": [],
   "source": [
    "from torch.utils.data import DataLoader\n",
    "train_loader = DataLoader(images,batch_size=batch_size,drop_last = True,shuffle=True)"
   ]
  },
  {
   "cell_type": "code",
   "execution_count": 100,
   "metadata": {},
   "outputs": [],
   "source": [
    "\n",
    "class Encoder(nn.Module):\n",
    "  def __init__(self, x_len=x_len, y_len=y_len, z_len=z_len, latent_dim=latent_dim):\n",
    "    super(Encoder, self).__init__()\n",
    "    ## YOUR CODE HERE ##\n",
    "    total_len = x_len*y_len*z_len\n",
    "    self.lin1 = nn.Linear(total_len, total_len*3//4)\n",
    "    self.lin2 = nn.Linear(total_len*3//4, total_len*1//4)\n",
    "    self.lin3a = nn.Linear(total_len*1//4, latent_dim)\n",
    "    self.lin3b = nn.Linear(total_len*1//4, latent_dim)\n",
    "  \n",
    "  def forward(self, x):\n",
    "    ## YOUR CODE HERE ##\\\n",
    "    x = x.view(-1, total_len)\n",
    "#     print(x)\n",
    "    x = nn.functional.relu(self.lin1(x))\n",
    "#     print(x)\n",
    "    x = nn.functional.relu(self.lin2(x))\n",
    "    # mu, log_var\n",
    "    return self.lin3a(x), self.lin3b(x)\n",
    "\n",
    "class Decoder(nn.Module):\n",
    "  def __init__(self, x_len=x_len, y_len=y_len, z_len=z_len, latent_dim=latent_dim):\n",
    "    super(Decoder, self).__init__()\n",
    "    ## YOUR CODE HERE ##\n",
    "    total_len = x_len*y_len*z_len\n",
    "    self.lin1 = nn.Linear(latent_dim, total_len*1//4)\n",
    "    self.lin2 = nn.Linear(total_len*1//4, total_len*3//4)\n",
    "    self.lin3 = nn.Linear(total_len*3//4, total_len)\n",
    "\n",
    "  def forward(self,x):\n",
    "    ## YOUR CODE HERE ##\n",
    "    x = nn.functional.relu(self.lin1(x))\n",
    "    x = nn.functional.relu(self.lin2(x))\n",
    "    x = torch.sigmoid(self.lin3(x))\n",
    "    return x.view(-1, x_len, y_len, z_len)"
   ]
  },
  {
   "cell_type": "code",
   "execution_count": 52,
   "metadata": {},
   "outputs": [],
   "source": [
    "from torch import exp, randn_like\n",
    "def sample(mu, logvar):\n",
    "  ## YOUR CODE HERE ##\n",
    "    std_dev = exp(0.5*logvar)\n",
    "    return randn_like(mu)*std_dev + mu"
   ]
  },
  {
   "cell_type": "code",
   "execution_count": 53,
   "metadata": {},
   "outputs": [],
   "source": [
    "from scipy.stats import norm\n",
    "def vae_loss(x, x_hat, mu, logvar):\n",
    "  ## YOUR CODE HERE ##\n",
    "  # MSE LOSS + KL DIVERGENCE \n",
    "    mse_loss = torch.nn.MSELoss(reduction='sum')\n",
    "#     mse = torch.mean(torch.pow(x-x_hat, 2))\n",
    "    kl = -0.5*torch.mean(1 + logvar - torch.pow(mu, 2) - torch.exp(logvar))\n",
    "    return (mse_loss(x, x_hat) + kl)"
   ]
  },
  {
   "cell_type": "code",
   "execution_count": 54,
   "metadata": {},
   "outputs": [],
   "source": [
    "\n",
    "\n",
    "## YOUR CODE HERE ##\n",
    "encoder = Encoder(latent_dim=latent_dim)\n",
    "decoder = Decoder(latent_dim=latent_dim)\n",
    "params = list(encoder.parameters())+list(decoder.parameters())\n",
    "optimizer = optim.Adam(params, lr=1e-3)"
   ]
  },
  {
   "cell_type": "code",
   "execution_count": 101,
   "metadata": {},
   "outputs": [],
   "source": [
    "def train(encoder, decoder, train_loader, optimizer, num_epochs = 10, x_len=x_len, y_len=y_len,z_len=z_len):\n",
    "    encoder.train()\n",
    "    decoder.train()\n",
    "    total_len = x_len*y_len*z_len\n",
    "    i=0\n",
    "    for epoch in range(num_epochs):\n",
    "        train_loss=0\n",
    "        for idx, data in enumerate(train_loader):\n",
    "            data = data.view(-1, x_len, y_len, z_len)\n",
    "#             print(data.shape)\n",
    "            optimizer.zero_grad()\n",
    "            mu, log_var = encoder(data)\n",
    "            result = decoder(sample(mu, log_var))\n",
    "#             print(result)\n",
    "#             if i != 0:\n",
    "#                 return\n",
    "            loss = vae_loss(result, data, mu, log_var)\n",
    "            i+=1\n",
    "            loss.backward()\n",
    "            train_loss += loss.item()\n",
    "            optimizer.step()\n",
    "            if idx%10 == 0 :\n",
    "                print(\"Epoch: \" + str(epoch+1) + \" Batch: \" + str(idx+1)+\"/\"+str(len(train_loader.dataset)//batch_size) + \" Loss: \" + str(loss.item() / len(data)))\n",
    "        print(\"Epoch: \" + str(epoch+1) + \" avg loss: \" + str(train_loss / len(train_loader.dataset)))"
   ]
  },
  {
   "cell_type": "code",
   "execution_count": 56,
   "metadata": {
    "collapsed": true,
    "jupyter": {
     "outputs_hidden": true
    }
   },
   "outputs": [
    {
     "name": "stdout",
     "output_type": "stream",
     "text": [
      "Epoch: 1 Batch: 1/23 Loss: 1103.0486328125\n",
      "Epoch: 1 Batch: 11/23 Loss: 1699.45390625\n",
      "Epoch: 1 Batch: 21/23 Loss: 654.380810546875\n",
      "Epoch: 1 avg loss: 1325.7957568769696\n",
      "Epoch: 2 Batch: 1/23 Loss: 465.247509765625\n",
      "Epoch: 2 Batch: 11/23 Loss: 374.208837890625\n",
      "Epoch: 2 Batch: 21/23 Loss: 381.5975341796875\n",
      "Epoch: 2 avg loss: 415.37649356617646\n",
      "Epoch: 3 Batch: 1/23 Loss: 396.3885498046875\n",
      "Epoch: 3 Batch: 11/23 Loss: 394.92109375\n",
      "Epoch: 3 Batch: 21/23 Loss: 459.25390625\n",
      "Epoch: 3 avg loss: 354.7137605042017\n",
      "Epoch: 4 Batch: 1/23 Loss: 384.5193115234375\n",
      "Epoch: 4 Batch: 11/23 Loss: 337.477197265625\n",
      "Epoch: 4 Batch: 21/23 Loss: 332.2826904296875\n",
      "Epoch: 4 avg loss: 326.7909633091518\n",
      "Epoch: 5 Batch: 1/23 Loss: 367.5441162109375\n",
      "Epoch: 5 Batch: 11/23 Loss: 304.22919921875\n",
      "Epoch: 5 Batch: 21/23 Loss: 290.5679931640625\n",
      "Epoch: 5 avg loss: 298.80782747669383\n",
      "Epoch: 6 Batch: 1/23 Loss: 299.9987060546875\n",
      "Epoch: 6 Batch: 11/23 Loss: 301.244189453125\n",
      "Epoch: 6 Batch: 21/23 Loss: 316.9137451171875\n",
      "Epoch: 6 avg loss: 291.0749152688419\n",
      "Epoch: 7 Batch: 1/23 Loss: 328.419873046875\n",
      "Epoch: 7 Batch: 11/23 Loss: 280.472119140625\n",
      "Epoch: 7 Batch: 21/23 Loss: 286.345703125\n",
      "Epoch: 7 avg loss: 272.68308597853206\n",
      "Epoch: 8 Batch: 1/23 Loss: 285.0648193359375\n",
      "Epoch: 8 Batch: 11/23 Loss: 278.2673828125\n",
      "Epoch: 8 Batch: 21/23 Loss: 363.6255126953125\n",
      "Epoch: 8 avg loss: 262.80991293001574\n",
      "Epoch: 9 Batch: 1/23 Loss: 294.9593994140625\n",
      "Epoch: 9 Batch: 11/23 Loss: 251.539453125\n",
      "Epoch: 9 Batch: 21/23 Loss: 277.5572509765625\n",
      "Epoch: 9 avg loss: 278.49384827173054\n",
      "Epoch: 10 Batch: 1/23 Loss: 287.48193359375\n",
      "Epoch: 10 Batch: 11/23 Loss: 261.253076171875\n",
      "Epoch: 10 Batch: 21/23 Loss: 297.9785888671875\n",
      "Epoch: 10 avg loss: 268.27243016347165\n",
      "Epoch: 11 Batch: 1/23 Loss: 257.612060546875\n",
      "Epoch: 11 Batch: 11/23 Loss: 268.3744873046875\n",
      "Epoch: 11 Batch: 21/23 Loss: 261.882421875\n",
      "Epoch: 11 avg loss: 252.5785322429753\n",
      "Epoch: 12 Batch: 1/23 Loss: 259.319873046875\n",
      "Epoch: 12 Batch: 11/23 Loss: 262.6026611328125\n",
      "Epoch: 12 Batch: 21/23 Loss: 262.9576904296875\n",
      "Epoch: 12 avg loss: 245.30975136636687\n",
      "Epoch: 13 Batch: 1/23 Loss: 221.2768310546875\n",
      "Epoch: 13 Batch: 11/23 Loss: 233.5125732421875\n",
      "Epoch: 13 Batch: 21/23 Loss: 264.6218505859375\n",
      "Epoch: 13 avg loss: 238.0843916179753\n",
      "Epoch: 14 Batch: 1/23 Loss: 373.92626953125\n",
      "Epoch: 14 Batch: 11/23 Loss: 253.1552734375\n",
      "Epoch: 14 Batch: 21/23 Loss: 243.76044921875\n",
      "Epoch: 14 avg loss: 235.7204836035977\n",
      "Epoch: 15 Batch: 1/23 Loss: 232.2784423828125\n",
      "Epoch: 15 Batch: 11/23 Loss: 249.054345703125\n",
      "Epoch: 15 Batch: 21/23 Loss: 204.43687744140624\n",
      "Epoch: 15 avg loss: 219.1939097172072\n",
      "Epoch: 16 Batch: 1/23 Loss: 222.0121337890625\n",
      "Epoch: 16 Batch: 11/23 Loss: 271.22734375\n",
      "Epoch: 16 Batch: 21/23 Loss: 250.1427978515625\n",
      "Epoch: 16 avg loss: 228.54321186482406\n",
      "Epoch: 17 Batch: 1/23 Loss: 230.7923583984375\n",
      "Epoch: 17 Batch: 11/23 Loss: 228.9921142578125\n",
      "Epoch: 17 Batch: 21/23 Loss: 214.0983642578125\n",
      "Epoch: 17 avg loss: 199.9750827821363\n",
      "Epoch: 18 Batch: 1/23 Loss: 194.77701416015626\n",
      "Epoch: 18 Batch: 11/23 Loss: 238.49697265625\n",
      "Epoch: 18 Batch: 21/23 Loss: 262.214306640625\n",
      "Epoch: 18 avg loss: 206.8288707572873\n",
      "Epoch: 19 Batch: 1/23 Loss: 172.76929931640626\n",
      "Epoch: 19 Batch: 11/23 Loss: 204.108984375\n",
      "Epoch: 19 Batch: 21/23 Loss: 253.417138671875\n",
      "Epoch: 19 avg loss: 206.5271616703322\n",
      "Epoch: 20 Batch: 1/23 Loss: 214.4521240234375\n",
      "Epoch: 20 Batch: 11/23 Loss: 182.7626953125\n",
      "Epoch: 20 Batch: 21/23 Loss: 222.2634765625\n",
      "Epoch: 20 avg loss: 196.8185532513787\n",
      "Epoch: 21 Batch: 1/23 Loss: 177.97821044921875\n",
      "Epoch: 21 Batch: 11/23 Loss: 154.86607666015624\n",
      "Epoch: 21 Batch: 21/23 Loss: 205.7131103515625\n",
      "Epoch: 21 avg loss: 186.39092094357275\n",
      "Epoch: 22 Batch: 1/23 Loss: 155.82066650390624\n",
      "Epoch: 22 Batch: 11/23 Loss: 192.36068115234374\n",
      "Epoch: 22 Batch: 21/23 Loss: 191.51844482421876\n",
      "Epoch: 22 avg loss: 167.73854282924108\n",
      "Epoch: 23 Batch: 1/23 Loss: 150.77769775390624\n",
      "Epoch: 23 Batch: 11/23 Loss: 191.88509521484374\n",
      "Epoch: 23 Batch: 21/23 Loss: 164.4954833984375\n",
      "Epoch: 23 avg loss: 174.9955398174895\n",
      "Epoch: 24 Batch: 1/23 Loss: 165.150439453125\n",
      "Epoch: 24 Batch: 11/23 Loss: 172.43175048828124\n",
      "Epoch: 24 Batch: 21/23 Loss: 187.386669921875\n",
      "Epoch: 24 avg loss: 164.77221320657168\n",
      "Epoch: 25 Batch: 1/23 Loss: 163.142822265625\n",
      "Epoch: 25 Batch: 11/23 Loss: 193.00860595703125\n",
      "Epoch: 25 Batch: 21/23 Loss: 297.812060546875\n",
      "Epoch: 25 avg loss: 210.57547279165573\n",
      "Epoch: 26 Batch: 1/23 Loss: 200.6428955078125\n",
      "Epoch: 26 Batch: 11/23 Loss: 223.7833984375\n",
      "Epoch: 26 Batch: 21/23 Loss: 209.8675048828125\n",
      "Epoch: 26 avg loss: 214.90257763261553\n",
      "Epoch: 27 Batch: 1/23 Loss: 172.60577392578125\n",
      "Epoch: 27 Batch: 11/23 Loss: 209.3813720703125\n",
      "Epoch: 27 Batch: 21/23 Loss: 171.81097412109375\n",
      "Epoch: 27 avg loss: 161.46662505334166\n",
      "Epoch: 28 Batch: 1/23 Loss: 155.5217041015625\n",
      "Epoch: 28 Batch: 11/23 Loss: 167.79718017578125\n",
      "Epoch: 28 Batch: 21/23 Loss: 196.3330078125\n",
      "Epoch: 28 avg loss: 160.4683386538209\n",
      "Epoch: 29 Batch: 1/23 Loss: 147.52637939453126\n",
      "Epoch: 29 Batch: 11/23 Loss: 182.494580078125\n",
      "Epoch: 29 Batch: 21/23 Loss: 190.05225830078126\n",
      "Epoch: 29 avg loss: 162.69521812631302\n",
      "Epoch: 30 Batch: 1/23 Loss: 136.807763671875\n",
      "Epoch: 30 Batch: 11/23 Loss: 149.3328125\n",
      "Epoch: 30 Batch: 21/23 Loss: 154.21005859375\n",
      "Epoch: 30 avg loss: 146.64375215418198\n",
      "Epoch: 31 Batch: 1/23 Loss: 106.3013427734375\n",
      "Epoch: 31 Batch: 11/23 Loss: 152.552294921875\n",
      "Epoch: 31 Batch: 21/23 Loss: 172.68922119140626\n",
      "Epoch: 31 avg loss: 142.58560462759323\n",
      "Epoch: 32 Batch: 1/23 Loss: 141.04700927734376\n",
      "Epoch: 32 Batch: 11/23 Loss: 138.72442626953125\n",
      "Epoch: 32 Batch: 21/23 Loss: 166.8592041015625\n",
      "Epoch: 32 avg loss: 132.1132473985688\n",
      "Epoch: 33 Batch: 1/23 Loss: 127.20592041015625\n",
      "Epoch: 33 Batch: 11/23 Loss: 106.52066650390626\n",
      "Epoch: 33 Batch: 21/23 Loss: 141.32498779296876\n",
      "Epoch: 33 avg loss: 132.5920615316439\n",
      "Epoch: 34 Batch: 1/23 Loss: 146.64964599609374\n",
      "Epoch: 34 Batch: 11/23 Loss: 118.10380859375\n",
      "Epoch: 34 Batch: 21/23 Loss: 132.9759521484375\n",
      "Epoch: 34 avg loss: 134.12474714006697\n",
      "Epoch: 35 Batch: 1/23 Loss: 147.73194580078126\n",
      "Epoch: 35 Batch: 11/23 Loss: 165.329638671875\n",
      "Epoch: 35 Batch: 21/23 Loss: 106.89246826171875\n",
      "Epoch: 35 avg loss: 126.64733630268513\n",
      "Epoch: 36 Batch: 1/23 Loss: 137.18330078125\n",
      "Epoch: 36 Batch: 11/23 Loss: 129.027587890625\n",
      "Epoch: 36 Batch: 21/23 Loss: 113.353662109375\n",
      "Epoch: 36 avg loss: 128.67774591526063\n",
      "Epoch: 37 Batch: 1/23 Loss: 131.3121826171875\n",
      "Epoch: 37 Batch: 11/23 Loss: 119.12938232421875\n",
      "Epoch: 37 Batch: 21/23 Loss: 192.4908447265625\n",
      "Epoch: 37 avg loss: 128.04732147986147\n",
      "Epoch: 38 Batch: 1/23 Loss: 118.90972900390625\n",
      "Epoch: 38 Batch: 11/23 Loss: 158.38165283203125\n",
      "Epoch: 38 Batch: 21/23 Loss: 114.99332275390626\n",
      "Epoch: 38 avg loss: 122.13917015780922\n",
      "Epoch: 39 Batch: 1/23 Loss: 105.977734375\n",
      "Epoch: 39 Batch: 11/23 Loss: 147.12283935546876\n",
      "Epoch: 39 Batch: 21/23 Loss: 153.3203369140625\n",
      "Epoch: 39 avg loss: 115.18993114824055\n",
      "Epoch: 40 Batch: 1/23 Loss: 79.25875854492188\n",
      "Epoch: 40 Batch: 11/23 Loss: 139.20714111328124\n",
      "Epoch: 40 Batch: 21/23 Loss: 124.23804931640625\n",
      "Epoch: 40 avg loss: 115.96076362673976\n",
      "Epoch: 41 Batch: 1/23 Loss: 146.8664306640625\n",
      "Epoch: 41 Batch: 11/23 Loss: 107.6437255859375\n",
      "Epoch: 41 Batch: 21/23 Loss: 137.21767578125\n",
      "Epoch: 41 avg loss: 117.32564333106289\n",
      "Epoch: 42 Batch: 1/23 Loss: 125.5002685546875\n",
      "Epoch: 42 Batch: 11/23 Loss: 107.22913818359375\n",
      "Epoch: 42 Batch: 21/23 Loss: 101.63175048828126\n",
      "Epoch: 42 avg loss: 114.19077461306789\n",
      "Epoch: 43 Batch: 1/23 Loss: 131.59027099609375\n",
      "Epoch: 43 Batch: 11/23 Loss: 118.39658203125\n",
      "Epoch: 43 Batch: 21/23 Loss: 120.5803466796875\n",
      "Epoch: 43 avg loss: 123.09883335658482\n",
      "Epoch: 44 Batch: 1/23 Loss: 118.69425048828126\n",
      "Epoch: 44 Batch: 11/23 Loss: 142.408984375\n",
      "Epoch: 44 Batch: 21/23 Loss: 130.20830078125\n",
      "Epoch: 44 avg loss: 118.30812470251773\n",
      "Epoch: 45 Batch: 1/23 Loss: 95.996484375\n",
      "Epoch: 45 Batch: 11/23 Loss: 129.09715576171874\n",
      "Epoch: 45 Batch: 21/23 Loss: 150.22320556640625\n",
      "Epoch: 45 avg loss: 118.8028620872177\n",
      "Epoch: 46 Batch: 1/23 Loss: 116.23350830078125\n",
      "Epoch: 46 Batch: 11/23 Loss: 117.561181640625\n",
      "Epoch: 46 Batch: 21/23 Loss: 101.76316528320312\n",
      "Epoch: 46 avg loss: 113.06358581030068\n",
      "Epoch: 47 Batch: 1/23 Loss: 120.30870361328125\n",
      "Epoch: 47 Batch: 11/23 Loss: 83.64819946289063\n",
      "Epoch: 47 Batch: 21/23 Loss: 130.51126708984376\n",
      "Epoch: 47 avg loss: 105.47042769744617\n",
      "Epoch: 48 Batch: 1/23 Loss: 114.63765869140624\n",
      "Epoch: 48 Batch: 11/23 Loss: 143.6021728515625\n",
      "Epoch: 48 Batch: 21/23 Loss: 137.43834228515624\n",
      "Epoch: 48 avg loss: 111.7158569848838\n",
      "Epoch: 49 Batch: 1/23 Loss: 143.6890625\n",
      "Epoch: 49 Batch: 11/23 Loss: 163.05068359375\n",
      "Epoch: 49 Batch: 21/23 Loss: 153.29566650390626\n",
      "Epoch: 49 avg loss: 127.84640913250065\n",
      "Epoch: 50 Batch: 1/23 Loss: 139.302294921875\n",
      "Epoch: 50 Batch: 11/23 Loss: 119.68990478515624\n",
      "Epoch: 50 Batch: 21/23 Loss: 183.20830078125\n",
      "Epoch: 50 avg loss: 137.24598065544578\n"
     ]
    }
   ],
   "source": [
    "train(encoder, decoder, train_loader, optimizer, num_epochs = 50)"
   ]
  },
  {
   "cell_type": "code",
   "execution_count": 65,
   "metadata": {},
   "outputs": [],
   "source": [
    "torch.save(encoder, \"models/lebron1_encoder\")\n",
    "torch.save(decoder, \"models/lebron1_decoder\")"
   ]
  },
  {
   "cell_type": "code",
   "execution_count": 66,
   "metadata": {},
   "outputs": [],
   "source": []
  },
  {
   "cell_type": "code",
   "execution_count": 68,
   "metadata": {},
   "outputs": [
    {
     "data": {
      "text/plain": [
       "Decoder(\n",
       "  (lin1): Linear(in_features=20, out_features=3888, bias=True)\n",
       "  (lin2): Linear(in_features=3888, out_features=11664, bias=True)\n",
       "  (lin3): Linear(in_features=11664, out_features=15552, bias=True)\n",
       ")"
      ]
     },
     "execution_count": 68,
     "metadata": {},
     "output_type": "execute_result"
    }
   ],
   "source": [
    "encoder2 = torch.load(\"models/lebron1_encoder\")\n",
    "encoder2.eval()\n",
    "decoder2 = torch.load(\"models/lebron1_decoder\")\n",
    "decoder2.eval()"
   ]
  },
  {
   "cell_type": "code",
   "execution_count": 70,
   "metadata": {},
   "outputs": [
    {
     "data": {
      "image/png": "[encoded data removed]",
      "text/plain": [
       "<PIL.Image.Image image mode=RGB size=96x54 at 0x13C199978>"
      ]
     },
     "metadata": {},
     "output_type": "display_data"
    }
   ],
   "source": [
    "Amu, Alog_var = encoder2(images[118])\n",
    "Aresult = decoder2(sample(Amu, Alog_var))\n",
    "display_tensor_image(Aresult[0])"
   ]
  },
  {
   "cell_type": "code",
   "execution_count": 63,
   "metadata": {},
   "outputs": [
    {
     "data": {
      "image/png": "[encoded data removed]",
      "text/plain": [
       "<PIL.Image.Image image mode=RGB size=96x54 at 0x13B4CE9B0>"
      ]
     },
     "metadata": {},
     "output_type": "display_data"
    }
   ],
   "source": [
    "display_tensor_image(images[118])"
   ]
  },
  {
   "cell_type": "code",
   "execution_count": 146,
   "metadata": {},
   "outputs": [
    {
     "data": {
      "text/plain": [
       "<matplotlib.colorbar.Colorbar at 0x1aabf8a5c0>"
      ]
     },
     "execution_count": 146,
     "metadata": {},
     "output_type": "execute_result"
    },
    {
     "data": {
      "image/png": "[encoded data removed]",
      "text/plain": [
       "<Figure size 720x432 with 2 Axes>"
      ]
     },
     "metadata": {
      "needs_background": "light"
     },
     "output_type": "display_data"
    }
   ],
   "source": [
    "test_features = []\n",
    "test_labels=[]\n",
    "for i in range(len(images)):\n",
    "    z, sigma = encoder2(images[i])\n",
    "    z = z.detach().numpy()\n",
    "    z = np.squeeze(z)\n",
    "    test_features.append(z)\n",
    "    test_labels.append(i)\n",
    "    \n",
    "test_features = np.array(test_features)\n",
    "test_labels = np.array(test_labels)\n",
    "\n",
    "#reduce dimensionality to 2D, we consider a subset of data because TSNE\n",
    "tsne_features = TSNE(n_components=2).fit_transform(test_features)\n",
    "fig = plt.figure(figsize=(10, 6))\n",
    "\n",
    "plt.scatter(tsne_features[:, 0], tsne_features[:, 1], c=test_labels[:tsne_features.shape[0]], marker='o',\n",
    "            edgecolor='none', cmap=plt.cm.get_cmap('jet', 10), s = 10)\n",
    "plt.grid(False)\n",
    "plt.axis('on')\n",
    "plt.colorbar()"
   ]
  },
  {
   "cell_type": "markdown",
   "metadata": {},
   "source": [
    "Proof of concept to make sure this VAE works ^"
   ]
  },
  {
   "cell_type": "markdown",
   "metadata": {},
   "source": [
    "# Blocking out 10 frames in a row to attempt to recreate them"
   ]
  },
  {
   "cell_type": "code",
   "execution_count": 92,
   "metadata": {},
   "outputs": [],
   "source": [
    "train_images = data[0]\n",
    "train_images = train_images[:80] + train_images[90:]\n",
    "test_images = train_images[80:90]\n",
    "batch_size = 5\n",
    "x_len = train_images[0].shape[0]\n",
    "y_len = train_images[0].shape[1]\n",
    "z_len = train_images[0].shape[2]\n",
    "total_len = train_images[0].shape[0]*train_images[0].shape[1]*train_images[0].shape[2]\n",
    "train_loader = DataLoader(train_images,batch_size=batch_size,drop_last = True,shuffle=True)"
   ]
  },
  {
   "cell_type": "code",
   "execution_count": 105,
   "metadata": {},
   "outputs": [],
   "source": [
    "\n",
    "class Encoder(nn.Module):\n",
    "  def __init__(self, x_len=x_len, y_len=y_len, z_len=z_len, latent_dim=latent_dim):\n",
    "    super(Encoder, self).__init__()\n",
    "    ## YOUR CODE HERE ##\n",
    "    total_len = x_len*y_len*z_len\n",
    "    self.lin1 = nn.Linear(total_len, total_len*3//4)\n",
    "    self.lin2 = nn.Linear(total_len*3//4, total_len*1//4)\n",
    "    self.lin3a = nn.Linear(total_len*1//4, latent_dim)\n",
    "    self.lin3b = nn.Linear(total_len*1//4, latent_dim)\n",
    "  \n",
    "  def forward(self, x):\n",
    "    ## YOUR CODE HERE ##\\\n",
    "#     print(x)\n",
    "    x = x.view(-1, total_len)\n",
    "#     print(x)\n",
    "    x = nn.functional.relu(self.lin1(x))\n",
    "#     print(x)\n",
    "    x = nn.functional.relu(self.lin2(x))\n",
    "    # mu, log_var\n",
    "    return self.lin3a(x), self.lin3b(x)\n",
    "\n",
    "class Decoder(nn.Module):\n",
    "  def __init__(self, x_len=x_len, y_len=y_len, z_len=z_len, latent_dim=latent_dim):\n",
    "    super(Decoder, self).__init__()\n",
    "    ## YOUR CODE HERE ##\n",
    "    total_len = x_len*y_len*z_len\n",
    "    self.lin1 = nn.Linear(latent_dim, total_len*1//4)\n",
    "    self.lin2 = nn.Linear(total_len*1//4, total_len*3//4)\n",
    "    self.lin3 = nn.Linear(total_len*3//4, total_len)\n",
    "\n",
    "  def forward(self,x):\n",
    "    ## YOUR CODE HERE ##\n",
    "    x = nn.functional.relu(self.lin1(x))\n",
    "    x = nn.functional.relu(self.lin2(x))\n",
    "    x = torch.sigmoid(self.lin3(x))\n",
    "    return x.view(-1, x_len, y_len, z_len)"
   ]
  },
  {
   "cell_type": "code",
   "execution_count": 106,
   "metadata": {},
   "outputs": [],
   "source": [
    "encoder = Encoder(x_len,y_len,z_len,latent_dim)\n",
    "decoder = Decoder(x_len,y_len,z_len,latent_dim)\n",
    "params = list(encoder.parameters())+list(decoder.parameters())\n",
    "optimizer = optim.Adam(params, lr=1e-3)"
   ]
  },
  {
   "cell_type": "code",
   "execution_count": 107,
   "metadata": {
    "collapsed": true,
    "jupyter": {
     "outputs_hidden": true
    }
   },
   "outputs": [
    {
     "name": "stdout",
     "output_type": "stream",
     "text": [
      "Epoch: 1 Batch: 1/21 Loss: 1152.80224609375\n",
      "Epoch: 1 Batch: 11/21 Loss: 1702.3111328125\n",
      "Epoch: 1 Batch: 21/21 Loss: 506.320654296875\n",
      "Epoch: 1 avg loss: 1356.1997518276949\n",
      "Epoch: 2 Batch: 1/21 Loss: 504.867041015625\n",
      "Epoch: 2 Batch: 11/21 Loss: 433.2240234375\n",
      "Epoch: 2 Batch: 21/21 Loss: 476.961572265625\n",
      "Epoch: 2 avg loss: 434.432526474699\n",
      "Epoch: 3 Batch: 1/21 Loss: 433.398974609375\n",
      "Epoch: 3 Batch: 11/21 Loss: 455.487109375\n",
      "Epoch: 3 Batch: 21/21 Loss: 356.9653564453125\n",
      "Epoch: 3 avg loss: 375.69045432554475\n",
      "Epoch: 4 Batch: 1/21 Loss: 364.8591064453125\n",
      "Epoch: 4 Batch: 11/21 Loss: 345.7279296875\n",
      "Epoch: 4 Batch: 21/21 Loss: 322.8613037109375\n",
      "Epoch: 4 avg loss: 310.764739150301\n",
      "Epoch: 5 Batch: 1/21 Loss: 313.990966796875\n",
      "Epoch: 5 Batch: 11/21 Loss: 279.0169189453125\n",
      "Epoch: 5 Batch: 21/21 Loss: 279.219921875\n",
      "Epoch: 5 avg loss: 279.5140840022936\n",
      "Epoch: 6 Batch: 1/21 Loss: 260.0083740234375\n",
      "Epoch: 6 Batch: 11/21 Loss: 279.064306640625\n",
      "Epoch: 6 Batch: 21/21 Loss: 277.23115234375\n",
      "Epoch: 6 avg loss: 269.99435004838017\n",
      "Epoch: 7 Batch: 1/21 Loss: 282.5757568359375\n",
      "Epoch: 7 Batch: 11/21 Loss: 239.0565673828125\n",
      "Epoch: 7 Batch: 21/21 Loss: 251.193994140625\n",
      "Epoch: 7 avg loss: 249.30103770964737\n",
      "Epoch: 8 Batch: 1/21 Loss: 269.39296875\n",
      "Epoch: 8 Batch: 11/21 Loss: 233.65107421875\n",
      "Epoch: 8 Batch: 21/21 Loss: 275.6864013671875\n",
      "Epoch: 8 avg loss: 244.05037136252867\n",
      "Epoch: 9 Batch: 1/21 Loss: 238.85556640625\n",
      "Epoch: 9 Batch: 11/21 Loss: 270.0984130859375\n",
      "Epoch: 9 Batch: 21/21 Loss: 289.0782470703125\n",
      "Epoch: 9 avg loss: 239.68569358335722\n",
      "Epoch: 10 Batch: 1/21 Loss: 256.5278076171875\n",
      "Epoch: 10 Batch: 11/21 Loss: 247.0894775390625\n",
      "Epoch: 10 Batch: 21/21 Loss: 339.8958740234375\n",
      "Epoch: 10 avg loss: 244.5569390813145\n",
      "Epoch: 11 Batch: 1/21 Loss: 232.1520263671875\n",
      "Epoch: 11 Batch: 11/21 Loss: 247.83994140625\n",
      "Epoch: 11 Batch: 21/21 Loss: 280.78095703125\n",
      "Epoch: 11 avg loss: 246.67127584754874\n",
      "Epoch: 12 Batch: 1/21 Loss: 196.732421875\n",
      "Epoch: 12 Batch: 11/21 Loss: 248.340283203125\n",
      "Epoch: 12 Batch: 21/21 Loss: 247.18017578125\n",
      "Epoch: 12 avg loss: 222.3671858201333\n",
      "Epoch: 13 Batch: 1/21 Loss: 216.379736328125\n",
      "Epoch: 13 Batch: 11/21 Loss: 209.4600341796875\n",
      "Epoch: 13 Batch: 21/21 Loss: 219.1148681640625\n",
      "Epoch: 13 avg loss: 211.11345931586868\n",
      "Epoch: 14 Batch: 1/21 Loss: 228.861083984375\n",
      "Epoch: 14 Batch: 11/21 Loss: 191.1791259765625\n",
      "Epoch: 14 Batch: 21/21 Loss: 204.0965087890625\n",
      "Epoch: 14 avg loss: 203.64576987170298\n",
      "Epoch: 15 Batch: 1/21 Loss: 220.3566162109375\n",
      "Epoch: 15 Batch: 11/21 Loss: 208.6307861328125\n",
      "Epoch: 15 Batch: 21/21 Loss: 239.1968994140625\n",
      "Epoch: 15 avg loss: 217.29266021448538\n",
      "Epoch: 16 Batch: 1/21 Loss: 279.433544921875\n",
      "Epoch: 16 Batch: 11/21 Loss: 268.169482421875\n",
      "Epoch: 16 Batch: 21/21 Loss: 221.5975830078125\n",
      "Epoch: 16 avg loss: 242.2818838696961\n",
      "Epoch: 17 Batch: 1/21 Loss: 207.92451171875\n",
      "Epoch: 17 Batch: 11/21 Loss: 256.7822021484375\n",
      "Epoch: 17 Batch: 21/21 Loss: 237.857568359375\n",
      "Epoch: 17 avg loss: 231.35014525247277\n",
      "Epoch: 18 Batch: 1/21 Loss: 197.99866943359376\n",
      "Epoch: 18 Batch: 11/21 Loss: 228.4129638671875\n",
      "Epoch: 18 Batch: 21/21 Loss: 208.537451171875\n",
      "Epoch: 18 avg loss: 202.55579285227924\n",
      "Epoch: 19 Batch: 1/21 Loss: 184.862255859375\n",
      "Epoch: 19 Batch: 11/21 Loss: 202.9012939453125\n",
      "Epoch: 19 Batch: 21/21 Loss: 196.57833251953124\n",
      "Epoch: 19 avg loss: 193.45256392452694\n",
      "Epoch: 20 Batch: 1/21 Loss: 181.06280517578125\n",
      "Epoch: 20 Batch: 11/21 Loss: 166.0259521484375\n",
      "Epoch: 20 Batch: 21/21 Loss: 201.185791015625\n",
      "Epoch: 20 avg loss: 199.99749811854932\n",
      "Epoch: 21 Batch: 1/21 Loss: 159.7329345703125\n",
      "Epoch: 21 Batch: 11/21 Loss: 184.5543212890625\n",
      "Epoch: 21 Batch: 21/21 Loss: 239.5684814453125\n",
      "Epoch: 21 avg loss: 178.77557373046875\n",
      "Epoch: 22 Batch: 1/21 Loss: 174.8096923828125\n",
      "Epoch: 22 Batch: 11/21 Loss: 207.681640625\n",
      "Epoch: 22 Batch: 21/21 Loss: 281.0011474609375\n",
      "Epoch: 22 avg loss: 192.36729893115682\n",
      "Epoch: 23 Batch: 1/21 Loss: 198.09766845703126\n",
      "Epoch: 23 Batch: 11/21 Loss: 209.786474609375\n",
      "Epoch: 23 Batch: 21/21 Loss: 206.8869384765625\n",
      "Epoch: 23 avg loss: 198.8347739123423\n",
      "Epoch: 24 Batch: 1/21 Loss: 230.693310546875\n",
      "Epoch: 24 Batch: 11/21 Loss: 236.8352294921875\n",
      "Epoch: 24 Batch: 21/21 Loss: 243.1224853515625\n",
      "Epoch: 24 avg loss: 228.77169379838017\n",
      "Epoch: 25 Batch: 1/21 Loss: 156.49632568359374\n",
      "Epoch: 25 Batch: 11/21 Loss: 225.061376953125\n",
      "Epoch: 25 Batch: 21/21 Loss: 260.0340087890625\n",
      "Epoch: 25 avg loss: 212.68422202014048\n",
      "Epoch: 26 Batch: 1/21 Loss: 225.43349609375\n",
      "Epoch: 26 Batch: 11/21 Loss: 182.75992431640626\n",
      "Epoch: 26 Batch: 21/21 Loss: 210.34365234375\n",
      "Epoch: 26 avg loss: 196.42615082067087\n",
      "Epoch: 27 Batch: 1/21 Loss: 173.19859619140624\n",
      "Epoch: 27 Batch: 11/21 Loss: 187.018359375\n",
      "Epoch: 27 Batch: 21/21 Loss: 208.774951171875\n",
      "Epoch: 27 avg loss: 178.11287864195097\n",
      "Epoch: 28 Batch: 1/21 Loss: 197.84805908203126\n",
      "Epoch: 28 Batch: 11/21 Loss: 183.4813232421875\n",
      "Epoch: 28 Batch: 21/21 Loss: 205.08544921875\n",
      "Epoch: 28 avg loss: 178.81010786983944\n",
      "Epoch: 29 Batch: 1/21 Loss: 208.2811767578125\n",
      "Epoch: 29 Batch: 11/21 Loss: 181.2197021484375\n",
      "Epoch: 29 Batch: 21/21 Loss: 207.34775390625\n",
      "Epoch: 29 avg loss: 166.35677568628154\n",
      "Epoch: 30 Batch: 1/21 Loss: 166.3888427734375\n",
      "Epoch: 30 Batch: 11/21 Loss: 175.4977294921875\n",
      "Epoch: 30 Batch: 21/21 Loss: 216.914599609375\n",
      "Epoch: 30 avg loss: 165.023934740539\n"
     ]
    }
   ],
   "source": [
    "train(encoder, decoder, train_loader, optimizer, num_epochs = 40, x_len=x_len, y_len=y_len, z_len=z_len)"
   ]
  },
  {
   "cell_type": "code",
   "execution_count": 108,
   "metadata": {},
   "outputs": [],
   "source": [
    "torch.save(encoder, \"models/train_lebron1_encoder\")\n",
    "torch.save(decoder, \"models/train_lebron1_decoder\")"
   ]
  },
  {
   "cell_type": "code",
   "execution_count": 112,
   "metadata": {},
   "outputs": [
    {
     "data": {
      "text/plain": [
       "Decoder(\n",
       "  (lin1): Linear(in_features=20, out_features=3888, bias=True)\n",
       "  (lin2): Linear(in_features=3888, out_features=11664, bias=True)\n",
       "  (lin3): Linear(in_features=11664, out_features=15552, bias=True)\n",
       ")"
      ]
     },
     "execution_count": 112,
     "metadata": {},
     "output_type": "execute_result"
    }
   ],
   "source": [
    "trained_encoder = torch.load(\"models/train_lebron1_encoder\")\n",
    "trained_encoder.eval()\n",
    "trained_decoder = torch.load(\"models/train_lebron1_decoder\")\n",
    "trained_decoder.eval()"
   ]
  },
  {
   "cell_type": "code",
   "execution_count": 120,
   "metadata": {},
   "outputs": [
    {
     "data": {
      "image/png": "[encoded data removed]",
      "text/plain": [
       "<PIL.Image.Image image mode=RGB size=96x54 at 0x1AABD53D68>"
      ]
     },
     "metadata": {},
     "output_type": "display_data"
    }
   ],
   "source": [
    "Amu, Alog_var = trained_encoder(train_images[100])\n",
    "Aresult = trained_decoder(sample(Amu, Alog_var))\n",
    "display_tensor_image(Aresult[0])"
   ]
  },
  {
   "cell_type": "markdown",
   "metadata": {},
   "source": [
    "Missing frames 80->89...\n",
    "Will use GP in latent space to recover these frames"
   ]
  },
  {
   "cell_type": "code",
   "execution_count": 121,
   "metadata": {},
   "outputs": [],
   "source": [
    "from sklearn.manifold import TSNE"
   ]
  },
  {
   "cell_type": "code",
   "execution_count": 148,
   "metadata": {},
   "outputs": [],
   "source": [
    "test_features = []\n",
    "test_labels=[]\n",
    "for i in range(len(train_images)):\n",
    "    z, sigma = trained_encoder(train_images[i])\n",
    "    z = z.detach().numpy()\n",
    "    z = np.squeeze(z)\n",
    "    test_features.append(z)\n",
    "    test_labels.append(i)\n",
    "    \n",
    "test_features = np.array(test_features)\n",
    "test_labels = np.array(test_labels)\n",
    "\n",
    "#reduce dimensionality to 2D, we consider a subset of data because TSNE\n",
    "tsne_features = TSNE(n_components=2).fit_transform(test_features)\n"
   ]
  },
  {
   "cell_type": "code",
   "execution_count": 142,
   "metadata": {},
   "outputs": [
    {
     "data": {
      "text/plain": [
       "<matplotlib.colorbar.Colorbar at 0x1aac7dfda0>"
      ]
     },
     "execution_count": 142,
     "metadata": {},
     "output_type": "execute_result"
    },
    {
     "data": {
      "image/png": "[encoded data removed]",
      "text/plain": [
       "<Figure size 720x432 with 2 Axes>"
      ]
     },
     "metadata": {
      "needs_background": "light"
     },
     "output_type": "display_data"
    }
   ],
   "source": [
    "fig = plt.figure(figsize=(10, 6))\n",
    "\n",
    "plt.scatter(tsne_features[:, 0], tsne_features[:, 1], c=test_labels[:tsne_features.shape[0]], marker='o',\n",
    "            edgecolor='none', cmap=plt.cm.get_cmap('jet', 10), s = 10)\n",
    "plt.grid(False)\n",
    "plt.axis('on')\n",
    "plt.colorbar()"
   ]
  },
  {
   "cell_type": "code",
   "execution_count": 150,
   "metadata": {},
   "outputs": [],
   "source": [
    "from sklearn.gaussian_process.kernels import ConstantKernel, RBF, DotProduct, WhiteKernel, Sum\n",
    "from sklearn.gaussian_process import GaussianProcessRegressor"
   ]
  },
  {
   "cell_type": "code",
   "execution_count": 183,
   "metadata": {},
   "outputs": [],
   "source": [
    "x1 = list(np.linspace(0,79, 80).astype(int))\n",
    "x2 = list(np.linspace(90,len(images)-1, len(images)-90).astype(int))\n",
    "X = x1+x2\n",
    "X = np.array(X).reshape(-1, 1)"
   ]
  },
  {
   "cell_type": "code",
   "execution_count": 184,
   "metadata": {},
   "outputs": [
    {
     "data": {
      "text/plain": [
       "109"
      ]
     },
     "execution_count": 184,
     "metadata": {},
     "output_type": "execute_result"
    }
   ],
   "source": [
    "len(X)"
   ]
  },
  {
   "cell_type": "code",
   "execution_count": 185,
   "metadata": {},
   "outputs": [
    {
     "name": "stderr",
     "output_type": "stream",
     "text": [
      "/Users/joshpapermaster/anaconda3/lib/python3.7/site-packages/sklearn/base.py:434: FutureWarning: The default value of multioutput (not exposed in score method) will change from 'variance_weighted' to 'uniform_average' in 0.23 to keep consistent with 'metrics.r2_score'. To specify the default value manually and avoid the warning, please either call 'metrics.r2_score' directly or make a custom scorer with 'metrics.make_scorer' (the built-in scorer 'r2' uses multioutput='uniform_average').\n",
      "  \"multioutput='uniform_average').\", FutureWarning)\n"
     ]
    },
    {
     "data": {
      "text/plain": [
       "0.9985726736028765"
      ]
     },
     "execution_count": 185,
     "metadata": {},
     "output_type": "execute_result"
    }
   ],
   "source": [
    "kernel = RBF()*ConstantKernel()+WhiteKernel()\n",
    "gpr = GaussianProcessRegressor(kernel=kernel, n_restarts_optimizer=4, random_state=0).fit(X, test_features)\n",
    "gpr.score(X, test_features)"
   ]
  },
  {
   "cell_type": "code",
   "execution_count": 186,
   "metadata": {},
   "outputs": [],
   "source": [
    "test_x = np.linspace(80,89, 10).astype(int).reshape(-1,1)"
   ]
  },
  {
   "cell_type": "code",
   "execution_count": 202,
   "metadata": {},
   "outputs": [],
   "source": [
    "predictions, std = gpr.predict(test_x, return_std=True)\n",
    "predictions = torch.from_numpy(predictions.astype(np.float32))\n",
    "log_vars =torch.from_numpy(np.log(std**2))"
   ]
  },
  {
   "cell_type": "code",
   "execution_count": 203,
   "metadata": {},
   "outputs": [],
   "source": [
    "recovered_images=[]\n",
    "for i in range(len(test_x)):\n",
    "    recovered_images.append(trained_decoder(sample(predictions[i], log_vars[i])))"
   ]
  },
  {
   "cell_type": "code",
   "execution_count": 220,
   "metadata": {},
   "outputs": [
    {
     "data": {
      "image/png": "[encoded data removed]",
      "text/plain": [
       "<PIL.Image.Image image mode=RGB size=96x54 at 0x1AABF29BE0>"
      ]
     },
     "metadata": {},
     "output_type": "display_data"
    }
   ],
   "source": [
    "display_tensor_image(recovered_images[8].squeeze())"
   ]
  },
  {
   "cell_type": "code",
   "execution_count": null,
   "metadata": {},
   "outputs": [],
   "source": []
  }
 ],
 "metadata": {
  "kernelspec": {
   "display_name": "Python 3",
   "language": "python",
   "name": "python3"
  },
  "language_info": {
   "codemirror_mode": {
    "name": "ipython",
    "version": 3
   },
   "file_extension": ".py",
   "mimetype": "text/x-python",
   "name": "python",
   "nbconvert_exporter": "python",
   "pygments_lexer": "ipython3",
   "version": "3.7.3"
  }
 },
 "nbformat": 4,
 "nbformat_minor": 4
}
