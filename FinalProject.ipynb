{
 "cells": [
  {
   "cell_type": "code",
   "execution_count": 624,
   "metadata": {},
   "outputs": [],
   "source": [
    "# Program To Read video \n",
    "# and Extract Frames \n",
    "\n",
    "# import sys\n",
    "# !{sys.executable} -m pip install opencv-python\n",
    "# !{sys.executable} -m pip install moviepy\n",
    "\n",
    "import cv2 \n",
    "import os\n",
    "import sys\n",
    "import shutil\n",
    "import numpy as np\n",
    "import moviepy.video.io.ImageSequenceClip\n",
    "import torch \n",
    "import numpy as np\n",
    "from PIL import Image\n",
    "from torch import optim, nn\n",
    "import matplotlib.pyplot as plt\n",
    "from torchvision.transforms import ToTensor\n",
    "from torchvision import transforms\n",
    "from sklearn.metrics import mean_squared_error\n",
    "from copy import copy\n",
    "from scipy.spatial.distance import euclidean"
   ]
  },
  {
   "cell_type": "code",
   "execution_count": null,
   "metadata": {},
   "outputs": [],
   "source": []
  },
  {
   "cell_type": "code",
   "execution_count": null,
   "metadata": {},
   "outputs": [],
   "source": []
  },
  {
   "cell_type": "code",
   "execution_count": 296,
   "metadata": {},
   "outputs": [],
   "source": [
    "def FrameCapture(path, vid_num): \n",
    "      \n",
    "    # Path to video file \n",
    "    vidObj = cv2.VideoCapture(path) \n",
    "  \n",
    "    # Used as counter variable \n",
    "    count = 0\n",
    "    success = 1\n",
    "    images=[]\n",
    "    try:\n",
    "        shutil.rmtree(\"lebron_dunk\" + str(vid_num))\n",
    "        os.mkdir(\"lebron_dunk\" + str(vid_num))\n",
    "    except OSError as e:\n",
    "        os.mkdir(\"lebron_dunk\" + str(vid_num))\n",
    "    while success: \n",
    "  \n",
    "        # vidObj object calls read \n",
    "        # function extract frames \n",
    "        success, image = vidObj.read() \n",
    "        # Saves the frames with frame-count \n",
    "        if image is not None and len(image) > 0:\n",
    "            cv2.imwrite(\"lebron_dunk\" + str(vid_num) + \"/frame\" + str(1000+count) + \".jpg\", image) \n",
    "            img = Image.open(\"lebron_dunk\" + str(vid_num) + \"/frame\" + str(1000+count) + \".jpg\")\n",
    "            img = img.resize((img.size[0]//10, img.size[1]//10), Image.ANTIALIAS)\n",
    "            img.save(\"lebron_dunk\" + str(vid_num) + \"/frame\" + str(1000+count) + \".jpg\")\n",
    "            img = ToTensor()(img) # unsqueeze to add artificial first dimension\n",
    "            images.append(img)\n",
    "        count += 1\n",
    "#     return np.array(images).astype(np.float32)\n",
    "    return images"
   ]
  },
  {
   "cell_type": "code",
   "execution_count": 222,
   "metadata": {},
   "outputs": [],
   "source": [
    "data = []\n",
    "for i in range(1, 11):\n",
    "    temp = FrameCapture(\"movies/lebron_dunk\" + str(i) + \".mp4\", i)\n",
    "    data.append(temp)"
   ]
  },
  {
   "cell_type": "code",
   "execution_count": null,
   "metadata": {},
   "outputs": [],
   "source": []
  },
  {
   "cell_type": "code",
   "execution_count": 356,
   "metadata": {},
   "outputs": [],
   "source": [
    "def create_img_folder(images, folder_name):\n",
    "    try:\n",
    "        shutil.rmtree(folder_name)\n",
    "        os.mkdir(folder_name)\n",
    "    except OSError as e:\n",
    "        os.mkdir(folder_name)\n",
    "    count=0\n",
    "    for image in images:\n",
    "        im = transforms.ToPILImage()(image).convert(\"RGB\")\n",
    "        im.save(folder_name + \"/frame\" + str(1000+count) + \".jpg\")\n",
    "        count+=1"
   ]
  },
  {
   "cell_type": "code",
   "execution_count": 4,
   "metadata": {},
   "outputs": [],
   "source": [
    "def recreate_movie(image_folder, new_name):\n",
    "    fps=30\n",
    "    image_files = [image_folder+'/'+img for img in os.listdir(image_folder) if img.endswith(\".jpg\")]\n",
    "    image_files.sort()\n",
    "    clip = moviepy.video.io.ImageSequenceClip.ImageSequenceClip(image_files, fps=fps)\n",
    "    clip.write_videofile(new_name + '.mp4')"
   ]
  },
  {
   "cell_type": "code",
   "execution_count": 5,
   "metadata": {},
   "outputs": [],
   "source": [
    "def display_tensor_image(result):\n",
    "    im = transforms.ToPILImage()(result).convert(\"RGB\")\n",
    "    display(im)"
   ]
  },
  {
   "cell_type": "code",
   "execution_count": 352,
   "metadata": {},
   "outputs": [],
   "source": [
    "def grade_results(y_true, y_pred):\n",
    "    errors=[]\n",
    "    for i in range(len(y_true)):\n",
    "        y_pred_temp = y_pred[i].detach().numpy()\n",
    "        error = mean_squared_error(y_true[i].reshape(-1), y_pred_temp.reshape(-1))\n",
    "        print(str(i)+\": \" + str(error))\n",
    "        errors.append(error)\n",
    "    errors = np.array(errors)\n",
    "    print(\"avg error: \" + str(errors.mean()))\n",
    "    return errors"
   ]
  },
  {
   "cell_type": "code",
   "execution_count": 685,
   "metadata": {},
   "outputs": [],
   "source": [
    "def get_mean_variance(data):\n",
    "    data = np.array(data)\n",
    "    mean = data.mean()\n",
    "    variances=[]\n",
    "    for d in data:\n",
    "        variances.append((d-mean)**2)\n",
    "    return mean, np.array(variances)"
   ]
  },
  {
   "cell_type": "code",
   "execution_count": 716,
   "metadata": {},
   "outputs": [],
   "source": [
    "def get_latent_dist(latent_vars):\n",
    "    dist = []\n",
    "    for i in range(0,len(latent_vars)-1):\n",
    "        dist.append(euclidean(latent_vars[i], latent_vars[i+1]))\n",
    "    return np.array(dist)"
   ]
  },
  {
   "cell_type": "code",
   "execution_count": 644,
   "metadata": {},
   "outputs": [
    {
     "name": "stderr",
     "output_type": "stream",
     "text": [
      "t:   0%|          | 0/119 [00:00<?, ?it/s, now=None]"
     ]
    },
    {
     "name": "stdout",
     "output_type": "stream",
     "text": [
      "Moviepy - Building video recreated_movies/lebron_1.mp4.\n",
      "Moviepy - Writing video recreated_movies/lebron_1.mp4\n",
      "\n"
     ]
    },
    {
     "name": "stderr",
     "output_type": "stream",
     "text": [
      "                                                              "
     ]
    },
    {
     "name": "stdout",
     "output_type": "stream",
     "text": [
      "Moviepy - Done !\n",
      "Moviepy - video ready recreated_movies/lebron_1.mp4\n"
     ]
    },
    {
     "name": "stderr",
     "output_type": "stream",
     "text": [
      "\r"
     ]
    }
   ],
   "source": [
    "recreate_movie('lebron_dunk1', 'recreated_movies/lebron_1')"
   ]
  },
  {
   "cell_type": "code",
   "execution_count": 38,
   "metadata": {},
   "outputs": [
    {
     "data": {
      "text/plain": [
       "119"
      ]
     },
     "execution_count": 38,
     "metadata": {},
     "output_type": "execute_result"
    }
   ],
   "source": [
    "len(data[0])"
   ]
  },
  {
   "cell_type": "code",
   "execution_count": 13,
   "metadata": {},
   "outputs": [],
   "source": [
    "from torchvision import datasets, transforms\n",
    "\n",
    "## YOUR CODE HERE ##\n",
    "latent_dim = 20\n",
    "transformations = transforms.ToTensor()\n",
    "# mnist_train =  datasets.MNIST(loc_data, train=True, download=True, transform = transformations)\n",
    "# mnist_test = datasets.MNIST(loc_data, train=False, download=True, transform = transformations)"
   ]
  },
  {
   "cell_type": "code",
   "execution_count": 49,
   "metadata": {},
   "outputs": [],
   "source": [
    "images = data[0]\n",
    "batch_size = 5\n",
    "x_len = images[0].shape[0]\n",
    "y_len = images[0].shape[1]\n",
    "z_len = images[0].shape[2]\n",
    "total_len = images[0].shape[0]*images[0].shape[1]*images[0].shape[2]"
   ]
  },
  {
   "cell_type": "code",
   "execution_count": 50,
   "metadata": {},
   "outputs": [],
   "source": [
    "from torch.utils.data import DataLoader\n",
    "train_loader = DataLoader(images,batch_size=batch_size,drop_last = True,shuffle=True)"
   ]
  },
  {
   "cell_type": "code",
   "execution_count": 100,
   "metadata": {},
   "outputs": [],
   "source": [
    "\n",
    "class Encoder(nn.Module):\n",
    "  def __init__(self, x_len=x_len, y_len=y_len, z_len=z_len, latent_dim=latent_dim):\n",
    "    super(Encoder, self).__init__()\n",
    "    ## YOUR CODE HERE ##\n",
    "    total_len = x_len*y_len*z_len\n",
    "    self.lin1 = nn.Linear(total_len, total_len*3//4)\n",
    "    self.lin2 = nn.Linear(total_len*3//4, total_len*1//4)\n",
    "    self.lin3a = nn.Linear(total_len*1//4, latent_dim)\n",
    "    self.lin3b = nn.Linear(total_len*1//4, latent_dim)\n",
    "  \n",
    "  def forward(self, x):\n",
    "    ## YOUR CODE HERE ##\\\n",
    "    x = x.view(-1, total_len)\n",
    "#     print(x)\n",
    "    x = nn.functional.relu(self.lin1(x))\n",
    "#     print(x)\n",
    "    x = nn.functional.relu(self.lin2(x))\n",
    "    # mu, log_var\n",
    "    return self.lin3a(x), self.lin3b(x)\n",
    "\n",
    "class Decoder(nn.Module):\n",
    "  def __init__(self, x_len=x_len, y_len=y_len, z_len=z_len, latent_dim=latent_dim):\n",
    "    super(Decoder, self).__init__()\n",
    "    ## YOUR CODE HERE ##\n",
    "    total_len = x_len*y_len*z_len\n",
    "    self.lin1 = nn.Linear(latent_dim, total_len*1//4)\n",
    "    self.lin2 = nn.Linear(total_len*1//4, total_len*3//4)\n",
    "    self.lin3 = nn.Linear(total_len*3//4, total_len)\n",
    "\n",
    "  def forward(self,x):\n",
    "    x = nn.functional.relu(self.lin1(x))\n",
    "    x = nn.functional.relu(self.lin2(x))\n",
    "    x = torch.sigmoid(self.lin3(x))\n",
    "    return x.view(-1, x_len, y_len, z_len)"
   ]
  },
  {
   "cell_type": "code",
   "execution_count": 298,
   "metadata": {},
   "outputs": [],
   "source": [
    "from torch import exp, randn_like\n",
    "def sample(mu, logvar, testing=False):\n",
    "  ## YOUR CODE HERE ##\n",
    "    std_dev = exp(0.5*logvar)\n",
    "    if testing:\n",
    "        return mu\n",
    "    return randn_like(mu)*std_dev + mu"
   ]
  },
  {
   "cell_type": "code",
   "execution_count": 53,
   "metadata": {},
   "outputs": [],
   "source": [
    "from scipy.stats import norm\n",
    "def vae_loss(x, x_hat, mu, logvar):\n",
    "  ## YOUR CODE HERE ##\n",
    "  # MSE LOSS + KL DIVERGENCE \n",
    "    mse_loss = torch.nn.MSELoss(reduction='sum')\n",
    "#     mse = torch.mean(torch.pow(x-x_hat, 2))\n",
    "    kl = -0.5*torch.mean(1 + logvar - torch.pow(mu, 2) - torch.exp(logvar))\n",
    "    return (mse_loss(x, x_hat) + kl)"
   ]
  },
  {
   "cell_type": "code",
   "execution_count": 54,
   "metadata": {},
   "outputs": [],
   "source": [
    "\n",
    "\n",
    "## YOUR CODE HERE ##\n",
    "encoder = Encoder(latent_dim=latent_dim)\n",
    "decoder = Decoder(latent_dim=latent_dim)\n",
    "params = list(encoder.parameters())+list(decoder.parameters())\n",
    "optimizer = optim.Adam(params, lr=1e-3)"
   ]
  },
  {
   "cell_type": "code",
   "execution_count": 501,
   "metadata": {},
   "outputs": [],
   "source": [
    "def train(encoder, decoder, train_loader, optimizer, num_epochs = 10, x_len=x_len, y_len=y_len,z_len=z_len, dynamic_lr=False):\n",
    "    encoder.train()\n",
    "    decoder.train()\n",
    "    total_len = x_len*y_len*z_len\n",
    "    i=0\n",
    "    for epoch in range(num_epochs):\n",
    "        if dynamic_lr and epoch%20==0:\n",
    "            for g in optimizer.param_groups:\n",
    "                g['lr'] *= 0.1\n",
    "        train_loss=0\n",
    "        for idx, data in enumerate(train_loader):\n",
    "            data = data.view(-1, x_len, y_len, z_len)\n",
    "#             print(data.shape)\n",
    "            optimizer.zero_grad()\n",
    "            mu, log_var = encoder(data)\n",
    "            result = decoder(sample(mu, log_var))\n",
    "#             print(result)\n",
    "#             if i != 0:\n",
    "#                 return\n",
    "            loss = vae_loss(result, data, mu, log_var)\n",
    "            i+=1\n",
    "            loss.backward()\n",
    "            train_loss += loss.item()\n",
    "            optimizer.step()\n",
    "            if idx%10 == 0 :\n",
    "                print(\"Epoch: \" + str(epoch+1) + \" Batch: \" + str(idx+1)+\"/\"+str(len(train_loader.dataset)//batch_size) + \" Loss: \" + str(loss.item() / len(data)))\n",
    "        print(\"Epoch: \" + str(epoch+1) + \" avg loss: \" + str(train_loss / len(train_loader.dataset)))"
   ]
  },
  {
   "cell_type": "code",
   "execution_count": 56,
   "metadata": {
    "collapsed": true,
    "jupyter": {
     "outputs_hidden": true
    }
   },
   "outputs": [
    {
     "name": "stdout",
     "output_type": "stream",
     "text": [
      "Epoch: 1 Batch: 1/23 Loss: 1103.0486328125\n",
      "Epoch: 1 Batch: 11/23 Loss: 1699.45390625\n",
      "Epoch: 1 Batch: 21/23 Loss: 654.380810546875\n",
      "Epoch: 1 avg loss: 1325.7957568769696\n",
      "Epoch: 2 Batch: 1/23 Loss: 465.247509765625\n",
      "Epoch: 2 Batch: 11/23 Loss: 374.208837890625\n",
      "Epoch: 2 Batch: 21/23 Loss: 381.5975341796875\n",
      "Epoch: 2 avg loss: 415.37649356617646\n",
      "Epoch: 3 Batch: 1/23 Loss: 396.3885498046875\n",
      "Epoch: 3 Batch: 11/23 Loss: 394.92109375\n",
      "Epoch: 3 Batch: 21/23 Loss: 459.25390625\n",
      "Epoch: 3 avg loss: 354.7137605042017\n",
      "Epoch: 4 Batch: 1/23 Loss: 384.5193115234375\n",
      "Epoch: 4 Batch: 11/23 Loss: 337.477197265625\n",
      "Epoch: 4 Batch: 21/23 Loss: 332.2826904296875\n",
      "Epoch: 4 avg loss: 326.7909633091518\n",
      "Epoch: 5 Batch: 1/23 Loss: 367.5441162109375\n",
      "Epoch: 5 Batch: 11/23 Loss: 304.22919921875\n",
      "Epoch: 5 Batch: 21/23 Loss: 290.5679931640625\n",
      "Epoch: 5 avg loss: 298.80782747669383\n",
      "Epoch: 6 Batch: 1/23 Loss: 299.9987060546875\n",
      "Epoch: 6 Batch: 11/23 Loss: 301.244189453125\n",
      "Epoch: 6 Batch: 21/23 Loss: 316.9137451171875\n",
      "Epoch: 6 avg loss: 291.0749152688419\n",
      "Epoch: 7 Batch: 1/23 Loss: 328.419873046875\n",
      "Epoch: 7 Batch: 11/23 Loss: 280.472119140625\n",
      "Epoch: 7 Batch: 21/23 Loss: 286.345703125\n",
      "Epoch: 7 avg loss: 272.68308597853206\n",
      "Epoch: 8 Batch: 1/23 Loss: 285.0648193359375\n",
      "Epoch: 8 Batch: 11/23 Loss: 278.2673828125\n",
      "Epoch: 8 Batch: 21/23 Loss: 363.6255126953125\n",
      "Epoch: 8 avg loss: 262.80991293001574\n",
      "Epoch: 9 Batch: 1/23 Loss: 294.9593994140625\n",
      "Epoch: 9 Batch: 11/23 Loss: 251.539453125\n",
      "Epoch: 9 Batch: 21/23 Loss: 277.5572509765625\n",
      "Epoch: 9 avg loss: 278.49384827173054\n",
      "Epoch: 10 Batch: 1/23 Loss: 287.48193359375\n",
      "Epoch: 10 Batch: 11/23 Loss: 261.253076171875\n",
      "Epoch: 10 Batch: 21/23 Loss: 297.9785888671875\n",
      "Epoch: 10 avg loss: 268.27243016347165\n",
      "Epoch: 11 Batch: 1/23 Loss: 257.612060546875\n",
      "Epoch: 11 Batch: 11/23 Loss: 268.3744873046875\n",
      "Epoch: 11 Batch: 21/23 Loss: 261.882421875\n",
      "Epoch: 11 avg loss: 252.5785322429753\n",
      "Epoch: 12 Batch: 1/23 Loss: 259.319873046875\n",
      "Epoch: 12 Batch: 11/23 Loss: 262.6026611328125\n",
      "Epoch: 12 Batch: 21/23 Loss: 262.9576904296875\n",
      "Epoch: 12 avg loss: 245.30975136636687\n",
      "Epoch: 13 Batch: 1/23 Loss: 221.2768310546875\n",
      "Epoch: 13 Batch: 11/23 Loss: 233.5125732421875\n",
      "Epoch: 13 Batch: 21/23 Loss: 264.6218505859375\n",
      "Epoch: 13 avg loss: 238.0843916179753\n",
      "Epoch: 14 Batch: 1/23 Loss: 373.92626953125\n",
      "Epoch: 14 Batch: 11/23 Loss: 253.1552734375\n",
      "Epoch: 14 Batch: 21/23 Loss: 243.76044921875\n",
      "Epoch: 14 avg loss: 235.7204836035977\n",
      "Epoch: 15 Batch: 1/23 Loss: 232.2784423828125\n",
      "Epoch: 15 Batch: 11/23 Loss: 249.054345703125\n",
      "Epoch: 15 Batch: 21/23 Loss: 204.43687744140624\n",
      "Epoch: 15 avg loss: 219.1939097172072\n",
      "Epoch: 16 Batch: 1/23 Loss: 222.0121337890625\n",
      "Epoch: 16 Batch: 11/23 Loss: 271.22734375\n",
      "Epoch: 16 Batch: 21/23 Loss: 250.1427978515625\n",
      "Epoch: 16 avg loss: 228.54321186482406\n",
      "Epoch: 17 Batch: 1/23 Loss: 230.7923583984375\n",
      "Epoch: 17 Batch: 11/23 Loss: 228.9921142578125\n",
      "Epoch: 17 Batch: 21/23 Loss: 214.0983642578125\n",
      "Epoch: 17 avg loss: 199.9750827821363\n",
      "Epoch: 18 Batch: 1/23 Loss: 194.77701416015626\n",
      "Epoch: 18 Batch: 11/23 Loss: 238.49697265625\n",
      "Epoch: 18 Batch: 21/23 Loss: 262.214306640625\n",
      "Epoch: 18 avg loss: 206.8288707572873\n",
      "Epoch: 19 Batch: 1/23 Loss: 172.76929931640626\n",
      "Epoch: 19 Batch: 11/23 Loss: 204.108984375\n",
      "Epoch: 19 Batch: 21/23 Loss: 253.417138671875\n",
      "Epoch: 19 avg loss: 206.5271616703322\n",
      "Epoch: 20 Batch: 1/23 Loss: 214.4521240234375\n",
      "Epoch: 20 Batch: 11/23 Loss: 182.7626953125\n",
      "Epoch: 20 Batch: 21/23 Loss: 222.2634765625\n",
      "Epoch: 20 avg loss: 196.8185532513787\n",
      "Epoch: 21 Batch: 1/23 Loss: 177.97821044921875\n",
      "Epoch: 21 Batch: 11/23 Loss: 154.86607666015624\n",
      "Epoch: 21 Batch: 21/23 Loss: 205.7131103515625\n",
      "Epoch: 21 avg loss: 186.39092094357275\n",
      "Epoch: 22 Batch: 1/23 Loss: 155.82066650390624\n",
      "Epoch: 22 Batch: 11/23 Loss: 192.36068115234374\n",
      "Epoch: 22 Batch: 21/23 Loss: 191.51844482421876\n",
      "Epoch: 22 avg loss: 167.73854282924108\n",
      "Epoch: 23 Batch: 1/23 Loss: 150.77769775390624\n",
      "Epoch: 23 Batch: 11/23 Loss: 191.88509521484374\n",
      "Epoch: 23 Batch: 21/23 Loss: 164.4954833984375\n",
      "Epoch: 23 avg loss: 174.9955398174895\n",
      "Epoch: 24 Batch: 1/23 Loss: 165.150439453125\n",
      "Epoch: 24 Batch: 11/23 Loss: 172.43175048828124\n",
      "Epoch: 24 Batch: 21/23 Loss: 187.386669921875\n",
      "Epoch: 24 avg loss: 164.77221320657168\n",
      "Epoch: 25 Batch: 1/23 Loss: 163.142822265625\n",
      "Epoch: 25 Batch: 11/23 Loss: 193.00860595703125\n",
      "Epoch: 25 Batch: 21/23 Loss: 297.812060546875\n",
      "Epoch: 25 avg loss: 210.57547279165573\n",
      "Epoch: 26 Batch: 1/23 Loss: 200.6428955078125\n",
      "Epoch: 26 Batch: 11/23 Loss: 223.7833984375\n",
      "Epoch: 26 Batch: 21/23 Loss: 209.8675048828125\n",
      "Epoch: 26 avg loss: 214.90257763261553\n",
      "Epoch: 27 Batch: 1/23 Loss: 172.60577392578125\n",
      "Epoch: 27 Batch: 11/23 Loss: 209.3813720703125\n",
      "Epoch: 27 Batch: 21/23 Loss: 171.81097412109375\n",
      "Epoch: 27 avg loss: 161.46662505334166\n",
      "Epoch: 28 Batch: 1/23 Loss: 155.5217041015625\n",
      "Epoch: 28 Batch: 11/23 Loss: 167.79718017578125\n",
      "Epoch: 28 Batch: 21/23 Loss: 196.3330078125\n",
      "Epoch: 28 avg loss: 160.4683386538209\n",
      "Epoch: 29 Batch: 1/23 Loss: 147.52637939453126\n",
      "Epoch: 29 Batch: 11/23 Loss: 182.494580078125\n",
      "Epoch: 29 Batch: 21/23 Loss: 190.05225830078126\n",
      "Epoch: 29 avg loss: 162.69521812631302\n",
      "Epoch: 30 Batch: 1/23 Loss: 136.807763671875\n",
      "Epoch: 30 Batch: 11/23 Loss: 149.3328125\n",
      "Epoch: 30 Batch: 21/23 Loss: 154.21005859375\n",
      "Epoch: 30 avg loss: 146.64375215418198\n",
      "Epoch: 31 Batch: 1/23 Loss: 106.3013427734375\n",
      "Epoch: 31 Batch: 11/23 Loss: 152.552294921875\n",
      "Epoch: 31 Batch: 21/23 Loss: 172.68922119140626\n",
      "Epoch: 31 avg loss: 142.58560462759323\n",
      "Epoch: 32 Batch: 1/23 Loss: 141.04700927734376\n",
      "Epoch: 32 Batch: 11/23 Loss: 138.72442626953125\n",
      "Epoch: 32 Batch: 21/23 Loss: 166.8592041015625\n",
      "Epoch: 32 avg loss: 132.1132473985688\n",
      "Epoch: 33 Batch: 1/23 Loss: 127.20592041015625\n",
      "Epoch: 33 Batch: 11/23 Loss: 106.52066650390626\n",
      "Epoch: 33 Batch: 21/23 Loss: 141.32498779296876\n",
      "Epoch: 33 avg loss: 132.5920615316439\n",
      "Epoch: 34 Batch: 1/23 Loss: 146.64964599609374\n",
      "Epoch: 34 Batch: 11/23 Loss: 118.10380859375\n",
      "Epoch: 34 Batch: 21/23 Loss: 132.9759521484375\n",
      "Epoch: 34 avg loss: 134.12474714006697\n",
      "Epoch: 35 Batch: 1/23 Loss: 147.73194580078126\n",
      "Epoch: 35 Batch: 11/23 Loss: 165.329638671875\n",
      "Epoch: 35 Batch: 21/23 Loss: 106.89246826171875\n",
      "Epoch: 35 avg loss: 126.64733630268513\n",
      "Epoch: 36 Batch: 1/23 Loss: 137.18330078125\n",
      "Epoch: 36 Batch: 11/23 Loss: 129.027587890625\n",
      "Epoch: 36 Batch: 21/23 Loss: 113.353662109375\n",
      "Epoch: 36 avg loss: 128.67774591526063\n",
      "Epoch: 37 Batch: 1/23 Loss: 131.3121826171875\n",
      "Epoch: 37 Batch: 11/23 Loss: 119.12938232421875\n",
      "Epoch: 37 Batch: 21/23 Loss: 192.4908447265625\n",
      "Epoch: 37 avg loss: 128.04732147986147\n",
      "Epoch: 38 Batch: 1/23 Loss: 118.90972900390625\n",
      "Epoch: 38 Batch: 11/23 Loss: 158.38165283203125\n",
      "Epoch: 38 Batch: 21/23 Loss: 114.99332275390626\n",
      "Epoch: 38 avg loss: 122.13917015780922\n",
      "Epoch: 39 Batch: 1/23 Loss: 105.977734375\n",
      "Epoch: 39 Batch: 11/23 Loss: 147.12283935546876\n",
      "Epoch: 39 Batch: 21/23 Loss: 153.3203369140625\n",
      "Epoch: 39 avg loss: 115.18993114824055\n",
      "Epoch: 40 Batch: 1/23 Loss: 79.25875854492188\n",
      "Epoch: 40 Batch: 11/23 Loss: 139.20714111328124\n",
      "Epoch: 40 Batch: 21/23 Loss: 124.23804931640625\n",
      "Epoch: 40 avg loss: 115.96076362673976\n",
      "Epoch: 41 Batch: 1/23 Loss: 146.8664306640625\n",
      "Epoch: 41 Batch: 11/23 Loss: 107.6437255859375\n",
      "Epoch: 41 Batch: 21/23 Loss: 137.21767578125\n",
      "Epoch: 41 avg loss: 117.32564333106289\n",
      "Epoch: 42 Batch: 1/23 Loss: 125.5002685546875\n",
      "Epoch: 42 Batch: 11/23 Loss: 107.22913818359375\n",
      "Epoch: 42 Batch: 21/23 Loss: 101.63175048828126\n",
      "Epoch: 42 avg loss: 114.19077461306789\n",
      "Epoch: 43 Batch: 1/23 Loss: 131.59027099609375\n",
      "Epoch: 43 Batch: 11/23 Loss: 118.39658203125\n",
      "Epoch: 43 Batch: 21/23 Loss: 120.5803466796875\n",
      "Epoch: 43 avg loss: 123.09883335658482\n",
      "Epoch: 44 Batch: 1/23 Loss: 118.69425048828126\n",
      "Epoch: 44 Batch: 11/23 Loss: 142.408984375\n",
      "Epoch: 44 Batch: 21/23 Loss: 130.20830078125\n",
      "Epoch: 44 avg loss: 118.30812470251773\n",
      "Epoch: 45 Batch: 1/23 Loss: 95.996484375\n",
      "Epoch: 45 Batch: 11/23 Loss: 129.09715576171874\n",
      "Epoch: 45 Batch: 21/23 Loss: 150.22320556640625\n",
      "Epoch: 45 avg loss: 118.8028620872177\n",
      "Epoch: 46 Batch: 1/23 Loss: 116.23350830078125\n",
      "Epoch: 46 Batch: 11/23 Loss: 117.561181640625\n",
      "Epoch: 46 Batch: 21/23 Loss: 101.76316528320312\n",
      "Epoch: 46 avg loss: 113.06358581030068\n",
      "Epoch: 47 Batch: 1/23 Loss: 120.30870361328125\n",
      "Epoch: 47 Batch: 11/23 Loss: 83.64819946289063\n",
      "Epoch: 47 Batch: 21/23 Loss: 130.51126708984376\n",
      "Epoch: 47 avg loss: 105.47042769744617\n",
      "Epoch: 48 Batch: 1/23 Loss: 114.63765869140624\n",
      "Epoch: 48 Batch: 11/23 Loss: 143.6021728515625\n",
      "Epoch: 48 Batch: 21/23 Loss: 137.43834228515624\n",
      "Epoch: 48 avg loss: 111.7158569848838\n",
      "Epoch: 49 Batch: 1/23 Loss: 143.6890625\n",
      "Epoch: 49 Batch: 11/23 Loss: 163.05068359375\n",
      "Epoch: 49 Batch: 21/23 Loss: 153.29566650390626\n",
      "Epoch: 49 avg loss: 127.84640913250065\n",
      "Epoch: 50 Batch: 1/23 Loss: 139.302294921875\n",
      "Epoch: 50 Batch: 11/23 Loss: 119.68990478515624\n",
      "Epoch: 50 Batch: 21/23 Loss: 183.20830078125\n",
      "Epoch: 50 avg loss: 137.24598065544578\n"
     ]
    }
   ],
   "source": [
    "train(encoder, decoder, train_loader, optimizer, num_epochs = 50)"
   ]
  },
  {
   "cell_type": "code",
   "execution_count": 65,
   "metadata": {},
   "outputs": [],
   "source": [
    "torch.save(encoder, \"models/lebron1_encoder\")\n",
    "torch.save(decoder, \"models/lebron1_decoder\")"
   ]
  },
  {
   "cell_type": "code",
   "execution_count": 66,
   "metadata": {},
   "outputs": [],
   "source": []
  },
  {
   "cell_type": "code",
   "execution_count": 711,
   "metadata": {},
   "outputs": [
    {
     "data": {
      "text/plain": [
       "Decoder(\n",
       "  (lin1): Linear(in_features=20, out_features=3888, bias=True)\n",
       "  (lin2): Linear(in_features=3888, out_features=11664, bias=True)\n",
       "  (lin3): Linear(in_features=11664, out_features=15552, bias=True)\n",
       ")"
      ]
     },
     "execution_count": 711,
     "metadata": {},
     "output_type": "execute_result"
    }
   ],
   "source": [
    "encoder2 = torch.load(\"models/lebron1_encoder\")\n",
    "encoder2.eval()\n",
    "decoder2 = torch.load(\"models/lebron1_decoder\")\n",
    "decoder2.eval()"
   ]
  },
  {
   "cell_type": "code",
   "execution_count": 70,
   "metadata": {},
   "outputs": [
    {
     "data": {
      "image/png": "[encoded data removed]",
      "text/plain": [
       "<PIL.Image.Image image mode=RGB size=96x54 at 0x13C199978>"
      ]
     },
     "metadata": {},
     "output_type": "display_data"
    }
   ],
   "source": [
    "Amu, Alog_var = encoder2(images[118])\n",
    "Aresult = decoder2(sample(Amu, Alog_var))\n",
    "display_tensor_image(Aresult[0])"
   ]
  },
  {
   "cell_type": "code",
   "execution_count": 63,
   "metadata": {},
   "outputs": [
    {
     "data": {
      "image/png": "[encoded data removed]",
      "text/plain": [
       "<PIL.Image.Image image mode=RGB size=96x54 at 0x13B4CE9B0>"
      ]
     },
     "metadata": {},
     "output_type": "display_data"
    }
   ],
   "source": [
    "display_tensor_image(images[118])"
   ]
  },
  {
   "cell_type": "code",
   "execution_count": 720,
   "metadata": {},
   "outputs": [
    {
     "data": {
      "text/plain": [
       "<matplotlib.colorbar.Colorbar at 0x1b5f2ebfd0>"
      ]
     },
     "execution_count": 720,
     "metadata": {},
     "output_type": "execute_result"
    },
    {
     "data": {
      "image/png": "[encoded data removed]",
      "text/plain": [
       "<Figure size 720x432 with 2 Axes>"
      ]
     },
     "metadata": {
      "needs_background": "light"
     },
     "output_type": "display_data"
    }
   ],
   "source": [
    "test_features = []\n",
    "test_labels=[]\n",
    "test_sigmas=[]\n",
    "for i in range(len(images)):\n",
    "    z, sigma = encoder2(images[i])\n",
    "    z = z.detach().numpy()\n",
    "    z = np.squeeze(z)\n",
    "    test_features.append(z)\n",
    "    test_sigmas.append(sigma)\n",
    "    test_labels.append(i)\n",
    "    \n",
    "test_features = np.array(test_features)\n",
    "test_labels = np.array(test_labels)\n",
    "\n",
    "#reduce dimensionality to 2D, we consider a subset of data because TSNE\n",
    "tsne_features = TSNE(n_components=2).fit_transform(test_features)\n",
    "fig = plt.figure(figsize=(10, 6))\n",
    "\n",
    "plt.scatter(tsne_features[:, 0], tsne_features[:, 1], c=test_labels[:tsne_features.shape[0]], marker='o',\n",
    "            edgecolor='none', cmap=plt.cm.get_cmap('jet', 10), s = 10)\n",
    "plt.grid(False)\n",
    "plt.axis('on')\n",
    "plt.colorbar()"
   ]
  },
  {
   "cell_type": "code",
   "execution_count": 721,
   "metadata": {},
   "outputs": [
    {
     "data": {
      "image/png": "[encoded data removed]",
      "text/plain": [
       "<Figure size 432x288 with 1 Axes>"
      ]
     },
     "metadata": {
      "needs_background": "light"
     },
     "output_type": "display_data"
    },
    {
     "name": "stdout",
     "output_type": "stream",
     "text": [
      "0.5953549017497808\n"
     ]
    }
   ],
   "source": [
    "plt.title(\"Distance between each latent space point\")\n",
    "plt.plot(get_latent_dist(test_features))\n",
    "plt.show()\n",
    "print(str(get_latent_dist(test_features).mean()))"
   ]
  },
  {
   "cell_type": "markdown",
   "metadata": {},
   "source": [
    "Avg. latent space distance"
   ]
  },
  {
   "cell_type": "code",
   "execution_count": 722,
   "metadata": {},
   "outputs": [
    {
     "name": "stdout",
     "output_type": "stream",
     "text": [
      "0: 0.00858745\n",
      "1: 0.0058668917\n",
      "2: 0.005214536\n",
      "3: 0.0057330034\n",
      "4: 0.008094904\n",
      "5: 0.007511739\n",
      "6: 0.0035720647\n",
      "7: 0.0035682411\n",
      "8: 0.003885072\n",
      "9: 0.0066293366\n",
      "10: 0.007941035\n",
      "11: 0.007776949\n",
      "12: 0.005893469\n",
      "13: 0.0058971294\n",
      "14: 0.007272273\n",
      "15: 0.008432803\n",
      "16: 0.008811449\n",
      "17: 0.0072630346\n",
      "18: 0.0051098703\n",
      "19: 0.0051113525\n",
      "20: 0.0067791557\n",
      "21: 0.0075926664\n",
      "22: 0.008175542\n",
      "23: 0.0063069984\n",
      "24: 0.004213518\n",
      "25: 0.0042118034\n",
      "26: 0.005425801\n",
      "27: 0.007013961\n",
      "28: 0.007874679\n",
      "29: 0.0065550823\n",
      "30: 0.0037367926\n",
      "31: 0.0037397107\n",
      "32: 0.0058860723\n",
      "33: 0.011946549\n",
      "34: 0.012477051\n",
      "35: 0.009356897\n",
      "36: 0.00596737\n",
      "37: 0.0059702573\n",
      "38: 0.0065427967\n",
      "39: 0.006854973\n",
      "40: 0.007891706\n",
      "41: 0.007890844\n",
      "42: 0.005093794\n",
      "43: 0.0050969324\n",
      "44: 0.006743744\n",
      "45: 0.008165274\n",
      "46: 0.008131487\n",
      "47: 0.006946742\n",
      "48: 0.006163579\n",
      "49: 0.0061664563\n",
      "50: 0.008401157\n",
      "51: 0.012975571\n",
      "52: 0.011510578\n",
      "53: 0.009255772\n",
      "54: 0.0046271835\n",
      "55: 0.004625425\n",
      "56: 0.007172414\n",
      "57: 0.0086780535\n",
      "58: 0.00827554\n",
      "59: 0.0067747687\n",
      "60: 0.0057777045\n",
      "61: 0.0057773166\n",
      "62: 0.008557973\n",
      "63: 0.010349788\n",
      "64: 0.012791853\n",
      "65: 0.011431013\n",
      "66: 0.00885964\n",
      "67: 0.008861499\n",
      "68: 0.008783453\n",
      "69: 0.007755212\n",
      "70: 0.008160843\n",
      "71: 0.007228463\n",
      "72: 0.005397593\n",
      "73: 0.0053974576\n",
      "74: 0.007380153\n",
      "75: 0.008551334\n",
      "76: 0.009191814\n",
      "77: 0.0075627924\n",
      "78: 0.0048338273\n",
      "79: 0.0048346734\n",
      "80: 0.008360144\n",
      "81: 0.008367119\n",
      "82: 0.008152217\n",
      "83: 0.008051712\n",
      "84: 0.012180387\n",
      "85: 0.012170127\n",
      "86: 0.017915435\n",
      "87: 0.01933302\n",
      "88: 0.0153334085\n",
      "89: 0.009292319\n",
      "90: 0.005343042\n",
      "91: 0.005338861\n",
      "92: 0.004551603\n",
      "93: 0.0053149182\n",
      "94: 0.0069519067\n",
      "95: 0.006523867\n",
      "96: 0.0033182236\n",
      "97: 0.0033180695\n",
      "98: 0.005129102\n",
      "99: 0.006178697\n",
      "100: 0.006248241\n",
      "101: 0.011039135\n",
      "102: 0.01918695\n",
      "103: 0.019199198\n",
      "104: 0.01527813\n",
      "105: 0.012715119\n",
      "106: 0.011247503\n",
      "107: 0.007479297\n",
      "108: 0.0060828137\n",
      "109: 0.0060781697\n",
      "110: 0.009183843\n",
      "111: 0.008461954\n",
      "112: 0.0075215125\n",
      "113: 0.006436096\n",
      "114: 0.0069684247\n",
      "115: 0.0069717113\n",
      "116: 0.013860809\n",
      "117: 0.017179394\n",
      "118: 0.02053527\n",
      "avg error: 0.0080308365\n",
      "0.008187197322122107 upper bound\n"
     ]
    }
   ],
   "source": [
    "# Test MSE of latent space\n",
    "trained_mse = []\n",
    "decoded_train_images = []\n",
    "for i in range(len(images)):\n",
    "    decoded_train_images.append(decoder2(sample(torch.from_numpy(test_features[i].astype(np.float32)), test_sigmas[i], testing=True)))\n",
    "results = grade_results(images, decoded_train_images)\n",
    "mean,variance = get_mean_variance(results)\n",
    "print(str(mean + variance.max()) + \" upper bound\")"
   ]
  },
  {
   "cell_type": "markdown",
   "metadata": {},
   "source": [
    "# Blocking out 10 frames in a row to attempt to recreate them"
   ]
  },
  {
   "cell_type": "code",
   "execution_count": 723,
   "metadata": {},
   "outputs": [],
   "source": [
    "train_images = data[0]\n",
    "train_images = train_images[:80] + train_images[90:]\n",
    "test_images = train_images[80:90]\n",
    "batch_size = 5\n",
    "x_len = train_images[0].shape[0]\n",
    "y_len = train_images[0].shape[1]\n",
    "z_len = train_images[0].shape[2]\n",
    "total_len = train_images[0].shape[0]*train_images[0].shape[1]*train_images[0].shape[2]\n",
    "train_loader = DataLoader(train_images,batch_size=batch_size,drop_last = True,shuffle=True)"
   ]
  },
  {
   "cell_type": "code",
   "execution_count": 105,
   "metadata": {},
   "outputs": [],
   "source": [
    "\n",
    "class Encoder(nn.Module):\n",
    "  def __init__(self, x_len=x_len, y_len=y_len, z_len=z_len, latent_dim=latent_dim):\n",
    "    super(Encoder, self).__init__()\n",
    "    ## YOUR CODE HERE ##\n",
    "    total_len = x_len*y_len*z_len\n",
    "    self.lin1 = nn.Linear(total_len, total_len*3//4)\n",
    "    self.lin2 = nn.Linear(total_len*3//4, total_len*1//4)\n",
    "    self.lin3a = nn.Linear(total_len*1//4, latent_dim)\n",
    "    self.lin3b = nn.Linear(total_len*1//4, latent_dim)\n",
    "  \n",
    "  def forward(self, x):\n",
    "    ## YOUR CODE HERE ##\\\n",
    "#     print(x)\n",
    "    x = x.view(-1, total_len)\n",
    "#     print(x)\n",
    "    x = nn.functional.relu(self.lin1(x))\n",
    "#     print(x)\n",
    "    x = nn.functional.relu(self.lin2(x))\n",
    "    # mu, log_var\n",
    "    return self.lin3a(x), self.lin3b(x)\n",
    "\n",
    "class Decoder(nn.Module):\n",
    "  def __init__(self, x_len=x_len, y_len=y_len, z_len=z_len, latent_dim=latent_dim):\n",
    "    super(Decoder, self).__init__()\n",
    "    ## YOUR CODE HERE ##\n",
    "    total_len = x_len*y_len*z_len\n",
    "    self.lin1 = nn.Linear(latent_dim, total_len*1//4)\n",
    "    self.lin2 = nn.Linear(total_len*1//4, total_len*3//4)\n",
    "    self.lin3 = nn.Linear(total_len*3//4, total_len)\n",
    "\n",
    "  def forward(self,x):\n",
    "    ## YOUR CODE HERE ##\n",
    "    x = nn.functional.relu(self.lin1(x))\n",
    "    x = nn.functional.relu(self.lin2(x))\n",
    "    x = torch.sigmoid(self.lin3(x))\n",
    "    return x.view(-1, x_len, y_len, z_len)"
   ]
  },
  {
   "cell_type": "code",
   "execution_count": 106,
   "metadata": {},
   "outputs": [],
   "source": [
    "encoder = Encoder(x_len,y_len,z_len,latent_dim)\n",
    "decoder = Decoder(x_len,y_len,z_len,latent_dim)\n",
    "params = list(encoder.parameters())+list(decoder.parameters())\n",
    "optimizer = optim.Adam(params, lr=1e-3)"
   ]
  },
  {
   "cell_type": "code",
   "execution_count": 107,
   "metadata": {
    "collapsed": true,
    "jupyter": {
     "outputs_hidden": true
    }
   },
   "outputs": [
    {
     "name": "stdout",
     "output_type": "stream",
     "text": [
      "Epoch: 1 Batch: 1/21 Loss: 1152.80224609375\n",
      "Epoch: 1 Batch: 11/21 Loss: 1702.3111328125\n",
      "Epoch: 1 Batch: 21/21 Loss: 506.320654296875\n",
      "Epoch: 1 avg loss: 1356.1997518276949\n",
      "Epoch: 2 Batch: 1/21 Loss: 504.867041015625\n",
      "Epoch: 2 Batch: 11/21 Loss: 433.2240234375\n",
      "Epoch: 2 Batch: 21/21 Loss: 476.961572265625\n",
      "Epoch: 2 avg loss: 434.432526474699\n",
      "Epoch: 3 Batch: 1/21 Loss: 433.398974609375\n",
      "Epoch: 3 Batch: 11/21 Loss: 455.487109375\n",
      "Epoch: 3 Batch: 21/21 Loss: 356.9653564453125\n",
      "Epoch: 3 avg loss: 375.69045432554475\n",
      "Epoch: 4 Batch: 1/21 Loss: 364.8591064453125\n",
      "Epoch: 4 Batch: 11/21 Loss: 345.7279296875\n",
      "Epoch: 4 Batch: 21/21 Loss: 322.8613037109375\n",
      "Epoch: 4 avg loss: 310.764739150301\n",
      "Epoch: 5 Batch: 1/21 Loss: 313.990966796875\n",
      "Epoch: 5 Batch: 11/21 Loss: 279.0169189453125\n",
      "Epoch: 5 Batch: 21/21 Loss: 279.219921875\n",
      "Epoch: 5 avg loss: 279.5140840022936\n",
      "Epoch: 6 Batch: 1/21 Loss: 260.0083740234375\n",
      "Epoch: 6 Batch: 11/21 Loss: 279.064306640625\n",
      "Epoch: 6 Batch: 21/21 Loss: 277.23115234375\n",
      "Epoch: 6 avg loss: 269.99435004838017\n",
      "Epoch: 7 Batch: 1/21 Loss: 282.5757568359375\n",
      "Epoch: 7 Batch: 11/21 Loss: 239.0565673828125\n",
      "Epoch: 7 Batch: 21/21 Loss: 251.193994140625\n",
      "Epoch: 7 avg loss: 249.30103770964737\n",
      "Epoch: 8 Batch: 1/21 Loss: 269.39296875\n",
      "Epoch: 8 Batch: 11/21 Loss: 233.65107421875\n",
      "Epoch: 8 Batch: 21/21 Loss: 275.6864013671875\n",
      "Epoch: 8 avg loss: 244.05037136252867\n",
      "Epoch: 9 Batch: 1/21 Loss: 238.85556640625\n",
      "Epoch: 9 Batch: 11/21 Loss: 270.0984130859375\n",
      "Epoch: 9 Batch: 21/21 Loss: 289.0782470703125\n",
      "Epoch: 9 avg loss: 239.68569358335722\n",
      "Epoch: 10 Batch: 1/21 Loss: 256.5278076171875\n",
      "Epoch: 10 Batch: 11/21 Loss: 247.0894775390625\n",
      "Epoch: 10 Batch: 21/21 Loss: 339.8958740234375\n",
      "Epoch: 10 avg loss: 244.5569390813145\n",
      "Epoch: 11 Batch: 1/21 Loss: 232.1520263671875\n",
      "Epoch: 11 Batch: 11/21 Loss: 247.83994140625\n",
      "Epoch: 11 Batch: 21/21 Loss: 280.78095703125\n",
      "Epoch: 11 avg loss: 246.67127584754874\n",
      "Epoch: 12 Batch: 1/21 Loss: 196.732421875\n",
      "Epoch: 12 Batch: 11/21 Loss: 248.340283203125\n",
      "Epoch: 12 Batch: 21/21 Loss: 247.18017578125\n",
      "Epoch: 12 avg loss: 222.3671858201333\n",
      "Epoch: 13 Batch: 1/21 Loss: 216.379736328125\n",
      "Epoch: 13 Batch: 11/21 Loss: 209.4600341796875\n",
      "Epoch: 13 Batch: 21/21 Loss: 219.1148681640625\n",
      "Epoch: 13 avg loss: 211.11345931586868\n",
      "Epoch: 14 Batch: 1/21 Loss: 228.861083984375\n",
      "Epoch: 14 Batch: 11/21 Loss: 191.1791259765625\n",
      "Epoch: 14 Batch: 21/21 Loss: 204.0965087890625\n",
      "Epoch: 14 avg loss: 203.64576987170298\n",
      "Epoch: 15 Batch: 1/21 Loss: 220.3566162109375\n",
      "Epoch: 15 Batch: 11/21 Loss: 208.6307861328125\n",
      "Epoch: 15 Batch: 21/21 Loss: 239.1968994140625\n",
      "Epoch: 15 avg loss: 217.29266021448538\n",
      "Epoch: 16 Batch: 1/21 Loss: 279.433544921875\n",
      "Epoch: 16 Batch: 11/21 Loss: 268.169482421875\n",
      "Epoch: 16 Batch: 21/21 Loss: 221.5975830078125\n",
      "Epoch: 16 avg loss: 242.2818838696961\n",
      "Epoch: 17 Batch: 1/21 Loss: 207.92451171875\n",
      "Epoch: 17 Batch: 11/21 Loss: 256.7822021484375\n",
      "Epoch: 17 Batch: 21/21 Loss: 237.857568359375\n",
      "Epoch: 17 avg loss: 231.35014525247277\n",
      "Epoch: 18 Batch: 1/21 Loss: 197.99866943359376\n",
      "Epoch: 18 Batch: 11/21 Loss: 228.4129638671875\n",
      "Epoch: 18 Batch: 21/21 Loss: 208.537451171875\n",
      "Epoch: 18 avg loss: 202.55579285227924\n",
      "Epoch: 19 Batch: 1/21 Loss: 184.862255859375\n",
      "Epoch: 19 Batch: 11/21 Loss: 202.9012939453125\n",
      "Epoch: 19 Batch: 21/21 Loss: 196.57833251953124\n",
      "Epoch: 19 avg loss: 193.45256392452694\n",
      "Epoch: 20 Batch: 1/21 Loss: 181.06280517578125\n",
      "Epoch: 20 Batch: 11/21 Loss: 166.0259521484375\n",
      "Epoch: 20 Batch: 21/21 Loss: 201.185791015625\n",
      "Epoch: 20 avg loss: 199.99749811854932\n",
      "Epoch: 21 Batch: 1/21 Loss: 159.7329345703125\n",
      "Epoch: 21 Batch: 11/21 Loss: 184.5543212890625\n",
      "Epoch: 21 Batch: 21/21 Loss: 239.5684814453125\n",
      "Epoch: 21 avg loss: 178.77557373046875\n",
      "Epoch: 22 Batch: 1/21 Loss: 174.8096923828125\n",
      "Epoch: 22 Batch: 11/21 Loss: 207.681640625\n",
      "Epoch: 22 Batch: 21/21 Loss: 281.0011474609375\n",
      "Epoch: 22 avg loss: 192.36729893115682\n",
      "Epoch: 23 Batch: 1/21 Loss: 198.09766845703126\n",
      "Epoch: 23 Batch: 11/21 Loss: 209.786474609375\n",
      "Epoch: 23 Batch: 21/21 Loss: 206.8869384765625\n",
      "Epoch: 23 avg loss: 198.8347739123423\n",
      "Epoch: 24 Batch: 1/21 Loss: 230.693310546875\n",
      "Epoch: 24 Batch: 11/21 Loss: 236.8352294921875\n",
      "Epoch: 24 Batch: 21/21 Loss: 243.1224853515625\n",
      "Epoch: 24 avg loss: 228.77169379838017\n",
      "Epoch: 25 Batch: 1/21 Loss: 156.49632568359374\n",
      "Epoch: 25 Batch: 11/21 Loss: 225.061376953125\n",
      "Epoch: 25 Batch: 21/21 Loss: 260.0340087890625\n",
      "Epoch: 25 avg loss: 212.68422202014048\n",
      "Epoch: 26 Batch: 1/21 Loss: 225.43349609375\n",
      "Epoch: 26 Batch: 11/21 Loss: 182.75992431640626\n",
      "Epoch: 26 Batch: 21/21 Loss: 210.34365234375\n",
      "Epoch: 26 avg loss: 196.42615082067087\n",
      "Epoch: 27 Batch: 1/21 Loss: 173.19859619140624\n",
      "Epoch: 27 Batch: 11/21 Loss: 187.018359375\n",
      "Epoch: 27 Batch: 21/21 Loss: 208.774951171875\n",
      "Epoch: 27 avg loss: 178.11287864195097\n",
      "Epoch: 28 Batch: 1/21 Loss: 197.84805908203126\n",
      "Epoch: 28 Batch: 11/21 Loss: 183.4813232421875\n",
      "Epoch: 28 Batch: 21/21 Loss: 205.08544921875\n",
      "Epoch: 28 avg loss: 178.81010786983944\n",
      "Epoch: 29 Batch: 1/21 Loss: 208.2811767578125\n",
      "Epoch: 29 Batch: 11/21 Loss: 181.2197021484375\n",
      "Epoch: 29 Batch: 21/21 Loss: 207.34775390625\n",
      "Epoch: 29 avg loss: 166.35677568628154\n",
      "Epoch: 30 Batch: 1/21 Loss: 166.3888427734375\n",
      "Epoch: 30 Batch: 11/21 Loss: 175.4977294921875\n",
      "Epoch: 30 Batch: 21/21 Loss: 216.914599609375\n",
      "Epoch: 30 avg loss: 165.023934740539\n"
     ]
    }
   ],
   "source": [
    "train(encoder, decoder, train_loader, optimizer, num_epochs = 40, x_len=x_len, y_len=y_len, z_len=z_len)"
   ]
  },
  {
   "cell_type": "code",
   "execution_count": 108,
   "metadata": {},
   "outputs": [],
   "source": [
    "torch.save(encoder, \"models/train_lebron1_encoder\")\n",
    "torch.save(decoder, \"models/train_lebron1_decoder\")"
   ]
  },
  {
   "cell_type": "code",
   "execution_count": 724,
   "metadata": {},
   "outputs": [
    {
     "data": {
      "text/plain": [
       "Decoder(\n",
       "  (lin1): Linear(in_features=20, out_features=3888, bias=True)\n",
       "  (lin2): Linear(in_features=3888, out_features=11664, bias=True)\n",
       "  (lin3): Linear(in_features=11664, out_features=15552, bias=True)\n",
       ")"
      ]
     },
     "execution_count": 724,
     "metadata": {},
     "output_type": "execute_result"
    }
   ],
   "source": [
    "trained_encoder = torch.load(\"models/train_lebron1_encoder\")\n",
    "trained_encoder.eval()\n",
    "trained_decoder = torch.load(\"models/train_lebron1_decoder\")\n",
    "trained_decoder.eval()"
   ]
  },
  {
   "cell_type": "code",
   "execution_count": 120,
   "metadata": {},
   "outputs": [
    {
     "data": {
      "image/png": "[encoded data removed]",
      "text/plain": [
       "<PIL.Image.Image image mode=RGB size=96x54 at 0x1AABD53D68>"
      ]
     },
     "metadata": {},
     "output_type": "display_data"
    }
   ],
   "source": [
    "Amu, Alog_var = trained_encoder(train_images[100])\n",
    "Aresult = trained_decoder(sample(Amu, Alog_var))\n",
    "display_tensor_image(Aresult[0])"
   ]
  },
  {
   "cell_type": "markdown",
   "metadata": {},
   "source": [
    "Missing frames 80->89...\n",
    "Will use GP in latent space to recover these frames"
   ]
  },
  {
   "cell_type": "code",
   "execution_count": 121,
   "metadata": {},
   "outputs": [],
   "source": [
    "from sklearn.manifold import TSNE"
   ]
  },
  {
   "cell_type": "code",
   "execution_count": 725,
   "metadata": {},
   "outputs": [],
   "source": [
    "test_features = []\n",
    "test_labels=[]\n",
    "test_sigmas = []\n",
    "for i in range(len(train_images)):\n",
    "    z, sigma = trained_encoder(train_images[i])\n",
    "    z = z.detach().numpy()\n",
    "    z = np.squeeze(z)\n",
    "    test_features.append(z)\n",
    "    test_sigmas.append(sigma)\n",
    "    test_labels.append(i)\n",
    "    \n",
    "test_features = np.array(test_features)\n",
    "test_labels = np.array(test_labels)\n",
    "\n",
    "#reduce dimensionality to 2D, we consider a subset of data because TSNE\n",
    "tsne_features = TSNE(n_components=2).fit_transform(test_features)\n"
   ]
  },
  {
   "cell_type": "code",
   "execution_count": 142,
   "metadata": {},
   "outputs": [
    {
     "data": {
      "text/plain": [
       "<matplotlib.colorbar.Colorbar at 0x1aac7dfda0>"
      ]
     },
     "execution_count": 142,
     "metadata": {},
     "output_type": "execute_result"
    },
    {
     "data": {
      "image/png": "[encoded data removed]",
      "text/plain": [
       "<Figure size 720x432 with 2 Axes>"
      ]
     },
     "metadata": {
      "needs_background": "light"
     },
     "output_type": "display_data"
    }
   ],
   "source": [
    "fig = plt.figure(figsize=(10, 6))\n",
    "\n",
    "plt.scatter(tsne_features[:, 0], tsne_features[:, 1], c=test_labels[:tsne_features.shape[0]], marker='o',\n",
    "            edgecolor='none', cmap=plt.cm.get_cmap('jet', 10), s = 10)\n",
    "plt.grid(False)\n",
    "plt.axis('on')\n",
    "plt.colorbar()"
   ]
  },
  {
   "cell_type": "code",
   "execution_count": 727,
   "metadata": {},
   "outputs": [
    {
     "data": {
      "image/png": "[encoded data removed]",
      "text/plain": [
       "<Figure size 432x288 with 1 Axes>"
      ]
     },
     "metadata": {
      "needs_background": "light"
     },
     "output_type": "display_data"
    },
    {
     "name": "stdout",
     "output_type": "stream",
     "text": [
      "Avg latent space dist: 0.39734384160261405\n",
      "Missing frames latent dist: : 3.876356363296509\n"
     ]
    }
   ],
   "source": [
    "plt.title(\"Distance between each latent space point\")\n",
    "plt.plot(get_latent_dist(test_features))\n",
    "plt.show()\n",
    "print(\"Avg latent space dist: \" + str(get_latent_dist(test_features).mean()))\n",
    "print(\"Missing frames latent dist: : \" + str(get_latent_dist(test_features).max()))"
   ]
  },
  {
   "cell_type": "code",
   "execution_count": 694,
   "metadata": {},
   "outputs": [
    {
     "name": "stdout",
     "output_type": "stream",
     "text": [
      "0: 0.014521268\n",
      "1: 0.012718208\n",
      "2: 0.01232038\n",
      "3: 0.01173434\n",
      "4: 0.010636539\n",
      "5: 0.008204623\n",
      "6: 0.0061403103\n",
      "7: 0.0061341743\n",
      "8: 0.0064333593\n",
      "9: 0.008657239\n",
      "10: 0.01028142\n",
      "11: 0.010435781\n",
      "12: 0.009913987\n",
      "13: 0.009922938\n",
      "14: 0.010996689\n",
      "15: 0.010901237\n",
      "16: 0.010018974\n",
      "17: 0.009008276\n",
      "18: 0.008539774\n",
      "19: 0.008542053\n",
      "20: 0.009651374\n",
      "21: 0.010051397\n",
      "22: 0.010185425\n",
      "23: 0.010021306\n",
      "24: 0.009332046\n",
      "25: 0.009334649\n",
      "26: 0.011106489\n",
      "27: 0.013233643\n",
      "28: 0.01572583\n",
      "29: 0.015564395\n",
      "30: 0.015237803\n",
      "31: 0.015240228\n",
      "32: 0.015237953\n",
      "33: 0.012630225\n",
      "34: 0.011916162\n",
      "35: 0.012510994\n",
      "36: 0.012211617\n",
      "37: 0.012218045\n",
      "38: 0.013012054\n",
      "39: 0.017764445\n",
      "40: 0.020369744\n",
      "41: 0.020492313\n",
      "42: 0.017814161\n",
      "43: 0.017816555\n",
      "44: 0.017114628\n",
      "45: 0.016575426\n",
      "46: 0.01589748\n",
      "47: 0.013490434\n",
      "48: 0.012651803\n",
      "49: 0.012655406\n",
      "50: 0.013387109\n",
      "51: 0.0158969\n",
      "52: 0.016648136\n",
      "53: 0.01538929\n",
      "54: 0.015040518\n",
      "55: 0.015041203\n",
      "56: 0.014339788\n",
      "57: 0.015415608\n",
      "58: 0.013829989\n",
      "59: 0.013293594\n",
      "60: 0.012451358\n",
      "61: 0.012451816\n",
      "62: 0.012457008\n",
      "63: 0.011092776\n",
      "64: 0.012599553\n",
      "65: 0.013902933\n",
      "66: 0.015579851\n",
      "67: 0.0155760525\n",
      "68: 0.015226526\n",
      "69: 0.01781502\n",
      "70: 0.017354691\n",
      "71: 0.01376791\n",
      "72: 0.009473418\n",
      "73: 0.009473823\n",
      "74: 0.008826303\n",
      "75: 0.010040124\n",
      "76: 0.011331594\n",
      "77: 0.01258888\n",
      "78: 0.014610146\n",
      "79: 0.014608795\n",
      "80: 0.004543486\n",
      "81: 0.0045410045\n",
      "82: 0.005524402\n",
      "83: 0.012003482\n",
      "84: 0.01535471\n",
      "85: 0.014003791\n",
      "86: 0.0081996815\n",
      "87: 0.00819325\n",
      "88: 0.0066789356\n",
      "89: 0.009621228\n",
      "90: 0.010430799\n",
      "91: 0.0061005084\n",
      "92: 0.0034020036\n",
      "93: 0.0034025721\n",
      "94: 0.006281988\n",
      "95: 0.008338224\n",
      "96: 0.011051753\n",
      "97: 0.012995493\n",
      "98: 0.0062668105\n",
      "99: 0.0062646093\n",
      "100: 0.0049606776\n",
      "101: 0.009268632\n",
      "102: 0.014118004\n",
      "103: 0.010624597\n",
      "104: 0.005653648\n",
      "105: 0.005648404\n",
      "106: 0.006657793\n",
      "107: 0.011206076\n",
      "108: 0.015992511\n",
      "avg error: 0.011651059\n",
      "0.011729226466835399 upper bound\n"
     ]
    }
   ],
   "source": [
    "# Test MSE of latent space\n",
    "trained_mse = []\n",
    "decoded_train_images = []\n",
    "for i in range(len(train_images)):\n",
    "    decoded_train_images.append(trained_decoder(sample(torch.from_numpy(test_features[i].astype(np.float32)), test_sigmas[i], testing=True)))\n",
    "results = grade_results(train_images, decoded_train_images)\n",
    "mean,variance = get_mean_variance(results)\n",
    "print(str(mean + variance.max()) + \" upper bound\")"
   ]
  },
  {
   "cell_type": "code",
   "execution_count": 150,
   "metadata": {},
   "outputs": [],
   "source": [
    "from sklearn.gaussian_process.kernels import ConstantKernel, RBF, DotProduct, WhiteKernel, Sum\n",
    "from sklearn.gaussian_process import GaussianProcessRegressor"
   ]
  },
  {
   "cell_type": "code",
   "execution_count": 735,
   "metadata": {},
   "outputs": [],
   "source": [
    "x1 = list(np.linspace(0,79, 80).astype(int))\n",
    "x2 = list(np.linspace(90,len(images)-1, len(images)-90).astype(int))\n",
    "X = x1+x2\n",
    "X = np.array(X).reshape(-1, 1)"
   ]
  },
  {
   "cell_type": "code",
   "execution_count": null,
   "metadata": {},
   "outputs": [],
   "source": []
  },
  {
   "cell_type": "code",
   "execution_count": 737,
   "metadata": {},
   "outputs": [
    {
     "name": "stderr",
     "output_type": "stream",
     "text": [
      "/Users/joshpapermaster/anaconda3/lib/python3.7/site-packages/sklearn/base.py:434: FutureWarning: The default value of multioutput (not exposed in score method) will change from 'variance_weighted' to 'uniform_average' in 0.23 to keep consistent with 'metrics.r2_score'. To specify the default value manually and avoid the warning, please either call 'metrics.r2_score' directly or make a custom scorer with 'metrics.make_scorer' (the built-in scorer 'r2' uses multioutput='uniform_average').\n",
      "  \"multioutput='uniform_average').\", FutureWarning)\n"
     ]
    },
    {
     "data": {
      "text/plain": [
       "0.9985726736028765"
      ]
     },
     "execution_count": 737,
     "metadata": {},
     "output_type": "execute_result"
    }
   ],
   "source": [
    "kernel = RBF()*ConstantKernel()+WhiteKernel()\n",
    "gpr = GaussianProcessRegressor(kernel=kernel, n_restarts_optimizer=4, random_state=0).fit(X, test_features)\n",
    "gpr.score(X, test_features)"
   ]
  },
  {
   "cell_type": "code",
   "execution_count": 738,
   "metadata": {},
   "outputs": [],
   "source": [
    "test_x = np.linspace(80,89, 10).astype(int).reshape(-1,1)"
   ]
  },
  {
   "cell_type": "code",
   "execution_count": 739,
   "metadata": {},
   "outputs": [],
   "source": [
    "predictions, std = gpr.predict(test_x, return_std=True)\n",
    "predictions = torch.from_numpy(predictions.astype(np.float32))\n",
    "log_vars =torch.from_numpy(np.log(std**2))"
   ]
  },
  {
   "cell_type": "code",
   "execution_count": 740,
   "metadata": {},
   "outputs": [],
   "source": [
    "recovered_images=[]\n",
    "for i in range(len(test_x)):\n",
    "    recovered_images.append(trained_decoder(sample(predictions[i], log_vars[i], testing=True)).squeeze())"
   ]
  },
  {
   "cell_type": "code",
   "execution_count": 424,
   "metadata": {},
   "outputs": [
    {
     "data": {
      "image/png": "[encoded data removed]",
      "text/plain": [
       "<PIL.Image.Image image mode=RGB size=96x54 at 0x1B61C31F60>"
      ]
     },
     "metadata": {},
     "output_type": "display_data"
    }
   ],
   "source": [
    "display_tensor_image(recovered_images[8])"
   ]
  },
  {
   "cell_type": "code",
   "execution_count": 425,
   "metadata": {},
   "outputs": [
    {
     "data": {
      "image/png": "[encoded data removed]",
      "text/plain": [
       "<PIL.Image.Image image mode=RGB size=96x54 at 0x1B61C31F60>"
      ]
     },
     "metadata": {},
     "output_type": "display_data"
    }
   ],
   "source": [
    "display_tensor_image(images[88])"
   ]
  },
  {
   "cell_type": "code",
   "execution_count": null,
   "metadata": {},
   "outputs": [],
   "source": []
  },
  {
   "cell_type": "code",
   "execution_count": 276,
   "metadata": {},
   "outputs": [],
   "source": [
    "import pandas as pd\n",
    "df = pd.DataFrame(test_features)\n",
    "df.to_csv(\"latent_space.csv\")\n",
    "df = pd.DataFrame(X)\n",
    "df.to_csv(\"latent_space_x.csv\")"
   ]
  },
  {
   "cell_type": "code",
   "execution_count": null,
   "metadata": {},
   "outputs": [],
   "source": []
  },
  {
   "cell_type": "code",
   "execution_count": 335,
   "metadata": {},
   "outputs": [
    {
     "data": {
      "image/png": "[encoded data removed]",
      "text/plain": [
       "<PIL.Image.Image image mode=RGB size=96x54 at 0x1B61A39320>"
      ]
     },
     "metadata": {},
     "output_type": "display_data"
    }
   ],
   "source": [
    "display_tensor_image(recovered_images[5])"
   ]
  },
  {
   "cell_type": "code",
   "execution_count": null,
   "metadata": {},
   "outputs": [],
   "source": []
  },
  {
   "cell_type": "code",
   "execution_count": 741,
   "metadata": {},
   "outputs": [
    {
     "name": "stdout",
     "output_type": "stream",
     "text": [
      "0: 0.021175826\n",
      "1: 0.0254622\n",
      "2: 0.027538272\n",
      "3: 0.028232118\n",
      "4: 0.026729897\n",
      "5: 0.024459913\n",
      "6: 0.023625668\n",
      "7: 0.022397995\n",
      "8: 0.019715369\n",
      "9: 0.012858511\n",
      "avg error: 0.023219576\n"
     ]
    }
   ],
   "source": [
    "test_pred = images[80:90]\n",
    "grade_results(test_pred, recovered_images);"
   ]
  },
  {
   "cell_type": "code",
   "execution_count": 742,
   "metadata": {},
   "outputs": [
    {
     "name": "stdout",
     "output_type": "stream",
     "text": [
      "Avg posterior variance: 0.07422453102143475\n"
     ]
    }
   ],
   "source": [
    "print (\"Avg posterior variance: \" + str(np.exp(log_vars.numpy()).mean()))"
   ]
  },
  {
   "cell_type": "code",
   "execution_count": 553,
   "metadata": {},
   "outputs": [],
   "source": [
    "stan_preds = np.array(pd.read_csv(\"prediction80-89.csv\").drop(['Unnamed: 0'], axis=1).T)\n",
    "stan_preds = torch.from_numpy(stan_preds.astype(np.float32))"
   ]
  },
  {
   "cell_type": "code",
   "execution_count": 557,
   "metadata": {},
   "outputs": [],
   "source": [
    "recovered_stan_images=[]\n",
    "for i in range(len(test_x)):\n",
    "    recovered_stan_images.append(trained_decoder(sample(stan_preds[i], torch.zeros(len(stan_preds[0])), testing=True)).squeeze())"
   ]
  },
  {
   "cell_type": "code",
   "execution_count": 559,
   "metadata": {},
   "outputs": [
    {
     "name": "stdout",
     "output_type": "stream",
     "text": [
      "0: 0.03485465\n",
      "1: 0.035133354\n",
      "2: 0.034477986\n",
      "3: 0.034743965\n",
      "4: 0.035283282\n",
      "5: 0.034374427\n",
      "6: 0.03427704\n",
      "7: 0.033047695\n",
      "8: 0.032524567\n",
      "9: 0.0323027\n",
      "avg error: 0.034101967\n"
     ]
    }
   ],
   "source": [
    "test_pred = images[80:90]\n",
    "grade_results(test_pred, recovered_stan_images);"
   ]
  },
  {
   "cell_type": "code",
   "execution_count": 573,
   "metadata": {},
   "outputs": [
    {
     "data": {
      "image/png": "[encoded data removed]",
      "text/plain": [
       "<PIL.Image.Image image mode=RGB size=96x54 at 0x1B27E96080>"
      ]
     },
     "metadata": {},
     "output_type": "display_data"
    }
   ],
   "source": [
    "display_tensor_image(recovered_stan_images[4])"
   ]
  },
  {
   "cell_type": "code",
   "execution_count": 569,
   "metadata": {},
   "outputs": [
    {
     "data": {
      "image/png": "[encoded data removed]",
      "text/plain": [
       "<PIL.Image.Image image mode=RGB size=96x54 at 0x1AB0AC4278>"
      ]
     },
     "metadata": {},
     "output_type": "display_data"
    }
   ],
   "source": [
    "display_tensor_image(recovered_images[1])"
   ]
  },
  {
   "cell_type": "code",
   "execution_count": 372,
   "metadata": {},
   "outputs": [],
   "source": [
    "black_img = torch.zeros(3, 54, 96);"
   ]
  },
  {
   "cell_type": "code",
   "execution_count": null,
   "metadata": {},
   "outputs": [],
   "source": []
  },
  {
   "cell_type": "code",
   "execution_count": 388,
   "metadata": {},
   "outputs": [],
   "source": [
    "temp_images = data[0]\n",
    "temp_blanks = []\n",
    "for i in range(10):\n",
    "    temp_blanks.append(black_img)\n",
    "temp_images = temp_images[:80] + temp_blanks + temp_images[90:]\n",
    "create_img_folder(temp_images, \"blacked_out_lebron1\")\n",
    "recreate_movie(\"blacked_out_lebron1\", \"recreated_movies/lost_frames_lebron_1\")"
   ]
  },
  {
   "cell_type": "code",
   "execution_count": 390,
   "metadata": {},
   "outputs": [],
   "source": [
    "# create_img_folder(temp_images, \"blacked_out_lebron1\")"
   ]
  },
  {
   "cell_type": "code",
   "execution_count": 391,
   "metadata": {},
   "outputs": [
    {
     "name": "stderr",
     "output_type": "stream",
     "text": [
      "t:  41%|████      | 49/119 [00:00<00:00, 489.81it/s, now=None]"
     ]
    },
    {
     "name": "stdout",
     "output_type": "stream",
     "text": [
      "Moviepy - Building video recreated_movies/lost_frames_lebron_1.mp4.\n",
      "Moviepy - Writing video recreated_movies/lost_frames_lebron_1.mp4\n",
      "\n"
     ]
    },
    {
     "name": "stderr",
     "output_type": "stream",
     "text": [
      "                                                              "
     ]
    },
    {
     "name": "stdout",
     "output_type": "stream",
     "text": [
      "Moviepy - Done !\n",
      "Moviepy - video ready recreated_movies/lost_frames_lebron_1.mp4\n"
     ]
    },
    {
     "name": "stderr",
     "output_type": "stream",
     "text": [
      "\r"
     ]
    }
   ],
   "source": [
    "# recreate_movie(\"blacked_out_lebron1\", \"recreated_movies/lost_frames_lebron_1\")"
   ]
  },
  {
   "cell_type": "code",
   "execution_count": 438,
   "metadata": {},
   "outputs": [],
   "source": [
    "temp_images = data[0]\n",
    "temp_blanks = []\n",
    "for i in range(10):\n",
    "    temp_blanks.append(recovered_images[i])\n",
    "temp_images = temp_images[:80] + temp_blanks + temp_images[90:]\n",
    "create_img_folder(temp_images, \"recovered_lebron1\")\n",
    "recreate_movie(\"recovered_lebron1\", \"recreated_movies/recovered_lebron1\")"
   ]
  },
  {
   "cell_type": "code",
   "execution_count": 439,
   "metadata": {},
   "outputs": [],
   "source": [
    "# create_img_folder(temp_images, \"recovered_lebron1\")"
   ]
  },
  {
   "cell_type": "code",
   "execution_count": 440,
   "metadata": {},
   "outputs": [
    {
     "name": "stderr",
     "output_type": "stream",
     "text": [
      "                                                              "
     ]
    },
    {
     "name": "stdout",
     "output_type": "stream",
     "text": [
      "Moviepy - Building video recreated_movies/recovered_lebron1.mp4.\n",
      "Moviepy - Writing video recreated_movies/recovered_lebron1.mp4\n",
      "\n",
      "Moviepy - Done !\n",
      "Moviepy - video ready recreated_movies/recovered_lebron1.mp4\n"
     ]
    },
    {
     "name": "stderr",
     "output_type": "stream",
     "text": [
      "\r"
     ]
    }
   ],
   "source": [
    "# recreate_movie(\"recovered_lebron1\", \"recreated_movies/recovered_lebron1\")"
   ]
  },
  {
   "cell_type": "markdown",
   "metadata": {},
   "source": [
    "# Blocking out 20 Frames in the middle"
   ]
  },
  {
   "cell_type": "code",
   "execution_count": 743,
   "metadata": {},
   "outputs": [],
   "source": [
    "train_images = data[0]\n",
    "train_images = train_images[:40] + train_images[60:]\n",
    "test_images = train_images[40:60]\n",
    "batch_size = 5\n",
    "x_len = train_images[0].shape[0]\n",
    "y_len = train_images[0].shape[1]\n",
    "z_len = train_images[0].shape[2]\n",
    "total_len = train_images[0].shape[0]*train_images[0].shape[1]*train_images[0].shape[2]\n",
    "train_loader = DataLoader(train_images,batch_size=batch_size,drop_last = True,shuffle=True)"
   ]
  },
  {
   "cell_type": "code",
   "execution_count": 442,
   "metadata": {},
   "outputs": [],
   "source": [
    "\n",
    "class Encoder(nn.Module):\n",
    "  def __init__(self, x_len=x_len, y_len=y_len, z_len=z_len, latent_dim=latent_dim):\n",
    "    super(Encoder, self).__init__()\n",
    "    ## YOUR CODE HERE ##\n",
    "    total_len = x_len*y_len*z_len\n",
    "    self.lin1 = nn.Linear(total_len, total_len*3//4)\n",
    "    self.lin2 = nn.Linear(total_len*3//4, total_len*1//4)\n",
    "    self.lin3a = nn.Linear(total_len*1//4, latent_dim)\n",
    "    self.lin3b = nn.Linear(total_len*1//4, latent_dim)\n",
    "  \n",
    "  def forward(self, x):\n",
    "    ## YOUR CODE HERE ##\\\n",
    "#     print(x)\n",
    "    x = x.view(-1, total_len)\n",
    "#     print(x)\n",
    "    x = nn.functional.relu(self.lin1(x))\n",
    "#     print(x)\n",
    "    x = nn.functional.relu(self.lin2(x))\n",
    "    # mu, log_var\n",
    "    return self.lin3a(x), self.lin3b(x)\n",
    "\n",
    "class Decoder(nn.Module):\n",
    "  def __init__(self, x_len=x_len, y_len=y_len, z_len=z_len, latent_dim=latent_dim):\n",
    "    super(Decoder, self).__init__()\n",
    "    ## YOUR CODE HERE ##\n",
    "    total_len = x_len*y_len*z_len\n",
    "    self.lin1 = nn.Linear(latent_dim, total_len*1//4)\n",
    "    self.lin2 = nn.Linear(total_len*1//4, total_len*3//4)\n",
    "    self.lin3 = nn.Linear(total_len*3//4, total_len)\n",
    "\n",
    "  def forward(self,x):\n",
    "    ## YOUR CODE HERE ##\n",
    "    x = nn.functional.relu(self.lin1(x))\n",
    "    x = nn.functional.relu(self.lin2(x))\n",
    "    x = torch.sigmoid(self.lin3(x))\n",
    "    return x.view(-1, x_len, y_len, z_len)"
   ]
  },
  {
   "cell_type": "code",
   "execution_count": 443,
   "metadata": {},
   "outputs": [],
   "source": [
    "encoder = Encoder(x_len,y_len,z_len,latent_dim)\n",
    "decoder = Decoder(x_len,y_len,z_len,latent_dim)\n",
    "params = list(encoder.parameters())+list(decoder.parameters())\n",
    "optimizer = optim.Adam(params, lr=1e-3)"
   ]
  },
  {
   "cell_type": "code",
   "execution_count": 444,
   "metadata": {
    "collapsed": true,
    "jupyter": {
     "outputs_hidden": true
    }
   },
   "outputs": [
    {
     "name": "stdout",
     "output_type": "stream",
     "text": [
      "Epoch: 1 Batch: 1/19 Loss: 1188.93759765625\n",
      "Epoch: 1 Batch: 11/19 Loss: 1890.0361328125\n",
      "Epoch: 1 avg loss: 1630.9926017992425\n",
      "Epoch: 2 Batch: 1/19 Loss: 565.309228515625\n",
      "Epoch: 2 Batch: 11/19 Loss: 445.423583984375\n",
      "Epoch: 2 avg loss: 446.2530332623106\n",
      "Epoch: 3 Batch: 1/19 Loss: 475.919384765625\n",
      "Epoch: 3 Batch: 11/19 Loss: 392.1380126953125\n",
      "Epoch: 3 avg loss: 365.9933823094224\n",
      "Epoch: 4 Batch: 1/19 Loss: 350.945654296875\n",
      "Epoch: 4 Batch: 11/19 Loss: 277.843408203125\n",
      "Epoch: 4 avg loss: 326.16503782946654\n",
      "Epoch: 5 Batch: 1/19 Loss: 329.3243896484375\n",
      "Epoch: 5 Batch: 11/19 Loss: 373.0439208984375\n",
      "Epoch: 5 avg loss: 321.72158227785667\n",
      "Epoch: 6 Batch: 1/19 Loss: 308.732373046875\n",
      "Epoch: 6 Batch: 11/19 Loss: 355.720849609375\n",
      "Epoch: 6 avg loss: 299.61951176807133\n",
      "Epoch: 7 Batch: 1/19 Loss: 300.2178955078125\n",
      "Epoch: 7 Batch: 11/19 Loss: 269.40966796875\n",
      "Epoch: 7 avg loss: 284.01819340869633\n",
      "Epoch: 8 Batch: 1/19 Loss: 300.042724609375\n",
      "Epoch: 8 Batch: 11/19 Loss: 253.745068359375\n",
      "Epoch: 8 avg loss: 272.9254581952336\n",
      "Epoch: 9 Batch: 1/19 Loss: 288.78427734375\n",
      "Epoch: 9 Batch: 11/19 Loss: 271.7773193359375\n",
      "Epoch: 9 avg loss: 257.44446540601325\n",
      "Epoch: 10 Batch: 1/19 Loss: 263.095166015625\n",
      "Epoch: 10 Batch: 11/19 Loss: 254.9685791015625\n",
      "Epoch: 10 avg loss: 252.99657709911617\n",
      "Epoch: 11 Batch: 1/19 Loss: 233.23349609375\n",
      "Epoch: 11 Batch: 11/19 Loss: 254.5045654296875\n",
      "Epoch: 11 avg loss: 247.26260530105745\n",
      "Epoch: 12 Batch: 1/19 Loss: 224.3842041015625\n",
      "Epoch: 12 Batch: 11/19 Loss: 236.237255859375\n",
      "Epoch: 12 avg loss: 233.62341185290404\n",
      "Epoch: 13 Batch: 1/19 Loss: 221.917333984375\n",
      "Epoch: 13 Batch: 11/19 Loss: 194.978369140625\n",
      "Epoch: 13 avg loss: 222.07535005819918\n",
      "Epoch: 14 Batch: 1/19 Loss: 221.3043212890625\n",
      "Epoch: 14 Batch: 11/19 Loss: 239.5055908203125\n",
      "Epoch: 14 avg loss: 219.9834230981692\n",
      "Epoch: 15 Batch: 1/19 Loss: 265.489990234375\n",
      "Epoch: 15 Batch: 11/19 Loss: 214.625390625\n",
      "Epoch: 15 avg loss: 228.01035008285984\n",
      "Epoch: 16 Batch: 1/19 Loss: 190.770703125\n",
      "Epoch: 16 Batch: 11/19 Loss: 290.5021728515625\n",
      "Epoch: 16 avg loss: 219.15086226029828\n",
      "Epoch: 17 Batch: 1/19 Loss: 190.3659423828125\n",
      "Epoch: 17 Batch: 11/19 Loss: 189.4965087890625\n",
      "Epoch: 17 avg loss: 210.50755048038982\n",
      "Epoch: 18 Batch: 1/19 Loss: 222.646240234375\n",
      "Epoch: 18 Batch: 11/19 Loss: 222.24091796875\n",
      "Epoch: 18 avg loss: 235.11070605961964\n",
      "Epoch: 19 Batch: 1/19 Loss: 190.00469970703125\n",
      "Epoch: 19 Batch: 11/19 Loss: 228.54130859375\n",
      "Epoch: 19 avg loss: 217.98428560507418\n",
      "Epoch: 20 Batch: 1/19 Loss: 183.2310546875\n",
      "Epoch: 20 Batch: 11/19 Loss: 217.24052734375\n",
      "Epoch: 20 avg loss: 208.61891744594382\n",
      "Epoch: 21 Batch: 1/19 Loss: 188.1810546875\n",
      "Epoch: 21 Batch: 11/19 Loss: 193.09090576171874\n",
      "Epoch: 21 avg loss: 185.41831954801924\n",
      "Epoch: 22 Batch: 1/19 Loss: 166.8952392578125\n",
      "Epoch: 22 Batch: 11/19 Loss: 190.965087890625\n",
      "Epoch: 22 avg loss: 188.71719699435764\n",
      "Epoch: 23 Batch: 1/19 Loss: 162.21475830078126\n",
      "Epoch: 23 Batch: 11/19 Loss: 198.86744384765626\n",
      "Epoch: 23 avg loss: 175.36283797447126\n",
      "Epoch: 24 Batch: 1/19 Loss: 169.44102783203124\n",
      "Epoch: 24 Batch: 11/19 Loss: 153.828564453125\n",
      "Epoch: 24 avg loss: 169.4577969637784\n",
      "Epoch: 25 Batch: 1/19 Loss: 207.158447265625\n",
      "Epoch: 25 Batch: 11/19 Loss: 152.50712890625\n",
      "Epoch: 25 avg loss: 159.72956616950756\n",
      "Epoch: 26 Batch: 1/19 Loss: 185.3602294921875\n",
      "Epoch: 26 Batch: 11/19 Loss: 165.361328125\n",
      "Epoch: 26 avg loss: 158.33585365372474\n",
      "Epoch: 27 Batch: 1/19 Loss: 122.16470947265626\n",
      "Epoch: 27 Batch: 11/19 Loss: 164.5455322265625\n",
      "Epoch: 27 avg loss: 146.15083636659566\n",
      "Epoch: 28 Batch: 1/19 Loss: 134.42115478515626\n",
      "Epoch: 28 Batch: 11/19 Loss: 147.39923095703125\n",
      "Epoch: 28 avg loss: 140.04655687736744\n",
      "Epoch: 29 Batch: 1/19 Loss: 145.05985107421876\n",
      "Epoch: 29 Batch: 11/19 Loss: 130.33885498046874\n",
      "Epoch: 29 avg loss: 136.4283465761127\n",
      "Epoch: 30 Batch: 1/19 Loss: 127.87174072265626\n",
      "Epoch: 30 Batch: 11/19 Loss: 173.86278076171874\n",
      "Epoch: 30 avg loss: 133.7707457879577\n",
      "Epoch: 31 Batch: 1/19 Loss: 107.6949951171875\n",
      "Epoch: 31 Batch: 11/19 Loss: 140.59766845703126\n",
      "Epoch: 31 avg loss: 145.82939872356377\n",
      "Epoch: 32 Batch: 1/19 Loss: 144.89212646484376\n",
      "Epoch: 32 Batch: 11/19 Loss: 148.23048095703126\n",
      "Epoch: 32 avg loss: 152.17205810546875\n",
      "Epoch: 33 Batch: 1/19 Loss: 129.47095947265626\n",
      "Epoch: 33 Batch: 11/19 Loss: 165.0790771484375\n",
      "Epoch: 33 avg loss: 138.6729982934817\n",
      "Epoch: 34 Batch: 1/19 Loss: 125.3750732421875\n",
      "Epoch: 34 Batch: 11/19 Loss: 140.0750244140625\n",
      "Epoch: 34 avg loss: 128.37588408499053\n",
      "Epoch: 35 Batch: 1/19 Loss: 141.64410400390625\n",
      "Epoch: 35 Batch: 11/19 Loss: 125.71082763671875\n",
      "Epoch: 35 avg loss: 115.54163707386364\n",
      "Epoch: 36 Batch: 1/19 Loss: 120.83046875\n",
      "Epoch: 36 Batch: 11/19 Loss: 126.78782958984375\n",
      "Epoch: 36 avg loss: 124.67055226335621\n",
      "Epoch: 37 Batch: 1/19 Loss: 151.93441162109374\n",
      "Epoch: 37 Batch: 11/19 Loss: 147.53887939453125\n",
      "Epoch: 37 avg loss: 127.63463369041982\n",
      "Epoch: 38 Batch: 1/19 Loss: 129.59893798828125\n",
      "Epoch: 38 Batch: 11/19 Loss: 161.73826904296874\n",
      "Epoch: 38 avg loss: 118.95459847498422\n",
      "Epoch: 39 Batch: 1/19 Loss: 113.12078857421875\n",
      "Epoch: 39 Batch: 11/19 Loss: 91.448583984375\n",
      "Epoch: 39 avg loss: 115.70284171056265\n",
      "Epoch: 40 Batch: 1/19 Loss: 160.28946533203126\n",
      "Epoch: 40 Batch: 11/19 Loss: 125.67967529296875\n",
      "Epoch: 40 avg loss: 133.00197901870266\n"
     ]
    }
   ],
   "source": [
    "train(encoder, decoder, train_loader, optimizer, num_epochs = 40, x_len=x_len, y_len=y_len, z_len=z_len)"
   ]
  },
  {
   "cell_type": "code",
   "execution_count": 445,
   "metadata": {},
   "outputs": [],
   "source": [
    "torch.save(encoder, \"models/train_lebron2_encoder\")\n",
    "torch.save(decoder, \"models/train_lebron2_decoder\")"
   ]
  },
  {
   "cell_type": "code",
   "execution_count": 744,
   "metadata": {},
   "outputs": [
    {
     "data": {
      "text/plain": [
       "Decoder(\n",
       "  (lin1): Linear(in_features=20, out_features=3888, bias=True)\n",
       "  (lin2): Linear(in_features=3888, out_features=11664, bias=True)\n",
       "  (lin3): Linear(in_features=11664, out_features=15552, bias=True)\n",
       ")"
      ]
     },
     "execution_count": 744,
     "metadata": {},
     "output_type": "execute_result"
    }
   ],
   "source": [
    "trained_encoder = torch.load(\"models/train_lebron1_encoder\")\n",
    "trained_encoder.eval()\n",
    "trained_decoder = torch.load(\"models/train_lebron1_decoder\")\n",
    "trained_decoder.eval()"
   ]
  },
  {
   "cell_type": "code",
   "execution_count": 745,
   "metadata": {},
   "outputs": [
    {
     "data": {
      "text/plain": [
       "<matplotlib.colorbar.Colorbar at 0x1b914b00f0>"
      ]
     },
     "execution_count": 745,
     "metadata": {},
     "output_type": "execute_result"
    },
    {
     "data": {
      "image/png": "[encoded data removed]",
      "text/plain": [
       "<Figure size 720x432 with 2 Axes>"
      ]
     },
     "metadata": {
      "needs_background": "light"
     },
     "output_type": "display_data"
    }
   ],
   "source": [
    "test_features = []\n",
    "test_labels=[]\n",
    "test_sigmas=[]\n",
    "for i in range(len(train_images)):\n",
    "    z, sigma = trained_encoder(train_images[i])\n",
    "    z = z.detach().numpy()\n",
    "    z = np.squeeze(z)\n",
    "    test_features.append(z)\n",
    "    test_sigmas.append(sigma)\n",
    "    \n",
    "x1 = list(np.linspace(0,39, 40).astype(int))\n",
    "x2 = list(np.linspace(60,len(images)-1, len(images)-60).astype(int))\n",
    "test_labels = x1+x2\n",
    "\n",
    "test_features = np.array(test_features)\n",
    "test_labels = np.array(test_labels)\n",
    "\n",
    "#reduce dimensionality to 2D, we consider a subset of data because TSNE\n",
    "tsne_features = TSNE(n_components=2).fit_transform(test_features)\n",
    "fig = plt.figure(figsize=(10, 6))\n",
    "\n",
    "plt.scatter(tsne_features[:, 0], tsne_features[:, 1], c=test_labels[:tsne_features.shape[0]], marker='o',\n",
    "            edgecolor='none', cmap=plt.cm.get_cmap('jet', 10), s = 10)\n",
    "plt.grid(False)\n",
    "plt.axis('on')\n",
    "plt.colorbar()"
   ]
  },
  {
   "cell_type": "code",
   "execution_count": 746,
   "metadata": {},
   "outputs": [
    {
     "data": {
      "image/png": "[encoded data removed]",
      "text/plain": [
       "<Figure size 432x288 with 1 Axes>"
      ]
     },
     "metadata": {
      "needs_background": "light"
     },
     "output_type": "display_data"
    },
    {
     "name": "stdout",
     "output_type": "stream",
     "text": [
      "Avg latent space dist: 0.42134417975362987\n",
      "Missing frames latent dist: : 3.9903147220611572\n"
     ]
    }
   ],
   "source": [
    "plt.title(\"Distance between each latent space point\")\n",
    "plt.plot(get_latent_dist(test_features))\n",
    "plt.show()\n",
    "print(\"Avg latent space dist: \" + str(get_latent_dist(test_features).mean()))\n",
    "print(\"Missing frames latent dist: : \" + str(get_latent_dist(test_features).max()))"
   ]
  },
  {
   "cell_type": "code",
   "execution_count": 698,
   "metadata": {},
   "outputs": [
    {
     "name": "stdout",
     "output_type": "stream",
     "text": [
      "0: 0.014521268\n",
      "1: 0.012718208\n",
      "2: 0.01232038\n",
      "3: 0.01173434\n",
      "4: 0.010636539\n",
      "5: 0.008204623\n",
      "6: 0.0061403103\n",
      "7: 0.0061341743\n",
      "8: 0.0064333593\n",
      "9: 0.008657239\n",
      "10: 0.01028142\n",
      "11: 0.010435781\n",
      "12: 0.009913987\n",
      "13: 0.009922938\n",
      "14: 0.010996689\n",
      "15: 0.010901237\n",
      "16: 0.010018974\n",
      "17: 0.009008276\n",
      "18: 0.008539774\n",
      "19: 0.008542053\n",
      "20: 0.009651374\n",
      "21: 0.010051397\n",
      "22: 0.010185425\n",
      "23: 0.010021306\n",
      "24: 0.009332046\n",
      "25: 0.009334649\n",
      "26: 0.011106489\n",
      "27: 0.013233643\n",
      "28: 0.01572583\n",
      "29: 0.015564395\n",
      "30: 0.015237803\n",
      "31: 0.015240228\n",
      "32: 0.015237953\n",
      "33: 0.012630225\n",
      "34: 0.011916162\n",
      "35: 0.012510994\n",
      "36: 0.012211617\n",
      "37: 0.012218045\n",
      "38: 0.013012054\n",
      "39: 0.017764445\n",
      "40: 0.012451358\n",
      "41: 0.012451816\n",
      "42: 0.012457008\n",
      "43: 0.011092776\n",
      "44: 0.012599553\n",
      "45: 0.013902933\n",
      "46: 0.015579851\n",
      "47: 0.0155760525\n",
      "48: 0.015226526\n",
      "49: 0.01781502\n",
      "50: 0.017354691\n",
      "51: 0.01376791\n",
      "52: 0.009473418\n",
      "53: 0.009473823\n",
      "54: 0.008826303\n",
      "55: 0.010040124\n",
      "56: 0.011331594\n",
      "57: 0.01258888\n",
      "58: 0.014610146\n",
      "59: 0.014608795\n",
      "60: 0.020682665\n",
      "61: 0.024143174\n",
      "62: 0.025300158\n",
      "63: 0.025888741\n",
      "64: 0.025657661\n",
      "65: 0.025648816\n",
      "66: 0.024479065\n",
      "67: 0.022303326\n",
      "68: 0.019301469\n",
      "69: 0.012674475\n",
      "70: 0.004543486\n",
      "71: 0.0045410045\n",
      "72: 0.005524402\n",
      "73: 0.012003482\n",
      "74: 0.01535471\n",
      "75: 0.014003791\n",
      "76: 0.0081996815\n",
      "77: 0.00819325\n",
      "78: 0.0066789356\n",
      "79: 0.009621228\n",
      "80: 0.010430799\n",
      "81: 0.0061005084\n",
      "82: 0.0034020036\n",
      "83: 0.0034025721\n",
      "84: 0.006281988\n",
      "85: 0.008338224\n",
      "86: 0.011051753\n",
      "87: 0.012995493\n",
      "88: 0.0062668105\n",
      "89: 0.0062646093\n",
      "90: 0.0049606776\n",
      "91: 0.009268632\n",
      "92: 0.014118004\n",
      "93: 0.010624597\n",
      "94: 0.005653648\n",
      "95: 0.005648404\n",
      "96: 0.006657793\n",
      "97: 0.011206076\n",
      "98: 0.015992511\n",
      "avg error: 0.011948332\n",
      "0.012142667188746126 upper bound\n"
     ]
    }
   ],
   "source": [
    "# Test MSE of latent space\n",
    "trained_mse = []\n",
    "decoded_train_images = []\n",
    "for i in range(len(train_images)):\n",
    "    decoded_train_images.append(trained_decoder(sample(torch.from_numpy(test_features[i].astype(np.float32)), test_sigmas[i], testing=True)))\n",
    "results = grade_results(train_images, decoded_train_images)\n",
    "mean,variance = get_mean_variance(results)\n",
    "print(str(mean + variance.max()) + \" upper bound\")"
   ]
  },
  {
   "cell_type": "code",
   "execution_count": 747,
   "metadata": {},
   "outputs": [
    {
     "name": "stderr",
     "output_type": "stream",
     "text": [
      "/Users/joshpapermaster/anaconda3/lib/python3.7/site-packages/sklearn/base.py:434: FutureWarning: The default value of multioutput (not exposed in score method) will change from 'variance_weighted' to 'uniform_average' in 0.23 to keep consistent with 'metrics.r2_score'. To specify the default value manually and avoid the warning, please either call 'metrics.r2_score' directly or make a custom scorer with 'metrics.make_scorer' (the built-in scorer 'r2' uses multioutput='uniform_average').\n",
      "  \"multioutput='uniform_average').\", FutureWarning)\n"
     ]
    },
    {
     "data": {
      "text/plain": [
       "0.9986969208284076"
      ]
     },
     "execution_count": 747,
     "metadata": {},
     "output_type": "execute_result"
    }
   ],
   "source": [
    "x1 = list(np.linspace(0,39, 40).astype(int))\n",
    "x2 = list(np.linspace(60,len(images)-1, len(images)-60).astype(int))\n",
    "X = x1+x2\n",
    "X = np.array(X).reshape(-1, 1)\n",
    "kernel = RBF()*ConstantKernel()+WhiteKernel()\n",
    "gpr = GaussianProcessRegressor(kernel=kernel, n_restarts_optimizer=4, random_state=0).fit(X, test_features)\n",
    "gpr.score(X, test_features)"
   ]
  },
  {
   "cell_type": "code",
   "execution_count": 750,
   "metadata": {},
   "outputs": [],
   "source": [
    "test_x = np.linspace(40,60, 20).astype(int).reshape(-1,1)\n",
    "predictions, std = gpr.predict(test_x, return_std=True)\n",
    "predictions = torch.from_numpy(predictions.astype(np.float32))\n",
    "log_vars = torch.from_numpy(np.log(std**2))"
   ]
  },
  {
   "cell_type": "code",
   "execution_count": 462,
   "metadata": {},
   "outputs": [],
   "source": [
    "recovered_images=[]\n",
    "for i in range(len(test_x)):\n",
    "    recovered_images.append(trained_decoder(sample(predictions[i], log_vars[i], testing=True)).squeeze())"
   ]
  },
  {
   "cell_type": "code",
   "execution_count": 457,
   "metadata": {},
   "outputs": [],
   "source": [
    "df = pd.DataFrame(test_features)\n",
    "df.to_csv(\"latent_space20.csv\")\n",
    "df = pd.DataFrame(X)\n",
    "df.to_csv(\"latent_space_x20.csv\")"
   ]
  },
  {
   "cell_type": "code",
   "execution_count": 463,
   "metadata": {},
   "outputs": [
    {
     "name": "stdout",
     "output_type": "stream",
     "text": [
      "0: 0.023064964\n",
      "1: 0.021879992\n",
      "2: 0.01867803\n",
      "3: 0.01853227\n",
      "4: 0.015547087\n",
      "5: 0.012841156\n",
      "6: 0.011673181\n",
      "7: 0.012755939\n",
      "8: 0.016852\n",
      "9: 0.020093894\n",
      "10: 0.022461683\n",
      "11: 0.023158396\n",
      "12: 0.022040835\n",
      "13: 0.020463929\n",
      "14: 0.020270374\n",
      "15: 0.019941919\n",
      "16: 0.018981557\n",
      "17: 0.018086514\n",
      "18: 0.016309187\n",
      "19: 0.0140192425\n",
      "avg error: 0.018382609\n"
     ]
    }
   ],
   "source": [
    "test_pred = images[40:60]\n",
    "grade_results(test_pred, recovered_images);"
   ]
  },
  {
   "cell_type": "code",
   "execution_count": 751,
   "metadata": {},
   "outputs": [
    {
     "name": "stdout",
     "output_type": "stream",
     "text": [
      "Avg posterior variance: 0.2592506568452754\n"
     ]
    }
   ],
   "source": [
    "print (\"Avg posterior variance: \" + str(np.exp(log_vars.numpy()).mean()))"
   ]
  },
  {
   "cell_type": "code",
   "execution_count": 472,
   "metadata": {},
   "outputs": [
    {
     "name": "stderr",
     "output_type": "stream",
     "text": [
      "                                                              "
     ]
    },
    {
     "name": "stdout",
     "output_type": "stream",
     "text": [
      "Moviepy - Building video recreated_movies/20_lost_frames_lebron_1.mp4.\n",
      "Moviepy - Writing video recreated_movies/20_lost_frames_lebron_1.mp4\n",
      "\n",
      "Moviepy - Done !\n",
      "Moviepy - video ready recreated_movies/20_lost_frames_lebron_1.mp4\n"
     ]
    },
    {
     "name": "stderr",
     "output_type": "stream",
     "text": [
      "\r"
     ]
    }
   ],
   "source": [
    "temp_images = data[0]\n",
    "temp_blanks = []\n",
    "for i in range(10):\n",
    "    temp_blanks.append(black_img)\n",
    "temp_images = temp_images[:40] + temp_blanks + temp_images[60:]\n",
    "create_img_folder(temp_images, \"20_blacked_out_lebron1\")\n",
    "recreate_movie(\"20_blacked_out_lebron1\", \"recreated_movies/20_lost_frames_lebron_1\")"
   ]
  },
  {
   "cell_type": "code",
   "execution_count": 492,
   "metadata": {},
   "outputs": [
    {
     "name": "stderr",
     "output_type": "stream",
     "text": [
      "                                                                "
     ]
    },
    {
     "name": "stdout",
     "output_type": "stream",
     "text": [
      "Moviepy - Building video recreated_movies/recovered_20_lebron1.mp4.\n",
      "Moviepy - Writing video recreated_movies/recovered_20_lebron1.mp4\n",
      "\n",
      "Moviepy - Done !\n",
      "Moviepy - video ready recreated_movies/recovered_20_lebron1.mp4\n"
     ]
    },
    {
     "name": "stderr",
     "output_type": "stream",
     "text": [
      "\r"
     ]
    }
   ],
   "source": [
    "temp_images = data[0]\n",
    "temp_blanks = []\n",
    "for i in range(20):\n",
    "    temp_blanks.append(recovered_images[i])\n",
    "temp_images = temp_images[:40] + temp_blanks + temp_images[60:]\n",
    "create_img_folder(temp_images, \"recovered_20_lebron1\")\n",
    "recreate_movie(\"recovered_20_lebron1\", \"recreated_movies/recovered_20_lebron1\")"
   ]
  },
  {
   "cell_type": "code",
   "execution_count": 474,
   "metadata": {},
   "outputs": [
    {
     "data": {
      "image/png": "[encoded data removed]",
      "text/plain": [
       "<PIL.Image.Image image mode=RGB size=96x54 at 0x1AB2F66390>"
      ]
     },
     "metadata": {},
     "output_type": "display_data"
    }
   ],
   "source": [
    "display_tensor_image(recovered_images[6])"
   ]
  },
  {
   "cell_type": "markdown",
   "metadata": {},
   "source": [
    "# Scattered Missing Frames"
   ]
  },
  {
   "cell_type": "code",
   "execution_count": 752,
   "metadata": {},
   "outputs": [],
   "source": [
    "train_images = []\n",
    "test_x = []\n",
    "test_images = []\n",
    "train_x = []\n",
    "total_x = []\n",
    "for i in range(len(data[0])):\n",
    "    if i%5==0 and i!=0:\n",
    "        test_images.append(data[0][i])\n",
    "        test_x.append(i)\n",
    "        total_x.append(black_img)\n",
    "    else:\n",
    "        train_images.append(data[0][i])\n",
    "        train_x.append(i)\n",
    "        total_x.append(data[0][i])\n",
    "batch_size = 5\n",
    "x_len = train_images[0].shape[0]\n",
    "y_len = train_images[0].shape[1]\n",
    "z_len = train_images[0].shape[2]\n",
    "total_len = train_images[0].shape[0]*train_images[0].shape[1]*train_images[0].shape[2]\n",
    "train_loader = DataLoader(train_images,batch_size=batch_size,drop_last = True,shuffle=True)"
   ]
  },
  {
   "cell_type": "code",
   "execution_count": 581,
   "metadata": {},
   "outputs": [],
   "source": [
    "\n",
    "class Encoder(nn.Module):\n",
    "    def __init__(self, x_len=x_len, y_len=y_len, z_len=z_len, latent_dim=latent_dim):\n",
    "        super(Encoder, self).__init__()\n",
    "        ## YOUR CODE HERE ##\n",
    "        total_len = x_len*y_len*z_len\n",
    "        self.lin1 = nn.Linear(total_len, total_len*3//4)\n",
    "        self.lin2 = nn.Linear(total_len*3//4, total_len*1//4)\n",
    "        self.lin3a = nn.Linear(total_len*1//4, latent_dim)\n",
    "        self.lin3b = nn.Linear(total_len*1//4, latent_dim)\n",
    "  \n",
    "    def forward(self, x):\n",
    "        ## YOUR CODE HERE ##\\\n",
    "    #     print(x)\n",
    "        x = x.view(-1, total_len)\n",
    "    #     print(x)\n",
    "        x = nn.functional.relu(self.lin1(x))\n",
    "    #     print(x)\n",
    "        x = nn.functional.relu(self.lin2(x))\n",
    "        # mu, log_var\n",
    "        return self.lin3a(x), self.lin3b(x)\n",
    "\n",
    "class Decoder(nn.Module):\n",
    "    def __init__(self, x_len=x_len, y_len=y_len, z_len=z_len, latent_dim=latent_dim):\n",
    "        super(Decoder, self).__init__()\n",
    "        ## YOUR CODE HERE ##\n",
    "        total_len = x_len*y_len*z_len\n",
    "        self.lin1 = nn.Linear(latent_dim, total_len*1//4)\n",
    "        self.lin2 = nn.Linear(total_len*1//4, total_len*3//4)\n",
    "        self.lin3 = nn.Linear(total_len*3//4, total_len)\n",
    "\n",
    "    def forward(self,x):\n",
    "        ## YOUR CODE HERE ##\n",
    "        x = nn.functional.relu(self.lin1(x))\n",
    "        x = nn.functional.relu(self.lin2(x))\n",
    "        x = torch.sigmoid(self.lin3(x))\n",
    "        return x.view(-1, x_len, y_len, z_len)"
   ]
  },
  {
   "cell_type": "code",
   "execution_count": 582,
   "metadata": {},
   "outputs": [],
   "source": [
    "encoder = Encoder(x_len,y_len,z_len,latent_dim)\n",
    "decoder = Decoder(x_len,y_len,z_len,latent_dim)\n",
    "params = list(encoder.parameters())+list(decoder.parameters())\n",
    "optimizer = optim.Adam(params, lr=1e-3)"
   ]
  },
  {
   "cell_type": "code",
   "execution_count": 583,
   "metadata": {
    "collapsed": true,
    "jupyter": {
     "outputs_hidden": true
    }
   },
   "outputs": [
    {
     "name": "stdout",
     "output_type": "stream",
     "text": [
      "Epoch: 1 Batch: 1/19 Loss: 1161.5484375\n",
      "Epoch: 1 Batch: 11/19 Loss: 1532.36005859375\n",
      "Epoch: 1 avg loss: 1522.1639302571614\n",
      "Epoch: 2 Batch: 1/19 Loss: 1306.7123046875\n",
      "Epoch: 2 Batch: 11/19 Loss: 564.89287109375\n",
      "Epoch: 2 avg loss: 596.2792689005533\n",
      "Epoch: 3 Batch: 1/19 Loss: 457.124658203125\n",
      "Epoch: 3 Batch: 11/19 Loss: 435.61181640625\n",
      "Epoch: 3 avg loss: 418.2473538716634\n",
      "Epoch: 4 Batch: 1/19 Loss: 388.7469482421875\n",
      "Epoch: 4 Batch: 11/19 Loss: 389.791552734375\n",
      "Epoch: 4 avg loss: 371.7119140625\n",
      "Epoch: 5 Batch: 1/19 Loss: 318.144189453125\n",
      "Epoch: 5 Batch: 11/19 Loss: 339.8393798828125\n",
      "Epoch: 5 avg loss: 326.4059232076009\n",
      "Epoch: 6 Batch: 1/19 Loss: 302.7243408203125\n",
      "Epoch: 6 Batch: 11/19 Loss: 339.63974609375\n",
      "Epoch: 6 avg loss: 306.48866017659503\n",
      "Epoch: 7 Batch: 1/19 Loss: 299.63544921875\n",
      "Epoch: 7 Batch: 11/19 Loss: 306.2961669921875\n",
      "Epoch: 7 avg loss: 295.67143122355145\n",
      "Epoch: 8 Batch: 1/19 Loss: 327.2535888671875\n",
      "Epoch: 8 Batch: 11/19 Loss: 309.3496337890625\n",
      "Epoch: 8 avg loss: 283.5728899637858\n",
      "Epoch: 9 Batch: 1/19 Loss: 243.4706787109375\n",
      "Epoch: 9 Batch: 11/19 Loss: 265.3151611328125\n",
      "Epoch: 9 avg loss: 275.2913538614909\n",
      "Epoch: 10 Batch: 1/19 Loss: 269.2836181640625\n",
      "Epoch: 10 Batch: 11/19 Loss: 266.358447265625\n",
      "Epoch: 10 avg loss: 264.82723871866864\n",
      "Epoch: 11 Batch: 1/19 Loss: 242.2008544921875\n",
      "Epoch: 11 Batch: 11/19 Loss: 257.603564453125\n",
      "Epoch: 11 avg loss: 257.2642186482747\n",
      "Epoch: 12 Batch: 1/19 Loss: 247.3166259765625\n",
      "Epoch: 12 Batch: 11/19 Loss: 223.516064453125\n",
      "Epoch: 12 avg loss: 256.0674171447754\n",
      "Epoch: 13 Batch: 1/19 Loss: 267.1583251953125\n",
      "Epoch: 13 Batch: 11/19 Loss: 231.899853515625\n",
      "Epoch: 13 avg loss: 245.31075541178384\n",
      "Epoch: 14 Batch: 1/19 Loss: 244.99794921875\n",
      "Epoch: 14 Batch: 11/19 Loss: 272.3814697265625\n",
      "Epoch: 14 avg loss: 247.843412399292\n",
      "Epoch: 15 Batch: 1/19 Loss: 223.503857421875\n",
      "Epoch: 15 Batch: 11/19 Loss: 293.6887939453125\n",
      "Epoch: 15 avg loss: 245.97387568155924\n",
      "Epoch: 16 Batch: 1/19 Loss: 277.7501220703125\n",
      "Epoch: 16 Batch: 11/19 Loss: 233.3950927734375\n",
      "Epoch: 16 avg loss: 240.71978378295898\n",
      "Epoch: 17 Batch: 1/19 Loss: 219.512646484375\n",
      "Epoch: 17 Batch: 11/19 Loss: 245.5201171875\n",
      "Epoch: 17 avg loss: 246.04328982035318\n",
      "Epoch: 18 Batch: 1/19 Loss: 280.00009765625\n",
      "Epoch: 18 Batch: 11/19 Loss: 376.4132568359375\n",
      "Epoch: 18 avg loss: 293.03430557250977\n",
      "Epoch: 19 Batch: 1/19 Loss: 211.40595703125\n",
      "Epoch: 19 Batch: 11/19 Loss: 216.1746337890625\n",
      "Epoch: 19 avg loss: 233.2353375752767\n",
      "Epoch: 20 Batch: 1/19 Loss: 193.9384521484375\n",
      "Epoch: 20 Batch: 11/19 Loss: 239.951025390625\n",
      "Epoch: 20 avg loss: 218.31995391845703\n",
      "Epoch: 21 Batch: 1/19 Loss: 184.57608642578126\n",
      "Epoch: 21 Batch: 11/19 Loss: 225.918701171875\n",
      "Epoch: 21 avg loss: 231.87381998697916\n",
      "Epoch: 22 Batch: 1/19 Loss: 245.01923828125\n",
      "Epoch: 22 Batch: 11/19 Loss: 193.60301513671874\n",
      "Epoch: 22 avg loss: 219.54029083251953\n",
      "Epoch: 23 Batch: 1/19 Loss: 244.690673828125\n",
      "Epoch: 23 Batch: 11/19 Loss: 179.37706298828124\n",
      "Epoch: 23 avg loss: 199.08397738138834\n",
      "Epoch: 24 Batch: 1/19 Loss: 181.43603515625\n",
      "Epoch: 24 Batch: 11/19 Loss: 179.92650146484374\n",
      "Epoch: 24 avg loss: 189.11544863382974\n",
      "Epoch: 25 Batch: 1/19 Loss: 173.35338134765624\n",
      "Epoch: 25 Batch: 11/19 Loss: 244.8314453125\n",
      "Epoch: 25 avg loss: 196.8684933980306\n",
      "Epoch: 26 Batch: 1/19 Loss: 198.772216796875\n",
      "Epoch: 26 Batch: 11/19 Loss: 193.1793212890625\n",
      "Epoch: 26 avg loss: 186.9660129547119\n",
      "Epoch: 27 Batch: 1/19 Loss: 187.27777099609375\n",
      "Epoch: 27 Batch: 11/19 Loss: 175.7866455078125\n",
      "Epoch: 27 avg loss: 175.79549026489258\n",
      "Epoch: 28 Batch: 1/19 Loss: 193.70179443359376\n",
      "Epoch: 28 Batch: 11/19 Loss: 174.89390869140624\n",
      "Epoch: 28 avg loss: 180.47271092732748\n",
      "Epoch: 29 Batch: 1/19 Loss: 196.83887939453126\n",
      "Epoch: 29 Batch: 11/19 Loss: 191.9559814453125\n",
      "Epoch: 29 avg loss: 184.2114111582438\n",
      "Epoch: 30 Batch: 1/19 Loss: 202.585205078125\n",
      "Epoch: 30 Batch: 11/19 Loss: 168.22916259765626\n",
      "Epoch: 30 avg loss: 166.62842305501303\n",
      "Epoch: 31 Batch: 1/19 Loss: 154.9091552734375\n",
      "Epoch: 31 Batch: 11/19 Loss: 146.37982177734375\n",
      "Epoch: 31 avg loss: 155.24580574035645\n",
      "Epoch: 32 Batch: 1/19 Loss: 137.97872314453124\n",
      "Epoch: 32 Batch: 11/19 Loss: 133.12830810546876\n",
      "Epoch: 32 avg loss: 139.89924303690592\n",
      "Epoch: 33 Batch: 1/19 Loss: 130.4533203125\n",
      "Epoch: 33 Batch: 11/19 Loss: 194.925830078125\n",
      "Epoch: 33 avg loss: 152.008082707723\n",
      "Epoch: 34 Batch: 1/19 Loss: 146.89200439453126\n",
      "Epoch: 34 Batch: 11/19 Loss: 113.20806884765625\n",
      "Epoch: 34 avg loss: 174.05878067016602\n",
      "Epoch: 35 Batch: 1/19 Loss: 118.41856689453125\n",
      "Epoch: 35 Batch: 11/19 Loss: 212.1253173828125\n",
      "Epoch: 35 avg loss: 211.28510411580405\n",
      "Epoch: 36 Batch: 1/19 Loss: 192.51236572265626\n",
      "Epoch: 36 Batch: 11/19 Loss: 146.54405517578124\n",
      "Epoch: 36 avg loss: 173.12230491638184\n",
      "Epoch: 37 Batch: 1/19 Loss: 184.243212890625\n",
      "Epoch: 37 Batch: 11/19 Loss: 146.928564453125\n",
      "Epoch: 37 avg loss: 166.2591355641683\n",
      "Epoch: 38 Batch: 1/19 Loss: 157.5540283203125\n",
      "Epoch: 38 Batch: 11/19 Loss: 131.4251953125\n",
      "Epoch: 38 avg loss: 160.85423278808594\n",
      "Epoch: 39 Batch: 1/19 Loss: 189.87060546875\n",
      "Epoch: 39 Batch: 11/19 Loss: 160.6895263671875\n",
      "Epoch: 39 avg loss: 162.36566098531088\n",
      "Epoch: 40 Batch: 1/19 Loss: 148.78826904296875\n",
      "Epoch: 40 Batch: 11/19 Loss: 175.5731201171875\n",
      "Epoch: 40 avg loss: 169.17449506123862\n",
      "Epoch: 41 Batch: 1/19 Loss: 120.09940185546876\n",
      "Epoch: 41 Batch: 11/19 Loss: 259.8093994140625\n",
      "Epoch: 41 avg loss: 166.43962478637695\n",
      "Epoch: 42 Batch: 1/19 Loss: 149.1004150390625\n",
      "Epoch: 42 Batch: 11/19 Loss: 131.53365478515624\n",
      "Epoch: 42 avg loss: 149.25991503397623\n",
      "Epoch: 43 Batch: 1/19 Loss: 172.68385009765626\n",
      "Epoch: 43 Batch: 11/19 Loss: 119.38475341796875\n",
      "Epoch: 43 avg loss: 145.00705909729004\n",
      "Epoch: 44 Batch: 1/19 Loss: 139.18665771484376\n",
      "Epoch: 44 Batch: 11/19 Loss: 142.3280029296875\n",
      "Epoch: 44 avg loss: 135.58517487843832\n",
      "Epoch: 45 Batch: 1/19 Loss: 140.04283447265624\n",
      "Epoch: 45 Batch: 11/19 Loss: 130.22576904296875\n",
      "Epoch: 45 avg loss: 143.27096843719482\n",
      "Epoch: 46 Batch: 1/19 Loss: 112.43837890625\n",
      "Epoch: 46 Batch: 11/19 Loss: 128.96162109375\n",
      "Epoch: 46 avg loss: 130.60747655232748\n",
      "Epoch: 47 Batch: 1/19 Loss: 141.68233642578124\n",
      "Epoch: 47 Batch: 11/19 Loss: 154.5459716796875\n",
      "Epoch: 47 avg loss: 121.80345630645752\n",
      "Epoch: 48 Batch: 1/19 Loss: 80.05867309570313\n",
      "Epoch: 48 Batch: 11/19 Loss: 128.687548828125\n",
      "Epoch: 48 avg loss: 124.57192357381184\n",
      "Epoch: 49 Batch: 1/19 Loss: 136.0886962890625\n",
      "Epoch: 49 Batch: 11/19 Loss: 153.828515625\n",
      "Epoch: 49 avg loss: 125.467103322347\n",
      "Epoch: 50 Batch: 1/19 Loss: 86.88994140625\n",
      "Epoch: 50 Batch: 11/19 Loss: 143.63299560546875\n",
      "Epoch: 50 avg loss: 119.69644069671631\n",
      "Epoch: 51 Batch: 1/19 Loss: 99.26907958984376\n",
      "Epoch: 51 Batch: 11/19 Loss: 94.09031372070312\n",
      "Epoch: 51 avg loss: 113.3988463083903\n",
      "Epoch: 52 Batch: 1/19 Loss: 102.489794921875\n",
      "Epoch: 52 Batch: 11/19 Loss: 113.0260009765625\n",
      "Epoch: 52 avg loss: 114.40033372243245\n",
      "Epoch: 53 Batch: 1/19 Loss: 116.469482421875\n",
      "Epoch: 53 Batch: 11/19 Loss: 118.23564453125\n",
      "Epoch: 53 avg loss: 129.6796350479126\n",
      "Epoch: 54 Batch: 1/19 Loss: 122.4125\n",
      "Epoch: 54 Batch: 11/19 Loss: 104.75509033203124\n",
      "Epoch: 54 avg loss: 124.67091433207194\n",
      "Epoch: 55 Batch: 1/19 Loss: 101.50618896484374\n",
      "Epoch: 55 Batch: 11/19 Loss: 110.84873046875\n",
      "Epoch: 55 avg loss: 115.02959791819255\n",
      "Epoch: 56 Batch: 1/19 Loss: 82.11412963867187\n",
      "Epoch: 56 Batch: 11/19 Loss: 134.9235107421875\n",
      "Epoch: 56 avg loss: 109.05008920033772\n",
      "Epoch: 57 Batch: 1/19 Loss: 118.08773193359374\n",
      "Epoch: 57 Batch: 11/19 Loss: 105.33883056640624\n",
      "Epoch: 57 avg loss: 111.5595531463623\n",
      "Epoch: 58 Batch: 1/19 Loss: 82.72638549804688\n",
      "Epoch: 58 Batch: 11/19 Loss: 120.08341064453126\n",
      "Epoch: 58 avg loss: 118.61639817555745\n",
      "Epoch: 59 Batch: 1/19 Loss: 114.23485107421875\n",
      "Epoch: 59 Batch: 11/19 Loss: 80.11666870117188\n",
      "Epoch: 59 avg loss: 119.83628940582275\n",
      "Epoch: 60 Batch: 1/19 Loss: 102.12570190429688\n",
      "Epoch: 60 Batch: 11/19 Loss: 94.1520263671875\n",
      "Epoch: 60 avg loss: 113.25766118367513\n",
      "Epoch: 61 Batch: 1/19 Loss: 109.37269287109375\n",
      "Epoch: 61 Batch: 11/19 Loss: 127.37958984375\n",
      "Epoch: 61 avg loss: 132.39354165395102\n",
      "Epoch: 62 Batch: 1/19 Loss: 67.80899047851562\n",
      "Epoch: 62 Batch: 11/19 Loss: 135.9287353515625\n",
      "Epoch: 62 avg loss: 120.37396081288655\n",
      "Epoch: 63 Batch: 1/19 Loss: 110.85113525390625\n",
      "Epoch: 63 Batch: 11/19 Loss: 131.72530517578124\n",
      "Epoch: 63 avg loss: 113.38402303059895\n",
      "Epoch: 64 Batch: 1/19 Loss: 99.20772705078124\n",
      "Epoch: 64 Batch: 11/19 Loss: 139.2901123046875\n",
      "Epoch: 64 avg loss: 111.98138364156087\n",
      "Epoch: 65 Batch: 1/19 Loss: 78.90638427734375\n",
      "Epoch: 65 Batch: 11/19 Loss: 93.17808837890625\n",
      "Epoch: 65 avg loss: 109.61238956451416\n"
     ]
    }
   ],
   "source": [
    "train(encoder, decoder, train_loader, optimizer, num_epochs = 65, x_len=x_len, y_len=y_len, z_len=z_len)"
   ]
  },
  {
   "cell_type": "code",
   "execution_count": 584,
   "metadata": {},
   "outputs": [],
   "source": [
    "torch.save(encoder, \"models/scattered_lebron_encoder\")\n",
    "torch.save(decoder, \"models/scattered_lebron_decoder\")"
   ]
  },
  {
   "cell_type": "code",
   "execution_count": 753,
   "metadata": {},
   "outputs": [
    {
     "data": {
      "text/plain": [
       "Decoder(\n",
       "  (lin1): Linear(in_features=20, out_features=3888, bias=True)\n",
       "  (lin2): Linear(in_features=3888, out_features=11664, bias=True)\n",
       "  (lin3): Linear(in_features=11664, out_features=15552, bias=True)\n",
       ")"
      ]
     },
     "execution_count": 753,
     "metadata": {},
     "output_type": "execute_result"
    }
   ],
   "source": [
    "trained_encoder = torch.load(\"models/scattered_lebron_encoder\")\n",
    "trained_encoder.eval()\n",
    "trained_decoder = torch.load(\"models/scattered_lebron_decoder\")\n",
    "trained_decoder.eval()"
   ]
  },
  {
   "cell_type": "code",
   "execution_count": 678,
   "metadata": {},
   "outputs": [
    {
     "data": {
      "image/png": "[encoded data removed]",
      "text/plain": [
       "<PIL.Image.Image image mode=RGB size=96x54 at 0x1B5F6A05F8>"
      ]
     },
     "metadata": {},
     "output_type": "display_data"
    }
   ],
   "source": [
    "Amu, Alog_var = trained_encoder(train_images[80])\n",
    "Aresult = trained_decoder(sample(Amu, Alog_var, testing=True))\n",
    "display_tensor_image(Aresult[0])"
   ]
  },
  {
   "cell_type": "code",
   "execution_count": 757,
   "metadata": {},
   "outputs": [
    {
     "data": {
      "text/plain": [
       "<matplotlib.colorbar.Colorbar at 0x1b91c353c8>"
      ]
     },
     "execution_count": 757,
     "metadata": {},
     "output_type": "execute_result"
    },
    {
     "data": {
      "image/png": "[encoded data removed]",
      "text/plain": [
       "<Figure size 720x432 with 2 Axes>"
      ]
     },
     "metadata": {
      "needs_background": "light"
     },
     "output_type": "display_data"
    }
   ],
   "source": [
    "test_features = []\n",
    "test_sigs = []\n",
    "test_labels=[]\n",
    "for i in range(len(train_images)):\n",
    "    z, sigma = trained_encoder(train_images[i])\n",
    "    z = z.detach().numpy()\n",
    "    z = np.squeeze(z)\n",
    "    test_features.append(z)\n",
    "    test_sigs.append(sigma)\n",
    "    \n",
    "test_labels = train_x\n",
    "\n",
    "test_features = np.array(test_features)\n",
    "test_labels = np.array(test_labels)\n",
    "\n",
    "#reduce dimensionality to 2D, we consider a subset of data because TSNE\n",
    "tsne_features = TSNE(n_components=2).fit_transform(test_features)\n",
    "fig = plt.figure(figsize=(10, 6))\n",
    "\n",
    "plt.scatter(tsne_features[:, 0], tsne_features[:, 1], c=test_labels[:tsne_features.shape[0]], marker='o',\n",
    "            edgecolor='none', cmap=plt.cm.get_cmap('jet', 10), s = 10)\n",
    "plt.grid(False)\n",
    "plt.axis('on')\n",
    "plt.colorbar()"
   ]
  },
  {
   "cell_type": "code",
   "execution_count": 764,
   "metadata": {},
   "outputs": [
    {
     "data": {
      "image/png": "[encoded data removed]",
      "text/plain": [
       "<Figure size 432x288 with 1 Axes>"
      ]
     },
     "metadata": {
      "needs_background": "light"
     },
     "output_type": "display_data"
    },
    {
     "name": "stdout",
     "output_type": "stream",
     "text": [
      "Avg latent space dist: 0.6968104788500472\n",
      "Max latent dist: : 3.0581839084625244\n"
     ]
    }
   ],
   "source": [
    "plt.title(\"Distance between each latent space point\")\n",
    "plt.plot(get_latent_dist(test_features))\n",
    "plt.show()\n",
    "print(\"Avg latent space dist: \" + str(get_latent_dist(test_features).mean()))\n",
    "print(\"Max latent dist: : \" + str(get_latent_dist(test_features).max()))"
   ]
  },
  {
   "cell_type": "code",
   "execution_count": 681,
   "metadata": {},
   "outputs": [
    {
     "name": "stdout",
     "output_type": "stream",
     "text": [
      "0: 0.0093252305\n",
      "1: 0.007152417\n",
      "2: 0.0071967766\n",
      "3: 0.0071430006\n",
      "4: 0.009084895\n",
      "5: 0.0039853775\n",
      "6: 0.003981346\n",
      "7: 0.003426079\n",
      "8: 0.007718606\n",
      "9: 0.011640175\n",
      "10: 0.009327959\n",
      "11: 0.009327991\n",
      "12: 0.009336246\n",
      "13: 0.00867147\n",
      "14: 0.007167002\n",
      "15: 0.0056160614\n",
      "16: 0.005620262\n",
      "17: 0.008947016\n",
      "18: 0.008731734\n",
      "19: 0.008274603\n",
      "20: 0.009700805\n",
      "21: 0.011037592\n",
      "22: 0.01154639\n",
      "23: 0.011879186\n",
      "24: 0.011924242\n",
      "25: 0.011498983\n",
      "26: 0.011643525\n",
      "27: 0.012569484\n",
      "28: 0.015739547\n",
      "29: 0.0039537866\n",
      "30: 0.0039573535\n",
      "31: 0.0073430357\n",
      "32: 0.011855014\n",
      "33: 0.008909678\n",
      "34: 0.0028667895\n",
      "35: 0.002859474\n",
      "36: 0.008056593\n",
      "37: 0.011586297\n",
      "38: 0.009137973\n",
      "39: 0.0049210642\n",
      "40: 0.0049226102\n",
      "41: 0.008573873\n",
      "42: 0.00506531\n",
      "43: 0.0057054786\n",
      "44: 0.008278845\n",
      "45: 0.008570887\n",
      "46: 0.008940985\n",
      "47: 0.009186016\n",
      "48: 0.009460116\n",
      "49: 0.008818367\n",
      "50: 0.007794787\n",
      "51: 0.0088712\n",
      "52: 0.010063924\n",
      "53: 0.0043562646\n",
      "54: 0.0043630116\n",
      "55: 0.0058298446\n",
      "56: 0.007935587\n",
      "57: 0.009571684\n",
      "58: 0.005141797\n",
      "59: 0.005140458\n",
      "60: 0.0069985995\n",
      "61: 0.0063867345\n",
      "62: 0.006209349\n",
      "63: 0.0022329066\n",
      "64: 0.0022317574\n",
      "65: 0.0072311005\n",
      "66: 0.0042054965\n",
      "67: 0.0041883867\n",
      "68: 0.005057012\n",
      "69: 0.004445268\n",
      "70: 0.003272042\n",
      "71: 0.0040757847\n",
      "72: 0.005925647\n",
      "73: 0.0058162594\n",
      "74: 0.0049514407\n",
      "75: 0.0044291476\n",
      "76: 0.0069130044\n",
      "77: 0.004269902\n",
      "78: 0.004268286\n",
      "79: 0.00522027\n",
      "80: 0.0077730897\n",
      "81: 0.012214294\n",
      "82: 0.0043690293\n",
      "83: 0.004365234\n",
      "84: 0.008154257\n",
      "85: 0.007711625\n",
      "86: 0.0046816505\n",
      "87: 0.004163335\n",
      "88: 0.004167969\n",
      "89: 0.008601165\n",
      "90: 0.003596541\n",
      "91: 0.003661407\n",
      "92: 0.0050906134\n",
      "93: 0.0037790951\n",
      "94: 0.00246098\n",
      "95: 0.0068835425\n",
      "avg error: 0.0069922325\n"
     ]
    }
   ],
   "source": [
    "# Test MSE of latent space\n",
    "trained_mse = []\n",
    "decoded_train_images = []\n",
    "for i in range(len(train_images)):\n",
    "    decoded_train_images.append(trained_decoder(sample(torch.from_numpy(test_features[i].astype(np.float32)), test_sigs[i], testing=True)))\n",
    "results = grade_results(train_images, decoded_train_images)\n",
    "mean,variance = get_mean_variance(results)\n",
    "print(str(mean + variance.max()) + \" upper bound\")"
   ]
  },
  {
   "cell_type": "code",
   "execution_count": 688,
   "metadata": {},
   "outputs": [
    {
     "data": {
      "text/plain": [
       "0.007068748040442028"
      ]
     },
     "execution_count": 688,
     "metadata": {},
     "output_type": "execute_result"
    }
   ],
   "source": [
    "mean,variance = get_mean_variance(results)\n",
    "mean + variance.max()"
   ]
  },
  {
   "cell_type": "code",
   "execution_count": 606,
   "metadata": {},
   "outputs": [],
   "source": [
    "df = pd.DataFrame(test_features)\n",
    "df.to_csv(\"latent_space_scattered_y.csv\")\n",
    "df = pd.DataFrame(train_x)\n",
    "df.to_csv(\"latent_space_scattered_x.csv\")\n",
    "df = pd.DataFrame(test_x)\n",
    "df.to_csv(\"latent_space_scattered_pred_x.csv\")"
   ]
  },
  {
   "cell_type": "code",
   "execution_count": 599,
   "metadata": {},
   "outputs": [
    {
     "name": "stderr",
     "output_type": "stream",
     "text": [
      "/Users/joshpapermaster/anaconda3/lib/python3.7/site-packages/sklearn/base.py:434: FutureWarning: The default value of multioutput (not exposed in score method) will change from 'variance_weighted' to 'uniform_average' in 0.23 to keep consistent with 'metrics.r2_score'. To specify the default value manually and avoid the warning, please either call 'metrics.r2_score' directly or make a custom scorer with 'metrics.make_scorer' (the built-in scorer 'r2' uses multioutput='uniform_average').\n",
      "  \"multioutput='uniform_average').\", FutureWarning)\n"
     ]
    },
    {
     "data": {
      "text/plain": [
       "0.9950824811463671"
      ]
     },
     "execution_count": 599,
     "metadata": {},
     "output_type": "execute_result"
    }
   ],
   "source": [
    "X = np.array(train_x).reshape(-1, 1)\n",
    "kernel = RBF()*ConstantKernel()+WhiteKernel()\n",
    "gpr = GaussianProcessRegressor(kernel=kernel, n_restarts_optimizer=4, random_state=0).fit(X, test_features)\n",
    "gpr.score(X, test_features)"
   ]
  },
  {
   "cell_type": "code",
   "execution_count": 601,
   "metadata": {},
   "outputs": [],
   "source": [
    "X_test = np.array(test_x).reshape(-1,1)\n",
    "predictions, std = gpr.predict(X_test, return_std=True)\n",
    "predictions = torch.from_numpy(predictions.astype(np.float32))\n",
    "log_vars = torch.from_numpy(np.log(std**2))\n",
    "\n",
    "recovered_images=[]\n",
    "for i in range(len(X_test)):\n",
    "    recovered_images.append(trained_decoder(sample(predictions[i], log_vars[i], testing=True)).squeeze())"
   ]
  },
  {
   "cell_type": "code",
   "execution_count": 602,
   "metadata": {},
   "outputs": [
    {
     "name": "stdout",
     "output_type": "stream",
     "text": [
      "0: 0.010010283\n",
      "1: 0.0116272075\n",
      "2: 0.010114334\n",
      "3: 0.008902749\n",
      "4: 0.0088462215\n",
      "5: 0.013687951\n",
      "6: 0.013892336\n",
      "7: 0.012410878\n",
      "8: 0.0156807\n",
      "9: 0.011023336\n",
      "10: 0.007748647\n",
      "11: 0.008657884\n",
      "12: 0.009565843\n",
      "13: 0.014472833\n",
      "14: 0.010980681\n",
      "15: 0.009911918\n",
      "16: 0.005664369\n",
      "17: 0.006987347\n",
      "18: 0.009213635\n",
      "19: 0.012586427\n",
      "20: 0.01103397\n",
      "21: 0.013853019\n",
      "22: 0.00441135\n",
      "avg error: 0.010490606\n"
     ]
    }
   ],
   "source": [
    "grade_results(test_images, recovered_images);"
   ]
  },
  {
   "cell_type": "code",
   "execution_count": 705,
   "metadata": {},
   "outputs": [
    {
     "name": "stdout",
     "output_type": "stream",
     "text": [
      "Avg posterior variance: 0.008325881026316817\n"
     ]
    }
   ],
   "source": [
    "print (\"Avg posterior variance: \" + str(np.exp(log_vars.numpy()).mean()))"
   ]
  },
  {
   "cell_type": "code",
   "execution_count": 604,
   "metadata": {},
   "outputs": [
    {
     "name": "stderr",
     "output_type": "stream",
     "text": [
      "t:   0%|          | 0/119 [00:00<?, ?it/s, now=None]"
     ]
    },
    {
     "name": "stdout",
     "output_type": "stream",
     "text": [
      "Moviepy - Building video recreated_movies/scattered_blacked_out_lebron1.mp4.\n",
      "Moviepy - Writing video recreated_movies/scattered_blacked_out_lebron1.mp4\n",
      "\n"
     ]
    },
    {
     "name": "stderr",
     "output_type": "stream",
     "text": [
      "                                                              \r"
     ]
    },
    {
     "name": "stdout",
     "output_type": "stream",
     "text": [
      "Moviepy - Done !\n",
      "Moviepy - video ready recreated_movies/scattered_blacked_out_lebron1.mp4\n"
     ]
    }
   ],
   "source": [
    "create_img_folder(total_x, \"scattered_blacked_out_lebron1\")\n",
    "recreate_movie(\"scattered_blacked_out_lebron1\", \"recreated_movies/scattered_blacked_out_lebron1\")"
   ]
  },
  {
   "cell_type": "code",
   "execution_count": 620,
   "metadata": {},
   "outputs": [
    {
     "name": "stderr",
     "output_type": "stream",
     "text": [
      "                                                              "
     ]
    },
    {
     "name": "stdout",
     "output_type": "stream",
     "text": [
      "Moviepy - Building video recreated_movies/recovered_scattered_lebron1.mp4.\n",
      "Moviepy - Writing video recreated_movies/recovered_scattered_lebron1.mp4\n",
      "\n",
      "Moviepy - Done !\n",
      "Moviepy - video ready recreated_movies/recovered_scattered_lebron1.mp4\n"
     ]
    },
    {
     "name": "stderr",
     "output_type": "stream",
     "text": [
      "\r"
     ]
    }
   ],
   "source": [
    "temp_images = data[0]\n",
    "temp_results = []\n",
    "r=0\n",
    "for i in range(len(total_x)):\n",
    "    if (i%5==0 and i!=0):\n",
    "        temp_results.append(recovered_images[r])\n",
    "        r+=1\n",
    "    else:\n",
    "        temp_results.append(total_x[i])\n",
    "create_img_folder(temp_results, \"recovered_scattered_lebron1\")\n",
    "recreate_movie(\"recovered_scattered_lebron1\", \"recreated_movies/recovered_scattered_lebron1\")"
   ]
  },
  {
   "cell_type": "code",
   "execution_count": 636,
   "metadata": {},
   "outputs": [],
   "source": [
    "standard_vae_x = copy(total_x)"
   ]
  },
  {
   "cell_type": "raw",
   "metadata": {},
   "source": []
  },
  {
   "cell_type": "code",
   "execution_count": 759,
   "metadata": {},
   "outputs": [],
   "source": [
    "j=1\n",
    "standard_recovered=[]\n",
    "for i in range(5,len(standard_vae_x),5):\n",
    "    temp = test_features[i-j] + test_features[i-j+1]\n",
    "    temp /= 2\n",
    "    temp = torch.from_numpy(temp.astype(np.float32))\n",
    "    standard_recovered.append(trained_decoder(temp).squeeze())\n",
    "    standard_vae_x[i] = trained_decoder(temp).squeeze()\n",
    "    j+=1"
   ]
  },
  {
   "cell_type": "code",
   "execution_count": 760,
   "metadata": {},
   "outputs": [
    {
     "name": "stdout",
     "output_type": "stream",
     "text": [
      "0: 0.009623822\n",
      "1: 0.01138548\n",
      "2: 0.010300301\n",
      "3: 0.00920091\n",
      "4: 0.009159508\n",
      "5: 0.012621178\n",
      "6: 0.013316086\n",
      "7: 0.0119523965\n",
      "8: 0.013310293\n",
      "9: 0.010801323\n",
      "10: 0.0076897596\n",
      "11: 0.008704123\n",
      "12: 0.0095367\n",
      "13: 0.01402087\n",
      "14: 0.010335571\n",
      "15: 0.009134312\n",
      "16: 0.0059385435\n",
      "17: 0.0067053526\n",
      "18: 0.008559444\n",
      "19: 0.012667761\n",
      "20: 0.011330297\n",
      "21: 0.011772575\n",
      "22: 0.004308963\n",
      "avg error: 0.010103286\n"
     ]
    }
   ],
   "source": [
    "results = grade_results(test_images, standard_recovered);"
   ]
  },
  {
   "cell_type": "code",
   "execution_count": 763,
   "metadata": {},
   "outputs": [
    {
     "name": "stdout",
     "output_type": "stream",
     "text": [
      "Variance: 0.010136860423576963\n"
     ]
    }
   ],
   "source": [
    "mean,variance = get_mean_variance(results)\n",
    "print(\"Variance: \" + str(mean + variance.max()))"
   ]
  },
  {
   "cell_type": "code",
   "execution_count": null,
   "metadata": {},
   "outputs": [],
   "source": []
  },
  {
   "cell_type": "code",
   "execution_count": 638,
   "metadata": {},
   "outputs": [
    {
     "name": "stderr",
     "output_type": "stream",
     "text": [
      "                                                              "
     ]
    },
    {
     "name": "stdout",
     "output_type": "stream",
     "text": [
      "Moviepy - Building video recreated_movies/standard_scattered_lebron1.mp4.\n",
      "Moviepy - Writing video recreated_movies/standard_scattered_lebron1.mp4\n",
      "\n",
      "Moviepy - Done !\n",
      "Moviepy - video ready recreated_movies/standard_scattered_lebron1.mp4\n"
     ]
    },
    {
     "name": "stderr",
     "output_type": "stream",
     "text": [
      "\r"
     ]
    }
   ],
   "source": [
    "create_img_folder(standard_vae_x, \"standard_scattered_lebron1\")\n",
    "recreate_movie(\"standard_scattered_lebron1\", \"recreated_movies/standard_scattered_lebron1\")"
   ]
  },
  {
   "cell_type": "code",
   "execution_count": 645,
   "metadata": {},
   "outputs": [],
   "source": [
    "stan_preds = pd.read_csv(\"prediction_2.csv\")"
   ]
  },
  {
   "cell_type": "code",
   "execution_count": 648,
   "metadata": {},
   "outputs": [],
   "source": [
    "stan_preds = np.array(stan_preds.T)"
   ]
  },
  {
   "cell_type": "code",
   "execution_count": 649,
   "metadata": {},
   "outputs": [],
   "source": [
    "X_test = np.array(test_x).reshape(-1,1)\n",
    "predictions = torch.from_numpy(stan_preds.astype(np.float32))\n",
    "log_vars =torch.from_numpy(np.log(std**2))\n",
    "\n",
    "stan_recovered_images=[]\n",
    "for i in range(len(X_test)):\n",
    "    stan_recovered_images.append(trained_decoder(sample(predictions[i], log_vars[i], testing=True)).squeeze())"
   ]
  },
  {
   "cell_type": "code",
   "execution_count": 650,
   "metadata": {},
   "outputs": [
    {
     "name": "stdout",
     "output_type": "stream",
     "text": [
      "0: 0.05494583\n",
      "1: 0.040166896\n",
      "2: 0.040520623\n",
      "3: 0.043126386\n",
      "4: 0.03968046\n",
      "5: 0.022683077\n",
      "6: 0.015389903\n",
      "7: 0.02289606\n",
      "8: 0.032020926\n",
      "9: 0.035230685\n",
      "10: 0.03121022\n",
      "11: 0.029083185\n",
      "12: 0.024211532\n",
      "13: 0.03102974\n",
      "14: 0.030894734\n",
      "15: 0.03237866\n",
      "16: 0.033531055\n",
      "17: 0.041142408\n",
      "18: 0.043065555\n",
      "19: 0.04504876\n",
      "20: 0.04718068\n",
      "21: 0.050249886\n",
      "22: 0.05398563\n",
      "avg error: 0.036507517\n"
     ]
    }
   ],
   "source": [
    "grade_results(test_images, stan_recovered_images);"
   ]
  },
  {
   "cell_type": "code",
   "execution_count": 658,
   "metadata": {},
   "outputs": [
    {
     "data": {
      "image/png": "[encoded data removed]",
      "text/plain": [
       "<PIL.Image.Image image mode=RGB size=96x54 at 0x1B27DDAE10>"
      ]
     },
     "metadata": {},
     "output_type": "display_data"
    }
   ],
   "source": [
    "display_tensor_image(stan_recovered_images[18])"
   ]
  },
  {
   "cell_type": "code",
   "execution_count": 664,
   "metadata": {},
   "outputs": [],
   "source": []
  },
  {
   "cell_type": "code",
   "execution_count": null,
   "metadata": {},
   "outputs": [],
   "source": []
  },
  {
   "cell_type": "code",
   "execution_count": 702,
   "metadata": {},
   "outputs": [
    {
     "data": {
      "text/plain": [
       "array([0.00847777, 0.00832615, 0.00829677, 0.00828938, 0.00828738,\n",
       "       0.00828683, 0.00828667, 0.00828663, 0.00828662, 0.00828661,\n",
       "       0.00828661, 0.00828661, 0.00828661, 0.00828661, 0.00828662,\n",
       "       0.00828666, 0.00828677, 0.00828716, 0.00828854, 0.00829349,\n",
       "       0.00831191, 0.00838798, 0.00880887])"
      ]
     },
     "execution_count": 702,
     "metadata": {},
     "output_type": "execute_result"
    }
   ],
   "source": [
    "std**2"
   ]
  },
  {
   "cell_type": "code",
   "execution_count": null,
   "metadata": {},
   "outputs": [],
   "source": []
  }
 ],
 "metadata": {
  "kernelspec": {
   "display_name": "Python 3",
   "language": "python",
   "name": "python3"
  },
  "language_info": {
   "codemirror_mode": {
    "name": "ipython",
    "version": 3
   },
   "file_extension": ".py",
   "mimetype": "text/x-python",
   "name": "python",
   "nbconvert_exporter": "python",
   "pygments_lexer": "ipython3",
   "version": "3.7.3"
  }
 },
 "nbformat": 4,
 "nbformat_minor": 4
}
