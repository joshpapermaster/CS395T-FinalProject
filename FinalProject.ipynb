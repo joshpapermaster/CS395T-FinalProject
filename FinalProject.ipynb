{
 "cells": [
  {
   "cell_type": "code",
   "execution_count": 1,
   "metadata": {},
   "outputs": [],
   "source": [
    "# Program To Read video \n",
    "# and Extract Frames \n",
    "\n",
    "# import sys\n",
    "# !{sys.executable} -m pip install opencv-python\n",
    "# !{sys.executable} -m pip install moviepy\n",
    "\n",
    "import cv2 \n",
    "import os\n",
    "import sys\n",
    "import shutil\n",
    "import numpy as np\n",
    "import moviepy.video.io.ImageSequenceClip\n",
    "import torch \n",
    "import numpy as np\n",
    "from PIL import Image\n",
    "from torch import optim, nn\n",
    "import matplotlib.pyplot as plt\n",
    "from torchvision.transforms import ToTensor"
   ]
  },
  {
   "cell_type": "code",
   "execution_count": 22,
   "metadata": {},
   "outputs": [],
   "source": [
    "def FrameCapture(path, vid_num): \n",
    "      \n",
    "    # Path to video file \n",
    "    vidObj = cv2.VideoCapture(path) \n",
    "  \n",
    "    # Used as counter variable \n",
    "    count = 0\n",
    "    success = 1\n",
    "    images=[]\n",
    "    try:\n",
    "        shutil.rmtree(\"lebron_dunk\" + str(vid_num))\n",
    "        os.mkdir(\"lebron_dunk\" + str(vid_num))\n",
    "    except OSError as e:\n",
    "        os.mkdir(\"lebron_dunk\" + str(vid_num))\n",
    "    while success: \n",
    "  \n",
    "        # vidObj object calls read \n",
    "        # function extract frames \n",
    "        success, image = vidObj.read() \n",
    "        # Saves the frames with frame-count \n",
    "        if image is not None and len(image) > 0:\n",
    "            cv2.imwrite(\"lebron_dunk\" + str(vid_num) + \"/frame\" + str(1000+count) + \".jpg\", image) \n",
    "            img = Image.open(\"lebron_dunk\" + str(vid_num) + \"/frame\" + str(1000+count) + \".jpg\")\n",
    "            img = img.resize((img.size[0]//10, img.size[1]//10), Image.ANTIALIAS)\n",
    "            img.save(\"lebron_dunk\" + str(vid_num) + \"/frame\" + str(1000+count) + \".jpg\")\n",
    "            img = ToTensor()(img) # unsqueeze to add artificial first dimension\n",
    "            images.append(img)\n",
    "        count += 1\n",
    "#     return np.array(images).astype(np.float32)\n",
    "    return images"
   ]
  },
  {
   "cell_type": "code",
   "execution_count": 23,
   "metadata": {},
   "outputs": [],
   "source": [
    "data = []\n",
    "for i in range(1, 11):\n",
    "    temp = FrameCapture(\"movies/lebron_dunk\" + str(i) + \".mp4\", i)\n",
    "    data.append(temp)"
   ]
  },
  {
   "cell_type": "code",
   "execution_count": null,
   "metadata": {},
   "outputs": [],
   "source": []
  },
  {
   "cell_type": "code",
   "execution_count": 25,
   "metadata": {},
   "outputs": [
    {
     "data": {
      "image/png": "[encoded data removed]",
      "text/plain": [
       "<PIL.Image.Image image mode=RGB size=96x54 at 0x122499668>"
      ]
     },
     "execution_count": 25,
     "metadata": {},
     "output_type": "execute_result"
    }
   ],
   "source": []
  },
  {
   "cell_type": "code",
   "execution_count": 28,
   "metadata": {},
   "outputs": [],
   "source": [
    "def recreate_movie(image_folder, new_name):\n",
    "    fps=30\n",
    "    image_files = [image_folder+'/'+img for img in os.listdir(image_folder) if img.endswith(\".jpg\")]\n",
    "    image_files.sort()\n",
    "    clip = moviepy.video.io.ImageSequenceClip.ImageSequenceClip(image_files, fps=fps)\n",
    "    clip.write_videofile(new_name + '.mp4')"
   ]
  },
  {
   "cell_type": "code",
   "execution_count": 29,
   "metadata": {},
   "outputs": [
    {
     "name": "stderr",
     "output_type": "stream",
     "text": [
      "                                                              "
     ]
    },
    {
     "name": "stdout",
     "output_type": "stream",
     "text": [
      "Moviepy - Building video recreated_movies/lebron_1.mp4.\n",
      "Moviepy - Writing video recreated_movies/lebron_1.mp4\n",
      "\n",
      "Moviepy - Done !\n",
      "Moviepy - video ready recreated_movies/lebron_1.mp4\n"
     ]
    },
    {
     "name": "stderr",
     "output_type": "stream",
     "text": [
      "\r"
     ]
    }
   ],
   "source": [
    "recreate_movie('lebron_dunk1', 'recreated_movies/lebron_1')"
   ]
  },
  {
   "cell_type": "code",
   "execution_count": 38,
   "metadata": {},
   "outputs": [
    {
     "data": {
      "text/plain": [
       "119"
      ]
     },
     "execution_count": 38,
     "metadata": {},
     "output_type": "execute_result"
    }
   ],
   "source": [
    "len(data[0])"
   ]
  },
  {
   "cell_type": "code",
   "execution_count": 30,
   "metadata": {},
   "outputs": [],
   "source": [
    "from torchvision import datasets, transforms\n",
    "\n",
    "## YOUR CODE HERE ##\n",
    "batch_size = 1\n",
    "latent_dim = 20\n",
    "transformations = transforms.ToTensor()\n",
    "# mnist_train =  datasets.MNIST(loc_data, train=True, download=True, transform = transformations)\n",
    "# mnist_test = datasets.MNIST(loc_data, train=False, download=True, transform = transformations)"
   ]
  },
  {
   "cell_type": "code",
   "execution_count": 53,
   "metadata": {},
   "outputs": [],
   "source": [
    "images = data[0]\n",
    "x_len = images[0].shape[0]\n",
    "y_len = images[0].shape[1]\n",
    "z_len = images[0].shape[2]\n",
    "total_len = images[0].shape[0]*images[0].shape[1]*images[0].shape[2]"
   ]
  },
  {
   "cell_type": "code",
   "execution_count": 41,
   "metadata": {},
   "outputs": [],
   "source": [
    "from torch.utils.data import DataLoader\n",
    "train_loader = DataLoader(images,batch_size=batch_size,drop_last = True,shuffle=False)"
   ]
  },
  {
   "cell_type": "code",
   "execution_count": 54,
   "metadata": {},
   "outputs": [],
   "source": [
    "\n",
    "class Encoder(nn.Module):\n",
    "  def __init__(self, latent_dim):\n",
    "    super(Encoder, self).__init__()\n",
    "    ## YOUR CODE HERE ##\n",
    "    self.lin1 = nn.Linear(total_len, total_len*3//4)\n",
    "    self.lin2 = nn.Linear(total_len*3//4, total_len*1//4)\n",
    "    self.lin3a = nn.Linear(total_len*1//4, latent_dim)\n",
    "    self.lin3b = nn.Linear(total_len*1//4, latent_dim)\n",
    "  \n",
    "  def forward(self, x):\n",
    "    ## YOUR CODE HERE ##\\\n",
    "    x = x.view(-1, total_len)\n",
    "#     print(x)\n",
    "    x = nn.functional.relu(self.lin1(x))\n",
    "#     print(x)\n",
    "    x = nn.functional.relu(self.lin2(x))\n",
    "    # mu, log_var\n",
    "    return self.lin3a(x), self.lin3b(x)\n",
    "\n",
    "class Decoder(nn.Module):\n",
    "  def __init__(self, latent_dim):\n",
    "    super(Decoder, self).__init__()\n",
    "    ## YOUR CODE HERE ##\n",
    "    self.lin1 = nn.Linear(latent_dim, total_len*1//4)\n",
    "    self.lin2 = nn.Linear(total_len*1//4, total_len*3//4)\n",
    "    self.lin3 = nn.Linear(total_len*3//4, total_len)\n",
    "\n",
    "  def forward(self,x):\n",
    "    ## YOUR CODE HERE ##\n",
    "    x = nn.functional.relu(self.lin1(x))\n",
    "    x = nn.functional.relu(self.lin2(x))\n",
    "    x = torch.sigmoid(self.lin3(x))\n",
    "    return x.view(x_len, y_len, z_len)"
   ]
  },
  {
   "cell_type": "code",
   "execution_count": 55,
   "metadata": {},
   "outputs": [],
   "source": [
    "from torch import exp, randn_like\n",
    "def sample(mu, logvar):\n",
    "  ## YOUR CODE HERE ##\n",
    "    std_dev = exp(0.5*logvar)\n",
    "    return randn_like(mu)*std_dev + mu"
   ]
  },
  {
   "cell_type": "code",
   "execution_count": 56,
   "metadata": {},
   "outputs": [],
   "source": [
    "from scipy.stats import norm\n",
    "def vae_loss(x, x_hat, mu, logvar):\n",
    "  ## YOUR CODE HERE ##\n",
    "  # MSE LOSS + KL DIVERGENCE \n",
    "    mse_loss = torch.nn.MSELoss(reduction='sum')\n",
    "#     mse = torch.mean(torch.pow(x-x_hat, 2))\n",
    "    kl = -0.5*torch.mean(1 + logvar - torch.pow(mu, 2) - torch.exp(logvar))\n",
    "    return (mse_loss(x, x_hat) + kl)"
   ]
  },
  {
   "cell_type": "code",
   "execution_count": 57,
   "metadata": {},
   "outputs": [],
   "source": [
    "\n",
    "\n",
    "## YOUR CODE HERE ##\n",
    "encoder = Encoder(latent_dim)\n",
    "decoder = Decoder(latent_dim)\n",
    "params = list(encoder.parameters())+list(decoder.parameters())\n",
    "optimizer = optim.Adam(params, lr=1e-3)"
   ]
  },
  {
   "cell_type": "code",
   "execution_count": 60,
   "metadata": {},
   "outputs": [],
   "source": [
    "def train(encoder, decoder, train_loader, optimizer, num_epochs = 10):\n",
    "    encoder.train()\n",
    "    decoder.train()\n",
    "    i=0\n",
    "    for epoch in range(num_epochs):\n",
    "        train_loss=0\n",
    "        for idx, data in enumerate(train_loader):\n",
    "            data = data.view(x_len, y_len, z_len)\n",
    "#             print(data.shape)\n",
    "            optimizer.zero_grad()\n",
    "            mu, log_var = encoder(data)\n",
    "            result = decoder(sample(mu, log_var))\n",
    "#             print(result)\n",
    "#             if i != 0:\n",
    "#                 return\n",
    "            loss = vae_loss(result, data, mu, log_var)\n",
    "            i+=1\n",
    "            loss.backward()\n",
    "            train_loss += loss.item()\n",
    "            optimizer.step()\n",
    "            if idx%50 == 0 :\n",
    "                print(\"Epoch: \" + str(epoch+1) + \" Batch: \" + str(idx+1)+\"/\"+str(len(train_loader.dataset)//batch_size) + \" Loss: \" + str(loss.item() / len(data)))\n",
    "        print(\"Epoch: \" + str(epoch+1) + \" avg loss: \" + str(train_loss / len(train_loader.dataset)))"
   ]
  },
  {
   "cell_type": "code",
   "execution_count": null,
   "metadata": {},
   "outputs": [
    {
     "name": "stdout",
     "output_type": "stream",
     "text": [
      "Epoch: 1 Batch: 1/119 Loss: 1317817770.6666667\n",
      "Epoch: 1 Batch: 51/119 Loss: 972.1253255208334\n"
     ]
    }
   ],
   "source": [
    "train(encoder, decoder, train_loader, optimizer, num_epochs = 10)"
   ]
  },
  {
   "cell_type": "code",
   "execution_count": null,
   "metadata": {},
   "outputs": [],
   "source": []
  },
  {
   "cell_type": "code",
   "execution_count": 294,
   "metadata": {},
   "outputs": [],
   "source": [
    "\n",
    "Amu, Alog_var = encoder(images[0])\n",
    "Aresult = decoder(sample(Amu, Alog_var))"
   ]
  },
  {
   "cell_type": "code",
   "execution_count": 213,
   "metadata": {},
   "outputs": [],
   "source": [
    "for idx, data in enumerate(train_loader):\n",
    "    data = data.view(-1, x_len, y_len)/255\n",
    "    mu, log_var = encoder(data)\n",
    "    result = decoder(sample(mu, log_var))\n",
    "    break\n",
    "#             print(result)\n",
    "#             if i != 0:\n",
    "#                 return\n",
    "#     loss = vae_loss(result, data, mu, log_var)\n",
    "#     i+=1\n",
    "#     loss.backward()\n",
    "#     train_loss += loss.item()\n",
    "#     optimizer.step()"
   ]
  },
  {
   "cell_type": "code",
   "execution_count": 295,
   "metadata": {},
   "outputs": [
    {
     "data": {
      "text/plain": [
       "<matplotlib.image.AxesImage at 0x137669ac8>"
      ]
     },
     "execution_count": 295,
     "metadata": {},
     "output_type": "execute_result"
    },
    {
     "data": {
      "image/png": "[encoded data removed]",
      "text/plain": [
       "<Figure size 432x288 with 1 Axes>"
      ]
     },
     "metadata": {
      "needs_background": "light"
     },
     "output_type": "display_data"
    }
   ],
   "source": [
    "plt.imshow(Aresult.detach().numpy()[0])"
   ]
  },
  {
   "cell_type": "code",
   "execution_count": 296,
   "metadata": {},
   "outputs": [
    {
     "data": {
      "text/plain": [
       "array([[0.2591318 , 0.19090378, 0.20884179, ..., 0.17035276, 0.14299782,\n",
       "        0.14497215],\n",
       "       [0.18867424, 0.15483862, 0.15350024, ..., 0.2692045 , 0.23376402,\n",
       "        0.26145387],\n",
       "       [0.24430583, 0.21621224, 0.24926248, ..., 0.16624177, 0.13715088,\n",
       "        0.15552469],\n",
       "       ...,\n",
       "       [0.28568104, 0.19070049, 0.29048282, ..., 0.3922836 , 0.2601436 ,\n",
       "        0.33433163],\n",
       "       [0.39923337, 0.25534746, 0.33532134, ..., 0.5430732 , 0.4874085 ,\n",
       "        0.5355556 ],\n",
       "       [0.52414197, 0.46041366, 0.5201867 , ..., 0.2533327 , 0.20952615,\n",
       "        0.2326905 ]], dtype=float32)"
      ]
     },
     "execution_count": 296,
     "metadata": {},
     "output_type": "execute_result"
    }
   ],
   "source": [
    "Aresult.detach().numpy()[0]"
   ]
  },
  {
   "cell_type": "code",
   "execution_count": 298,
   "metadata": {},
   "outputs": [
    {
     "data": {
      "text/plain": [
       "<matplotlib.image.AxesImage at 0x13736dd30>"
      ]
     },
     "execution_count": 298,
     "metadata": {},
     "output_type": "execute_result"
    },
    {
     "data": {
      "image/png": "[encoded data removed]",
      "text/plain": [
       "<Figure size 432x288 with 1 Axes>"
      ]
     },
     "metadata": {
      "needs_background": "light"
     },
     "output_type": "display_data"
    }
   ],
   "source": [
    "# images[0]/255\n",
    "plt.imshow(images[0]/255)"
   ]
  },
  {
   "cell_type": "code",
   "execution_count": null,
   "metadata": {},
   "outputs": [],
   "source": []
  },
  {
   "cell_type": "code",
   "execution_count": null,
   "metadata": {},
   "outputs": [],
   "source": []
  }
 ],
 "metadata": {
  "kernelspec": {
   "display_name": "Python 3",
   "language": "python",
   "name": "python3"
  },
  "language_info": {
   "codemirror_mode": {
    "name": "ipython",
    "version": 3
   },
   "file_extension": ".py",
   "mimetype": "text/x-python",
   "name": "python",
   "nbconvert_exporter": "python",
   "pygments_lexer": "ipython3",
   "version": "3.7.3"
  }
 },
 "nbformat": 4,
 "nbformat_minor": 4
}
