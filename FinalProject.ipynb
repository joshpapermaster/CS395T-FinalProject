{
 "cells": [
  {
   "cell_type": "code",
   "execution_count": 14,
   "metadata": {},
   "outputs": [],
   "source": [
    "# Program To Read video \n",
    "# and Extract Frames \n",
    "\n",
    "# import sys\n",
    "# !{sys.executable} -m pip install opencv-python\n",
    "# !{sys.executable} -m pip install moviepy\n",
    "\n",
    "import cv2 \n",
    "import os\n",
    "import sys\n",
    "import shutil\n",
    "import numpy as np\n",
    "import moviepy.video.io.ImageSequenceClip\n",
    "from PIL import Image"
   ]
  },
  {
   "cell_type": "code",
   "execution_count": 50,
   "metadata": {},
   "outputs": [],
   "source": [
    "def FrameCapture(path, vid_num): \n",
    "      \n",
    "    # Path to video file \n",
    "    vidObj = cv2.VideoCapture(path) \n",
    "  \n",
    "    # Used as counter variable \n",
    "    count = 0\n",
    "    success = 1\n",
    "    images=[]\n",
    "    try:\n",
    "        shutil.rmtree(\"lebron_dunk\" + str(vid_num))\n",
    "        os.mkdir(\"lebron_dunk\" + str(vid_num))\n",
    "    except OSError as e:\n",
    "        os.mkdir(\"lebron_dunk\" + str(vid_num))\n",
    "    while success: \n",
    "  \n",
    "        # vidObj object calls read \n",
    "        # function extract frames \n",
    "        success, image = vidObj.read() \n",
    "        # Saves the frames with frame-count \n",
    "        if image is not None and len(image) > 0:\n",
    "            cv2.imwrite(\"lebron_dunk\" + str(vid_num) + \"/frame\" + str(1000+count) + \".jpg\", image) \n",
    "            img = Image.open(\"lebron_dunk\" + str(vid_num) + \"/frame\" + str(1000+count) + \".jpg\")\n",
    "            img = img.resize((img.size[0]//10, img.size[1]//10), Image.ANTIALIAS)\n",
    "            img.save(\"lebron_dunk\" + str(vid_num) + \"/frame\" + str(1000+count) + \".jpg\")\n",
    "            images.append(np.array(img))\n",
    "        count += 1\n",
    "    return images"
   ]
  },
  {
   "cell_type": "code",
   "execution_count": null,
   "metadata": {},
   "outputs": [],
   "source": [
    "data = []\n",
    "for i in range(1, 11):\n",
    "    temp = FrameCapture(\"movies/lebron_dunk\" + str(i) + \".mp4\", i)\n",
    "    data.append(temp)"
   ]
  },
  {
   "cell_type": "code",
   "execution_count": null,
   "metadata": {},
   "outputs": [],
   "source": []
  },
  {
   "cell_type": "code",
   "execution_count": 25,
   "metadata": {},
   "outputs": [
    {
     "data": {
      "image/png": "[encoded data removed]",
      "text/plain": [
       "<PIL.Image.Image image mode=RGB size=96x54 at 0x122499668>"
      ]
     },
     "execution_count": 25,
     "metadata": {},
     "output_type": "execute_result"
    }
   ],
   "source": []
  },
  {
   "cell_type": "code",
   "execution_count": 33,
   "metadata": {},
   "outputs": [],
   "source": [
    "def recreate_movie(image_folder, new_name):\n",
    "    fps=30\n",
    "    image_files = [image_folder+'/'+img for img in os.listdir(image_folder) if img.endswith(\".jpg\")]\n",
    "    image_files.sort()\n",
    "    clip = moviepy.video.io.ImageSequenceClip.ImageSequenceClip(image_files, fps=fps)\n",
    "    clip.write_videofile(new_name + '.mp4')"
   ]
  },
  {
   "cell_type": "code",
   "execution_count": 36,
   "metadata": {},
   "outputs": [
    {
     "name": "stderr",
     "output_type": "stream",
     "text": [
      "                                                    "
     ]
    },
    {
     "name": "stdout",
     "output_type": "stream",
     "text": [
      "Moviepy - Building video recreated_movies/lebron_1.mp4.\n",
      "Moviepy - Writing video recreated_movies/lebron_1.mp4\n",
      "\n",
      "Moviepy - Done !\n",
      "Moviepy - video ready recreated_movies/lebron_1.mp4\n"
     ]
    },
    {
     "name": "stderr",
     "output_type": "stream",
     "text": [
      "\r"
     ]
    }
   ],
   "source": [
    "recreate_movie('lebron_dunk1', 'recreated_movies/lebron_1')"
   ]
  },
  {
   "cell_type": "code",
   "execution_count": 37,
   "metadata": {},
   "outputs": [],
   "source": [
    "import torch \n",
    "import numpy as np"
   ]
  },
  {
   "cell_type": "code",
   "execution_count": 38,
   "metadata": {},
   "outputs": [],
   "source": [
    "from torchvision import datasets, transforms\n",
    "\n",
    "## YOUR CODE HERE ##\n",
    "batch_size = 10\n",
    "latent_dim = 10\n",
    "transformations = transforms.ToTensor()\n",
    "# mnist_train =  datasets.MNIST(loc_data, train=True, download=True, transform = transformations)\n",
    "# mnist_test = datasets.MNIST(loc_data, train=False, download=True, transform = transformations)"
   ]
  },
  {
   "cell_type": "code",
   "execution_count": 40,
   "metadata": {},
   "outputs": [],
   "source": [
    "images = data[0]\n",
    "total_len = images[0].shape[0]*images[0].shape[1]"
   ]
  },
  {
   "cell_type": "code",
   "execution_count": 41,
   "metadata": {},
   "outputs": [],
   "source": [
    "from torch.utils.data import DataLoader\n",
    "\n",
    "train_loader = DataLoader(images,batch_size=batch_size,drop_last = True,shuffle=False)"
   ]
  },
  {
   "cell_type": "code",
   "execution_count": 46,
   "metadata": {},
   "outputs": [],
   "source": [
    "from torch import nn\n",
    "class Encoder(nn.Module):\n",
    "  def __init__(self, latent_dim):\n",
    "    super(Encoder, self).__init__()\n",
    "    ## YOUR CODE HERE ##\n",
    "    self.lin1 = nn.Linear(total_len, total_len//2)\n",
    "    self.lin2 = nn.Linear(total_len//2, total_len//4)\n",
    "    self.lin3a = nn.Linear(total_len//4, latent_dim)\n",
    "    self.lin3b = nn.Linear(total_len//4, latent_dim)\n",
    "  \n",
    "  def forward(self, x):\n",
    "    ## YOUR CODE HERE ##\\\n",
    "    x = x.view(-1, total_len)\n",
    "    x = nn.functional.relu(self.lin1(x))\n",
    "    x = nn.functional.relu(self.lin2(x))\n",
    "    # mu, log_var\n",
    "    return self.lin3a(x), self.lin3b(x)\n",
    "\n",
    "class Decoder(nn.Module):\n",
    "  def __init__(self, latent_dim):\n",
    "    super(Decoder, self).__init__()\n",
    "    ## YOUR CODE HERE ##\n",
    "    self.lin1 = nn.Linear(latent_dim, total_len//4)\n",
    "    self.lin2 = nn.Linear(total_len//4, total_len//2)\n",
    "    self.lin3 = nn.Linear(total_len//2, total_len)\n",
    "\n",
    "  def forward(self,x):\n",
    "    ## YOUR CODE HERE ##\n",
    "    x = nn.functional.relu(self.lin1(x))\n",
    "    x = nn.functional.relu(self.lin2(x))\n",
    "    x = nn.functional.relu(self.lin3(x))\n",
    "    x = torch.sigmoid(self.lin4(x))\n",
    "    return x.view(-1, 540, 960)"
   ]
  },
  {
   "cell_type": "code",
   "execution_count": 47,
   "metadata": {},
   "outputs": [],
   "source": [
    "from torch import exp, randn_like\n",
    "def sample(mu, logvar):\n",
    "  ## YOUR CODE HERE ##\n",
    "    std_dev = exp(0.5*logvar)\n",
    "    return randn_like(mu)*std_dev + mu"
   ]
  },
  {
   "cell_type": "code",
   "execution_count": 48,
   "metadata": {},
   "outputs": [],
   "source": [
    "from scipy.stats import norm\n",
    "def vae_loss(x, x_hat, mu, logvar):\n",
    "  ## YOUR CODE HERE ##\n",
    "  # MSE LOSS + KL DIVERGENCE \n",
    "    mse_loss = torch.nn.MSELoss(reduction='sum')\n",
    "#     mse = torch.mean(torch.pow(x-x_hat, 2))\n",
    "    kl = -0.5*torch.mean(1 + logvar - torch.pow(mu, 2) - torch.exp(logvar))\n",
    "    return (mse_loss(x, x_hat) + kl)"
   ]
  },
  {
   "cell_type": "code",
   "execution_count": 49,
   "metadata": {},
   "outputs": [],
   "source": [
    "from torch import optim\n",
    "\n",
    "## YOUR CODE HERE ##\n",
    "encoder = Encoder(latent_dim)\n",
    "decoder = Decoder(latent_dim)\n",
    "params = list(encoder.parameters())+list(decoder.parameters())\n",
    "optimizer = optim.Adam(params, lr=1e-3)"
   ]
  },
  {
   "cell_type": "code",
   "execution_count": null,
   "metadata": {},
   "outputs": [],
   "source": []
  }
 ],
 "metadata": {
  "kernelspec": {
   "display_name": "Python 3",
   "language": "python",
   "name": "python3"
  },
  "language_info": {
   "codemirror_mode": {
    "name": "ipython",
    "version": 3
   },
   "file_extension": ".py",
   "mimetype": "text/x-python",
   "name": "python",
   "nbconvert_exporter": "python",
   "pygments_lexer": "ipython3",
   "version": "3.7.3"
  }
 },
 "nbformat": 4,
 "nbformat_minor": 4
}
